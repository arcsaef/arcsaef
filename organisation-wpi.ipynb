{
 "cells": [
  {
   "cell_type": "code",
   "execution_count": 18,
   "metadata": {},
   "outputs": [],
   "source": [
    "import json\n",
    "import requests\n",
    "import time\n"
   ]
  },
  {
   "cell_type": "code",
   "execution_count": 20,
   "metadata": {},
   "outputs": [],
   "source": [
    "# Highlight all journal articles of interest\n",
    "# Run get_biblio_keys.js after changing 'key' to 'DOI'\n",
    "# Tidy up copied doi's\n",
    "\n",
    "dois = [\"10.1016/j.ecolind.2024.111828\", \"10.1038/s41612-024-00625-1\", \"10.1111/brv.13094\", \"10.1111/geb.13859\", \"10.1016/j.marpol.2024.106143\", \"10.1126/sciadv.ado5107\", \"10.1111/geb.13805\", \"10.1073/pnas.2321595121\", \"10.1016/j.epsl.2024.118802\", \"10.5194/hess-28-1383-2024\", \"10.1038/s41586-024-07778-2\", \"10.1111/cobi.14349\", \"10.1016/j.cell.2024.05.032\", \"10.1007/s00382-023-07035-8\", \"10.1038/s41586-024-07672-x\", \"10.1098/rstb.2023.0323\", \"10.1111/jfb.15741\", \"10.1111/gcb.17279\", \"10.1007/s43630-024-00552-3\", \"10.1002/esp.5932\", \"10.1016/j.scitotenv.2023.168479\", \"10.5194/acp-24-1451-2024\", \"10.1093/ismejo/wrae092\", \"10.1111/2041-210X.14246\", \"10.1007/s13280-024-02009-4\", \"doi.org/10.1029/2024GL109423\", \"10.1007/s43630-024-00577-8\", \"10.1126/science.adj1856\", \"10.1098/rstb.2023.0014\", \"10.1016/j.envdev.2024.100985\", \"10.1038/s41598-024-65081-6\", \"10.1016/j.tree.2024.02.009\", \"10.1029/2023JF007513\", \"10.3897/BDJ.12.e106199\", \"10.1038/s41597-023-02784-x\", \"10.3390/s24041063\", \"10.1029/2023GL106994\", \"10.1016/j.tim.2023.11.013\", \"10.1111/gcb.17283\", \"10.1038/s41559-024-02412-w\", \"10.1029/2023GL105475\", \"10.1007/s10530-023-03209-x\", \"10.1038/s43017-024-00535-z\", \"10.1098/rstb.2023.0008\", \"10.1002/rse2.371\", \"10.1186/s40168-023-01719-3\", \"10.1007/s11222-024-10422-8\"]"
   ]
  },
  {
   "cell_type": "code",
   "execution_count": 21,
   "metadata": {},
   "outputs": [],
   "source": [
    "url = \"https://api.openalex.org/works/https://doi.org/\"\n",
    "\n",
    "for doi in dois:\n",
    "    response = requests.get(f\"{url}{doi}\") \n",
    "\n",
    "    if response.status_code == 200:\n",
    "        page  = json.loads(response.content) # dictionary \n",
    "        fname = f\"{'/Users/nxo/Workspace/GitHub/arcsaef/data/jnls_202408/'}{page.get('id').split('/')[3]}.json\"\n",
    "\n",
    "        with open(fname, mode= \"w\", encoding=\"utf-8\") as f:\n",
    "            json.dump(page, f)\n",
    "\n",
    "    time.sleep(1) # sleep for 1 second satisfies max 10 call per sec limit\n"
   ]
  },
  {
   "cell_type": "code",
   "execution_count": 22,
   "metadata": {},
   "outputs": [],
   "source": [
    "\n",
    "with open('/Users/nxo/Workspace/GitHub/arcsaef/data/jnls_202408/W4392715378.json', mode= \"r\", encoding=\"utf-8\") as f:\n",
    "    work = json.load(f)"
   ]
  },
  {
   "cell_type": "code",
   "execution_count": 40,
   "metadata": {},
   "outputs": [
    {
     "name": "stdout",
     "output_type": "stream",
     "text": [
      "['https://openalex.org/I160993911', 'https://openalex.org/I165143802']\n"
     ]
    }
   ],
   "source": [
    "print(work.get('corresponding_institution_ids'))"
   ]
  },
  {
   "cell_type": "code",
   "execution_count": 66,
   "metadata": {},
   "outputs": [
    {
     "name": "stdout",
     "output_type": "stream",
     "text": [
      "Morenikeji D. Akinlotan\n",
      "David J. Warne\n",
      "Kate J. Helmstedt\n",
      "Sarah A. Vollert\n",
      "Iadine Chadès\n",
      "Ryan F. Heneghan\n",
      "Hui Xiao\n",
      "Matthew Adams\n"
     ]
    }
   ],
   "source": [
    "for author in work['authorships']:\n",
    "    print(author['author']['display_name'])"
   ]
  },
  {
   "cell_type": "code",
   "execution_count": 51,
   "metadata": {},
   "outputs": [
    {
     "name": "stdout",
     "output_type": "stream",
     "text": [
      "Queensland University of Technology\n",
      "Queensland University of Technology\n",
      "Queensland University of Technology\n",
      "Queensland University of Technology\n",
      "CSIRO Land and Water\n",
      "Queensland University of Technology\n",
      "Deakin University\n",
      "Queensland University of Technology\n"
     ]
    }
   ],
   "source": [
    "for author in work.get('authorships'):\n",
    "    print(author.get('institutions')[0]['display_name'])"
   ]
  }
 ],
 "metadata": {
  "kernelspec": {
   "display_name": "Python 3",
   "language": "python",
   "name": "python3"
  },
  "language_info": {
   "codemirror_mode": {
    "name": "ipython",
    "version": 3
   },
   "file_extension": ".py",
   "mimetype": "text/x-python",
   "name": "python",
   "nbconvert_exporter": "python",
   "pygments_lexer": "ipython3",
   "version": "3.11.2"
  }
 },
 "nbformat": 4,
 "nbformat_minor": 2
}
