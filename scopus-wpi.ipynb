{
 "cells": [
  {
   "cell_type": "code",
   "execution_count": 1,
   "metadata": {},
   "outputs": [],
   "source": [
    "from lib import scopus"
   ]
  },
  {
   "cell_type": "code",
   "execution_count": 57,
   "metadata": {},
   "outputs": [
    {
     "data": {
      "text/plain": [
       "<module 'scopus' from 'c:\\\\Users\\\\okpokam\\\\OneDrive - Queensland University of Technology\\\\SAEF KPI Reporting\\\\scopus.py'>"
      ]
     },
     "execution_count": 57,
     "metadata": {},
     "output_type": "execute_result"
    }
   ],
   "source": [
    "import importlib\n",
    "importlib.reload(scopus)"
   ]
  },
  {
   "cell_type": "code",
   "execution_count": 34,
   "metadata": {},
   "outputs": [
    {
     "data": {
      "text/plain": [
       "'<author-retrieval-response xmlns:ait=\"http://www.elsevier.com/xml/ani/ait\" xmlns:ce=\"http://www.elsevier.com/xml/ani/common\" xmlns:cto=\"http://www.elsevier.com/xml/cto/dtd\" xmlns:dc=\"http://purl.org/dc/elements/1.1/\" xmlns:ns1=\"http://webservices.elsevier.com/schemas/search/fast/types/v4\" xmlns:prism=\"http://prismstandard.org/namespaces/basic/2.0/\" xmlns:xocs=\"http://www.elsevier.com/xml/xocs/dtd\" xmlns:xoe=\"http://www.elsevier.com/xml/xoe/dtd\" status=\"found\"><coredata><prism:url>http://api.elsevier.com/content/author/author_id/57982262000</prism:url><dc:identifier>AUTHOR_ID:57982262000</dc:identifier><document-count>181</document-count><cited-by-count>6792</cited-by-count><citation-count>8885</citation-count></coredata><h-index>43</h-index><coauthor-count>666</coauthor-count></author-retrieval-response>'"
      ]
     },
     "execution_count": 34,
     "metadata": {},
     "output_type": "execute_result"
    }
   ],
   "source": [
    "x    = scopus.get_data()['auth'][24].split(',')[0] # scopus id\n",
    "page = scopus.author_retrieval(x)"
   ]
  },
  {
   "cell_type": "code",
   "execution_count": 41,
   "metadata": {},
   "outputs": [],
   "source": [
    "scopus.h_index(page, x)"
   ]
  },
  {
   "cell_type": "code",
   "execution_count": 43,
   "metadata": {},
   "outputs": [],
   "source": [
    "for line in scopus.get_data()['auth']:\n",
    "    scopus_id = int(line.split(',')[0])\n",
    "    if scopus_id > 0:\n",
    "        scopus.h_index(scopus.author_retrieval(scopus_id), scopus_id)\n"
   ]
  },
  {
   "cell_type": "code",
   "execution_count": 58,
   "metadata": {},
   "outputs": [
    {
     "data": {
      "text/plain": [
       "'>80: 2 >70: 2 >50: 9 >40: 15 >20: 41'"
      ]
     },
     "execution_count": 58,
     "metadata": {},
     "output_type": "execute_result"
    }
   ],
   "source": [
    "fn = 'c:\\\\Users\\\\okpokam\\\\OneDrive - Queensland University of Technology\\\\SAEF KPI Reporting\\\\scopus_hindex_2023.txt'\n",
    "scopus.hindex_distribution(fn)"
   ]
  }
 ],
 "metadata": {
  "kernelspec": {
   "display_name": "Python 3",
   "language": "python",
   "name": "python3"
  },
  "language_info": {
   "codemirror_mode": {
    "name": "ipython",
    "version": 3
   },
   "file_extension": ".py",
   "mimetype": "text/x-python",
   "name": "python",
   "nbconvert_exporter": "python",
   "pygments_lexer": "ipython3",
   "version": "3.9.18"
  }
 },
 "nbformat": 4,
 "nbformat_minor": 2
}
