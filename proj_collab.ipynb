{
 "cells": [
  {
   "cell_type": "code",
   "execution_count": 6,
   "metadata": {},
   "outputs": [],
   "source": [
    "from lib import pc"
   ]
  },
  {
   "cell_type": "code",
   "execution_count": 61,
   "metadata": {},
   "outputs": [
    {
     "data": {
      "text/plain": [
       "<module 'pc' from 'c:\\\\Users\\\\okpokam\\\\OneDrive - Queensland University of Technology\\\\SAEF KPI Reporting\\\\pc.py'>"
      ]
     },
     "execution_count": 61,
     "metadata": {},
     "output_type": "execute_result"
    }
   ],
   "source": [
    "import importlib\n",
    "importlib.reload(pc)"
   ]
  },
  {
   "cell_type": "code",
   "execution_count": 62,
   "metadata": {},
   "outputs": [],
   "source": [
    "proj_collab = pc.load_data()"
   ]
  },
  {
   "cell_type": "code",
   "execution_count": 63,
   "metadata": {},
   "outputs": [
    {
     "data": {
      "text/plain": [
       "['T1_P003',\n",
       " 'T1_P004',\n",
       " 'T1_P005',\n",
       " 'T1_P006',\n",
       " 'T1_P007',\n",
       " 'T1_P008',\n",
       " 'T1_P011',\n",
       " 'T1_P012',\n",
       " 'T2_P015',\n",
       " 'T2_P016',\n",
       " 'T2_P017',\n",
       " 'T2_P019',\n",
       " 'T2_P020',\n",
       " 'T2_P022',\n",
       " 'T2_P023',\n",
       " 'T2_P025',\n",
       " 'T2_P026',\n",
       " 'T2_P036',\n",
       " 'T3_P031']"
      ]
     },
     "execution_count": 63,
     "metadata": {},
     "output_type": "execute_result"
    }
   ],
   "source": [
    "# list projects by most collaborated\n",
    "pc.list_project_collab(proj_collab)\n",
    "# print(proj_collab['Projects']['T2_P016']['internal']) "
   ]
  },
  {
   "cell_type": "code",
   "execution_count": 84,
   "metadata": {},
   "outputs": [
    {
     "name": "stdout",
     "output_type": "stream",
     "text": [
      "T1_P003 - T1_P002, T1_P004, T2_P015, T2_P020, T2_P023, T2_P026\n",
      "T1_P005 - T1_P006, T1_P008, T1_P013, T2_P015\n",
      "T1_P006 - T1_P008, T2_P015, T2_P023, T2_P026\n",
      "T1_P007 - T2_P015, T2_P023, T2_P026\n",
      "T2_P023 - T2_P015, T2_P016, T2_P017, T2_P026, T3_P031\n",
      "T2_P025 - T2_P015\n",
      "\t\t##############################\n",
      "T1_P004 - T1_P003, T1_P006, T1_P008, T1_P012, T2_P016, T2_P020, T3_P027, T3_P028\n",
      "T1_P005 - T1_P006, T1_P008, T1_P013, T2_P015\n",
      "T1_P006 - T1_P008, T2_P015, T2_P023, T2_P026\n",
      "T2_P016 - T1_P003, T1_P004, T1_P008, T2_P019, T2_P022, T2_P023, T2_P017, T3_P027, T3_P028\n",
      "T2_P036 - T1_P002, T1_P008, T1_P013, T2_P022, T2_P024, T2_P025, T2_P036, T3_P027\n",
      "\t\t##############################\n",
      "T1_P003 - T1_P002, T1_P004, T2_P015, T2_P020, T2_P023, T2_P026\n",
      "T1_P006 - T1_P008, T2_P015, T2_P023, T2_P026\n",
      "T1_P007 - T2_P015, T2_P023, T2_P026\n",
      "T2_P016 - T1_P003, T1_P004, T1_P008, T2_P019, T2_P022, T2_P023, T2_P017, T3_P027, T3_P028\n",
      "T2_P017 - T1_P002, T2_P016, T2_P023\n",
      "\t\t##############################\n",
      "T1_P004 - T1_P003, T1_P006, T1_P008, T1_P012, T2_P016, T2_P020, T3_P027, T3_P028\n",
      "T1_P005 - T1_P006, T1_P008, T1_P013, T2_P015\n",
      "T1_P008 - T1_P006\n",
      "T1_P011 - T1_P006\n",
      "\t\t##############################\n",
      "T1_P004 - T1_P003, T1_P006, T1_P008, T1_P012, T2_P016, T2_P020, T3_P027, T3_P028\n",
      "T2_P015 - T2_P016, T2_P018\n",
      "T2_P017 - T1_P002, T2_P016, T2_P023\n",
      "T2_P023 - T2_P015, T2_P016, T2_P017, T2_P026, T3_P031\n",
      "\t\t##############################\n",
      "T1_P003 - T1_P002, T1_P004, T2_P015, T2_P020, T2_P023, T2_P026\n",
      "T1_P006 - T1_P008, T2_P015, T2_P023, T2_P026\n",
      "T1_P007 - T2_P015, T2_P023, T2_P026\n",
      "T2_P023 - T2_P015, T2_P016, T2_P017, T2_P026, T3_P031\n",
      "\t\t##############################\n",
      "T1_P004 - T1_P003, T1_P006, T1_P008, T1_P012, T2_P016, T2_P020, T3_P027, T3_P028\n",
      "T2_P016 - T1_P003, T1_P004, T1_P008, T2_P019, T2_P022, T2_P023, T2_P017, T3_P027, T3_P028\n",
      "T2_P036 - T1_P002, T1_P008, T1_P013, T2_P022, T2_P024, T2_P025, T2_P036, T3_P027\n",
      "T3_P032 - T1_P014, T3_P027 , T3_P028, T3_P029\n",
      "\t\t##############################\n"
     ]
    }
   ],
   "source": [
    "# which projects rely on our top 3 collabs?\n",
    "for collab in ['T2_P015','T1_P008','T2_P023','T1_P006','T2_P016','T2_P026','T3_P027']:    \n",
    "    for i in pc['Projects']:\n",
    "        if collab in pc['Projects'][i]['internal']:\n",
    "            print(f\"{i} - {pc['Projects'][i]['internal']}\")\n",
    "    print(\"\\t\\t##############################\")"
   ]
  },
  {
   "cell_type": "code",
   "execution_count": 90,
   "metadata": {},
   "outputs": [
    {
     "name": "stdout",
     "output_type": "stream",
     "text": [
      "T1_P002\n",
      "T1_P013\n",
      "T1_P014\n",
      "T2_P024\n",
      "T2_P026\n",
      "T3_P027\n",
      "T3_P028\n",
      "T3_P029\n"
     ]
    }
   ],
   "source": [
    "# projects w/o listed internal collabrations\n",
    "for i in pc['Projects']:\n",
    "    if len(pc['Projects'][i]['internal']) == 0:\n",
    "        print(f\"{i}\")"
   ]
  },
  {
   "cell_type": "code",
   "execution_count": 89,
   "metadata": {},
   "outputs": [
    {
     "name": "stdout",
     "output_type": "stream",
     "text": [
      "T1_P003 - T1_P002, T1_P004, T2_P015, T2_P020, T2_P023, T2_P026\n",
      "T1_P004 - T1_P003, T1_P006, T1_P008, T1_P012, T2_P016, T2_P020, T3_P027, T3_P028\n",
      "T1_P005 - T1_P006, T1_P008, T1_P013, T2_P015\n",
      "T1_P006 - T1_P008, T2_P015, T2_P023, T2_P026\n",
      "T1_P007 - T2_P015, T2_P023, T2_P026\n",
      "T1_P008 - T1_P006\n",
      "T1_P011 - T1_P006\n",
      "T1_P012 - T1_P004\n",
      "T2_P015 - T2_P016, T2_P018\n",
      "T2_P016 - T1_P003, T1_P004, T1_P008, T2_P019, T2_P022, T2_P023, T2_P017, T3_P027, T3_P028\n",
      "T2_P017 - T1_P002, T2_P016, T2_P023\n",
      "T2_P023 - T2_P015, T2_P016, T2_P017, T2_P026, T3_P031\n",
      "T2_P025 - T2_P015\n",
      "T2_P036 - T1_P002, T1_P008, T1_P013, T2_P022, T2_P024, T2_P025, T2_P036, T3_P027\n",
      "T3_P032 - T1_P014, T3_P027 , T3_P028, T3_P029\n"
     ]
    }
   ],
   "source": [
    "# internal collabrations\n",
    "for i in pc['Projects']:\n",
    "    if len(pc['Projects'][i]['internal']) > 0:\n",
    "        print(f\"{i} - {pc['Projects'][i]['internal']}\")"
   ]
  }
 ],
 "metadata": {
  "kernelspec": {
   "display_name": "Python 3",
   "language": "python",
   "name": "python3"
  },
  "language_info": {
   "codemirror_mode": {
    "name": "ipython",
    "version": 3
   },
   "file_extension": ".py",
   "mimetype": "text/x-python",
   "name": "python",
   "nbconvert_exporter": "python",
   "pygments_lexer": "ipython3",
   "version": "3.9.18"
  }
 },
 "nbformat": 4,
 "nbformat_minor": 2
}
