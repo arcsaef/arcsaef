{
 "cells": [
  {
   "cell_type": "code",
   "execution_count": 61,
   "metadata": {},
   "outputs": [],
   "source": [
    "from lib import hindex\n",
    "import json\n",
    "import time"
   ]
  },
  {
   "cell_type": "code",
   "execution_count": 115,
   "metadata": {},
   "outputs": [
    {
     "data": {
      "text/plain": [
       "<module 'lib.hindex' from '/Users/nxo/Workspace/GitHub/arcsaef/lib/hindex.py'>"
      ]
     },
     "execution_count": 115,
     "metadata": {},
     "output_type": "execute_result"
    }
   ],
   "source": [
    "import importlib\n",
    "importlib.reload(hindex)"
   ]
  },
  {
   "cell_type": "code",
   "execution_count": 79,
   "metadata": {},
   "outputs": [],
   "source": [
    "hdrs = hindex.get_data()"
   ]
  },
  {
   "cell_type": "code",
   "execution_count": 112,
   "metadata": {},
   "outputs": [],
   "source": [
    "api_url = hdrs.get('url')\n",
    "indexes = [] # store H-Index\n",
    "impacts = [] # store impact facter\n",
    "errors  = \"/Users/nxo/Workspace/GitHub/arcsaef/data/h-index_202408/hindex_errors.txt\"\n",
    "\n",
    "for o in hdrs.get('orcids'):\n",
    "    orcid  = o.split(',')[0]\n",
    "    fname  = f\"{'/Users/nxo/Workspace/GitHub/arcsaef/data/h-index_202408/'}{o.split(',')[1].replace(' ', '') }.json\"\n",
    "    url    = f\"{api_url}{orcid}\"\n",
    "    page   = hindex.author_page(f\"{url}{orcid}\")\n",
    "    hdex   = hindex.hindex(page)\n",
    "    impact = hindex.impact_factor(page)\n",
    "    \n",
    "    if isinstance(hdex, int):\n",
    "        indexes.append(hdex)\n",
    "        impacts.append(impact)\n",
    "        with open(fname, mode= \"w\", encoding=\"utf-8\") as f:\n",
    "            json.dump(page, f)\n",
    "    else:\n",
    "        pass\n",
    "        with open(errors, mode= \"a\", encoding=\"utf-8\") as f:\n",
    "            f.write(o.split(',')[1])\n",
    "            f.write(\"\\n\")\n",
    "    time.sleep(1) # sleep for 1 second satisfies max 10 call per sec limit\n",
    "    \n"
   ]
  },
  {
   "cell_type": "code",
   "execution_count": 99,
   "metadata": {},
   "outputs": [
    {
     "name": "stdout",
     "output_type": "stream",
     "text": [
      ">80: 2 >70: 2 >50: 10 >40: 8 >20: 30\n"
     ]
    }
   ],
   "source": [
    "# H-index distributions (Scopus) (Researchers) >80:>70:>50:>40:>20\n",
    "print(hindex.hindex_distribution(indexes))"
   ]
  },
  {
   "cell_type": "code",
   "execution_count": 116,
   "metadata": {},
   "outputs": [
    {
     "name": "stdout",
     "output_type": "stream",
     "text": [
      "57\n"
     ]
    }
   ],
   "source": [
    "# Journal articles in top quartile in article's primary Clarivate InCites JCR category\n",
    "print(hindex.impact_factor_gt25(impacts))"
   ]
  }
 ],
 "metadata": {
  "kernelspec": {
   "display_name": "Python 3",
   "language": "python",
   "name": "python3"
  },
  "language_info": {
   "codemirror_mode": {
    "name": "ipython",
    "version": 3
   },
   "file_extension": ".py",
   "mimetype": "text/x-python",
   "name": "python",
   "nbconvert_exporter": "python",
   "pygments_lexer": "ipython3",
   "version": "3.11.2"
  }
 },
 "nbformat": 4,
 "nbformat_minor": 2
}
