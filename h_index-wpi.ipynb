{
 "cells": [
  {
   "cell_type": "code",
   "execution_count": 1,
   "metadata": {},
   "outputs": [],
   "source": [
    "from lib import hindex\n",
    "import json\n",
    "import time\n",
    "import yaml"
   ]
  },
  {
   "cell_type": "code",
   "execution_count": 14,
   "metadata": {},
   "outputs": [
    {
     "data": {
      "text/plain": [
       "<module 'lib.hindex' from 'c:\\\\workspace\\\\GitHub\\\\arcsaef\\\\lib\\\\hindex.py'>"
      ]
     },
     "execution_count": 14,
     "metadata": {},
     "output_type": "execute_result"
    }
   ],
   "source": [
    "import importlib\n",
    "importlib.reload(hindex)"
   ]
  },
  {
   "cell_type": "code",
   "execution_count": 25,
   "metadata": {},
   "outputs": [],
   "source": [
    "hdrs = hindex.get_data()\n",
    "with open('config/reporting.yaml', 'r') as file:\n",
    "        cf = yaml.safe_load(file)"
   ]
  },
  {
   "cell_type": "markdown",
   "metadata": {},
   "source": [
    "A call is made to openalex per researcher in orcids.txt - the orcid file will be replaced with a function soon.\n"
   ]
  },
  {
   "cell_type": "code",
   "execution_count": 26,
   "metadata": {},
   "outputs": [],
   "source": [
    "api_url = hdrs.get('url')\n",
    "indexes = [] # store H-Index\n",
    "impacts = [] # store impact facter\n",
    "errors  = cf['openalex']['errors']\n",
    "\n",
    "for o in hdrs.get('orcids'):\n",
    "    orcid  = o.split(',')[0]\n",
    "    fname  = f\"{'data/h-index/'}{cf['report']['reporting_year']}/{o.split(',')[1].replace(' ', '') }.json\"\n",
    "    url    = f\"{api_url}{orcid}\"\n",
    "    page   = hindex.author_page(f\"{url}{orcid}\")\n",
    "    hdex   = hindex.hindex(page)\n",
    "    impact = hindex.impact_factor(page)\n",
    "    \n",
    "    if isinstance(hdex, int):\n",
    "        indexes.append(hdex)\n",
    "        impacts.append(impact)\n",
    "        with open(fname, mode= \"w\", encoding=\"utf-8\") as f:\n",
    "            json.dump(page, f)\n",
    "    else:\n",
    "        pass\n",
    "        with open(errors, mode= \"a\", encoding=\"utf-8\") as f:\n",
    "            f.write(o.split(',')[1])\n",
    "            f.write(\"\\n\")\n",
    "    time.sleep(1) # sleep for 1 second satisfies max 10 call per sec limit\n",
    "    \n"
   ]
  },
  {
   "cell_type": "code",
   "execution_count": null,
   "metadata": {},
   "outputs": [
    {
     "name": "stdout",
     "output_type": "stream",
     "text": [
      ">80: 2 >70: 5 >50: 8 >40: 7 >20: 32\n"
     ]
    }
   ],
   "source": [
    "# H-index distributions (Scopus) (Researchers) >80:>70:>50:>40:>20\n",
    "# 08/2024: >80: 2 >70: 2 >50: 10 >40: 8 >20: 30\n",
    "# 12/2024: >80: 2 >70: 5 >50: 8 >40: 7 >20: 32\n",
    "print(hindex.hindex_distribution(indexes))"
   ]
  },
  {
   "cell_type": "code",
   "execution_count": null,
   "metadata": {},
   "outputs": [
    {
     "name": "stdout",
     "output_type": "stream",
     "text": [
      "59\n"
     ]
    }
   ],
   "source": [
    "# Journal articles in top quartile in article's primary Clarivate InCites JCR category\n",
    "# 08/2024: 58\n",
    "# 12/2024: 59\n",
    "print(hindex.impact_factor_gt25(impacts))"
   ]
  }
 ],
 "metadata": {
  "kernelspec": {
   "display_name": "base",
   "language": "python",
   "name": "python3"
  },
  "language_info": {
   "codemirror_mode": {
    "name": "ipython",
    "version": 3
   },
   "file_extension": ".py",
   "mimetype": "text/x-python",
   "name": "python",
   "nbconvert_exporter": "python",
   "pygments_lexer": "ipython3",
   "version": "3.9.18"
  }
 },
 "nbformat": 4,
 "nbformat_minor": 2
}
