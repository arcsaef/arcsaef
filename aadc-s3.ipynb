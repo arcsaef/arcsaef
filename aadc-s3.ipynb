{
 "cells": [
  {
   "cell_type": "code",
   "execution_count": 1,
   "metadata": {},
   "outputs": [],
   "source": [
    "from minio import Minio\n",
    "import yaml\n",
    "import pathlib\n",
    "import os\n",
    "import time"
   ]
  },
  {
   "cell_type": "code",
   "execution_count": 2,
   "metadata": {},
   "outputs": [],
   "source": [
    "with open('config/minio.yaml', 'r') as file:\n",
    "        cf = yaml.safe_load(file)"
   ]
  },
  {
   "cell_type": "code",
   "execution_count": 70,
   "metadata": {},
   "outputs": [],
   "source": [
    "# Create client with access and secret key.\n",
    "client = Minio(\n",
    "\tcf['library']['host'],\n",
    "\taccess_key=cf['library']['access_key'],\n",
    "\tsecret_key=cf['library']['secret_key'],\n",
    "\tsecure=True\n",
    "\t)"
   ]
  },
  {
   "cell_type": "code",
   "execution_count": 71,
   "metadata": {},
   "outputs": [
    {
     "name": "stdout",
     "output_type": "stream",
     "text": [
      "aadc-aerial-photography 2023-04-05 05:49:47.799000+00:00\n",
      "aadc-aerial-photography-film 2022-05-13 00:34:58.857000+00:00\n",
      "aadc-applications 2023-02-07 03:22:19.759000+00:00\n",
      "aadc-atmos 2022-11-15 00:12:25.360000+00:00\n",
      "aadc-ausseabed 2022-11-17 23:17:24.388000+00:00\n",
      "aadc-backup 2023-05-19 00:50:08.513000+00:00\n",
      "aadc-backup-ict 2023-09-08 06:42:23.385000+00:00\n",
      "aadc-backups-postgresql 2023-08-04 05:53:25.441000+00:00\n",
      "aadc-datasets 2022-05-06 02:22:20.652000+00:00\n",
      "aadc-datasets-archived 2022-05-06 06:20:39.299000+00:00\n",
      "aadc-drone-photography 2023-04-14 00:15:19.600000+00:00\n",
      "aadc-eds 2022-05-05 06:43:41.641000+00:00\n",
      "aadc-environmental 2022-05-06 03:27:28.768000+00:00\n",
      "aadc-images 2022-05-06 03:14:21.729000+00:00\n",
      "aadc-library 2023-09-07 00:16:23.400000+00:00\n",
      "aadc-logs 2023-05-08 03:49:23.900000+00:00\n",
      "aadc-logs-loki 2023-08-14 04:28:59.506000+00:00\n",
      "aadc-maps 2022-05-06 02:23:00.035000+00:00\n",
      "aadc-metadata 2022-08-17 05:16:27.521000+00:00\n",
      "aadc-mirror-test 2023-08-03 00:36:11.324000+00:00\n",
      "aadc-nuyina 2022-05-05 06:48:12.457000+00:00\n",
      "aadc-odm 2023-09-05 04:00:55.797000+00:00\n",
      "aadc-parksaustralia 2022-05-05 03:05:00.069000+00:00\n",
      "aadc-raster-data 2022-05-06 02:21:09.985000+00:00\n",
      "aadc-rpa 2023-09-13 01:49:44.905000+00:00\n",
      "aadc-satellite 2023-07-19 01:10:09.086000+00:00\n",
      "aadc-tensorflow-models 2023-02-22 23:19:09.300000+00:00\n",
      "aadc-terraform 2023-06-01 23:09:24.550000+00:00\n",
      "aadc-transfer 2022-05-13 08:47:35.409000+00:00\n",
      "aadc-various 2022-05-06 12:30:22.871000+00:00\n",
      "aadc-vector-data 2022-05-06 02:13:15.566000+00:00\n"
     ]
    }
   ],
   "source": [
    "# How many buckets can I access?\n",
    "buckets = client.list_buckets()\n",
    "for bucket in buckets:\n",
    "    print(bucket.name, bucket.creation_date)"
   ]
  },
  {
   "cell_type": "code",
   "execution_count": 69,
   "metadata": {},
   "outputs": [],
   "source": [
    "bucket     = 'aadc-aerial-photography-film'\n",
    "local_path = '/Volumes/AADC_PHOTOS/historical aerial photos'\n",
    "dl_src     = '/Volumes/AADC_PHOTOS/dl_source.txt'\n",
    "\n",
    "with open(dl_src, 'r') as file:\n",
    "        src = [line.rstrip() for line in file]\n",
    "\n",
    "for s in src:\n",
    "        fp = pathlib.PurePath(local_path, os.path.basename(s))\n",
    "        client.fget_object(bucket, s, fp)\n",
    "        time.sleep(1.5)    # Pause 10.5 seconds"
   ]
  },
  {
   "cell_type": "code",
   "execution_count": null,
   "metadata": {},
   "outputs": [],
   "source": []
  }
 ],
 "metadata": {
  "kernelspec": {
   "display_name": "Python 3",
   "language": "python",
   "name": "python3"
  },
  "language_info": {
   "codemirror_mode": {
    "name": "ipython",
    "version": 3
   },
   "file_extension": ".py",
   "mimetype": "text/x-python",
   "name": "python",
   "nbconvert_exporter": "python",
   "pygments_lexer": "ipython3",
   "version": "3.9.18"
  },
  "orig_nbformat": 4
 },
 "nbformat": 4,
 "nbformat_minor": 2
}
