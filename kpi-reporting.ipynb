{
 "cells": [
  {
   "cell_type": "code",
   "execution_count": 1,
   "metadata": {},
   "outputs": [],
   "source": [
    "import importlib\n",
    "from lib import kpi"
   ]
  },
  {
   "cell_type": "code",
   "execution_count": 93,
   "metadata": {},
   "outputs": [
    {
     "data": {
      "text/plain": [
       "<module 'lib.kpi' from 'c:\\\\workspace\\\\GitHub\\\\arcsaef\\\\lib\\\\kpi.py'>"
      ]
     },
     "execution_count": 93,
     "metadata": {},
     "output_type": "execute_result"
    }
   ],
   "source": [
    "importlib.reload(kpi)"
   ]
  },
  {
   "cell_type": "code",
   "execution_count": 94,
   "metadata": {},
   "outputs": [],
   "source": [
    "data           = kpi.load_data()\n",
    "rpt_config     = kpi.get_rpt_args()\n",
    "saef_library   = kpi.get_saef_library()\n",
    "responses_json = kpi.split_response(data[0])\n",
    "ppl_collection = kpi.person_construct(responses_json, data[3].get('report')['reporting_year'])\n",
    "proj_saef      = kpi.project_construct(responses_json, ppl_collection[0])\n",
    "buckets        = kpi.matched_library(saef_library, ppl_collection[1])\n",
    "templates      = kpi.load_templates()\n",
    "meta_bucket    = buckets[0]\n",
    "bucket         = buckets[1]\n",
    "ppl_saef       = dict(sorted(ppl_collection[0].items(), key = lambda x: x[1].get('LastName')))\n",
    "ppl_hash       = ppl_collection[1]\n",
    "bulk_responses = data[0]\n",
    "biblio         = data[1]\n",
    "scopus         = data[2]\n",
    "rpt_year       = rpt_config[0]\n",
    "organisations  = rpt_config[1]\n",
    "org_shortnames = list(organisations.keys())\n",
    "proj_saef_nohold = proj_saef[proj_saef.Status != 'On hold']"
   ]
  },
  {
   "cell_type": "code",
   "execution_count": 44,
   "metadata": {},
   "outputs": [],
   "source": [
    "# 1.remove empty rows\n",
    "bucket = bucket[bucket['id_person'].isna() == False]\n",
    "# 2. Make parsing more straight forward\n",
    "for prsn in ppl_saef:\n",
    "    if ppl_saef[prsn]['Gender'] == 'Non-binary/Gender diverse' or  ppl_saef[prsn]['Gender']  == 'Prefer not to say':\n",
    "        ppl_saef[prsn]['Gender'] = 'Other'\n",
    "# 3. Exclude: Nicole Webster, 027E2DEA-DB06-3946-B8C8-E053EF8E09F0\n",
    "del ppl_saef['027E2DEA-DB06-3946-B8C8-E053EF8E09F0']; del ppl_hash['NicoleWebster']\n",
    "# 4. Remove leading/trialing whitespace from  blibliographic entry.\n",
    "biblio['Biblio'] = biblio['Biblio'].str.strip()\n",
    "# 5. Jump into your pedantry\n",
    "for prsn in ppl_saef:\n",
    "    if ppl_saef[prsn]['Position'] != 'PhD Student' and  ppl_saef[prsn]['Position'] != 'Masters Student' and \\\n",
    "       ppl_saef[prsn]['Position'] != 'Honours Student':\n",
    "        ppl_saef[prsn]['StudentProjectTitle'] = 'Not applicable'"
   ]
  },
  {
   "cell_type": "markdown",
   "metadata": {},
   "source": [
    " ### A brief what's where and why\n",
    " - Reporting data is from 3 sources;\n",
    "   - Filemaker: api output (via Postman) is saved as text\n",
    "     - data/kpi_reporting_yyyymmdd.txt\n",
    "   - Zotero: api output for reporting year (via Postman) is saved as json\n",
    "     - data/saef_library_postman_yyyymmdd.json\n",
    "   - Bibiliography: Zotero bibligraphy output & manual update is saved a xlsx\n",
    "     - data/all/zot_biblio.xlsx\n",
    " - Updating config/reporting.yaml is critical\n",
    " - Individual and Organisation cells are run for mid-year and annual reporting\n",
    " - Organisation Excel is uused for mid-year"
   ]
  },
  {
   "cell_type": "markdown",
   "metadata": {},
   "source": []
  },
  {
   "cell_type": "code",
   "execution_count": 45,
   "metadata": {},
   "outputs": [
    {
     "data": {
      "text/plain": [
       "2024"
      ]
     },
     "execution_count": 45,
     "metadata": {},
     "output_type": "execute_result"
    }
   ],
   "source": [
    "rpt_year"
   ]
  },
  {
   "cell_type": "code",
   "execution_count": 6,
   "metadata": {},
   "outputs": [],
   "source": [
    "# Individual (annual & mid-year)\n",
    "for org in org_shortnames:\n",
    "    for prsn in ppl_saef:\n",
    "        p = kpi.get_context_idv(org, ppl_saef, prsn, bucket, biblio, rpt_year)\n",
    "        if len(p) > 0:\n",
    "            templates['doc_idv'].render(kpi.get_context_idv(org, ppl_saef, prsn, bucket, biblio, rpt_year))\n",
    "            templates['doc_idv'].save(f\"output/{rpt_year}/idv/annual/{org}_{ppl_saef.get(prsn)['LastName']}{ppl_saef.get(prsn)['FirstName']}.docx\") "
   ]
  },
  {
   "cell_type": "code",
   "execution_count": 92,
   "metadata": {},
   "outputs": [
    {
     "name": "stdout",
     "output_type": "stream",
     "text": [
      "Professor Julie Arblaster\n",
      "Dr Felicity McCormack\n",
      "Dr Felicity McCormack\n",
      "Professor Andrew Mackintosh\n",
      "Professor Steven Siems\n",
      "Professor Chris Greening\n"
     ]
    }
   ],
   "source": [
    "for i, x in proj_saef_nohold[proj_saef_nohold.ProjectLeadOrganisation == org].iterrows():\n",
    "    print(x.Name)\n",
    "\n"
   ]
  },
  {
   "cell_type": "code",
   "execution_count": 95,
   "metadata": {},
   "outputs": [
    {
     "name": "stdout",
     "output_type": "stream",
     "text": [
      "Report output type: expected string or bytes-like object\n",
      "Report output type: expected string or bytes-like object\n",
      "Report output type: expected string or bytes-like object\n",
      "Report output type: expected string or bytes-like object\n",
      "Report output type: expected string or bytes-like object\n"
     ]
    },
    {
     "ename": "KeyError",
     "evalue": "'T1_P005'",
     "output_type": "error",
     "traceback": [
      "\u001b[1;31m---------------------------------------------------------------------------\u001b[0m",
      "\u001b[1;31mKeyError\u001b[0m                                  Traceback (most recent call last)",
      "Cell \u001b[1;32mIn [95], line 3\u001b[0m\n\u001b[0;32m      1\u001b[0m \u001b[38;5;66;03m# Organisation (annual & mid-year)\u001b[39;00m\n\u001b[0;32m      2\u001b[0m \u001b[38;5;28;01mfor\u001b[39;00m org \u001b[38;5;129;01min\u001b[39;00m org_shortnames[\u001b[38;5;241m0\u001b[39m:\u001b[38;5;241m1\u001b[39m]:\n\u001b[1;32m----> 3\u001b[0m     templates[\u001b[38;5;124m'\u001b[39m\u001b[38;5;124mdoc_org\u001b[39m\u001b[38;5;124m'\u001b[39m]\u001b[38;5;241m.\u001b[39mrender(\u001b[43mkpi\u001b[49m\u001b[38;5;241;43m.\u001b[39;49m\u001b[43mget_context_org\u001b[49m\u001b[43m(\u001b[49m\u001b[43morg\u001b[49m\u001b[43m,\u001b[49m\u001b[43m \u001b[49m\u001b[43morganisations\u001b[49m\u001b[43m,\u001b[49m\u001b[43m \u001b[49m\u001b[43mppl_saef\u001b[49m\u001b[43m,\u001b[49m\u001b[43m \u001b[49m\u001b[43mbucket\u001b[49m\u001b[43m,\u001b[49m\u001b[43m \u001b[49m\u001b[43mbiblio\u001b[49m\u001b[43m,\u001b[49m\u001b[43m \u001b[49m\u001b[43mrpt_year\u001b[49m\u001b[43m,\u001b[49m\u001b[43m \u001b[49m\u001b[43mproj_saef_nohold\u001b[49m\u001b[43m)\u001b[49m[\u001b[38;5;241m0\u001b[39m])\n\u001b[0;32m      4\u001b[0m     templates[\u001b[38;5;124m'\u001b[39m\u001b[38;5;124mdoc_org\u001b[39m\u001b[38;5;124m'\u001b[39m]\u001b[38;5;241m.\u001b[39msave(\u001b[38;5;124mf\u001b[39m\u001b[38;5;124m\"\u001b[39m\u001b[38;5;124moutput/\u001b[39m\u001b[38;5;132;01m{\u001b[39;00mrpt_year\u001b[38;5;132;01m}\u001b[39;00m\u001b[38;5;124m/org/annual/\u001b[39m\u001b[38;5;132;01m{\u001b[39;00morg\u001b[38;5;132;01m}\u001b[39;00m\u001b[38;5;124m.docx\u001b[39m\u001b[38;5;124m\"\u001b[39m)\n",
      "File \u001b[1;32mc:\\workspace\\GitHub\\arcsaef\\lib\\kpi.py:677\u001b[0m, in \u001b[0;36mget_context_org\u001b[1;34m(org, orgs, people, res_outputs, bibliography, yr, saef_projects)\u001b[0m\n\u001b[0;32m    675\u001b[0m projects \u001b[38;5;241m=\u001b[39m {\u001b[38;5;124m'\u001b[39m\u001b[38;5;124mproj\u001b[39m\u001b[38;5;124m'\u001b[39m: []}\n\u001b[0;32m    676\u001b[0m \u001b[38;5;28;01mfor\u001b[39;00m i, x \u001b[38;5;129;01min\u001b[39;00m saef_projects[saef_projects\u001b[38;5;241m.\u001b[39mProjectLeadOrganisation \u001b[38;5;241m==\u001b[39m org]\u001b[38;5;241m.\u001b[39miterrows():\n\u001b[1;32m--> 677\u001b[0m     \u001b[43mprojects\u001b[49m\u001b[43m[\u001b[49m\u001b[43mi\u001b[49m\u001b[43m]\u001b[49m\u001b[38;5;241m.\u001b[39mappend({\u001b[38;5;124m'\u001b[39m\u001b[38;5;124mCode\u001b[39m\u001b[38;5;124m'\u001b[39m:   x\u001b[38;5;241m.\u001b[39mProjectCode, \\\n\u001b[0;32m    678\u001b[0m                          \u001b[38;5;124m'\u001b[39m\u001b[38;5;124mAlias\u001b[39m\u001b[38;5;124m'\u001b[39m:  x\u001b[38;5;241m.\u001b[39mProjectAlias, \\\n\u001b[0;32m    679\u001b[0m                          \u001b[38;5;124m'\u001b[39m\u001b[38;5;124mTitle\u001b[39m\u001b[38;5;124m'\u001b[39m:  x\u001b[38;5;241m.\u001b[39mProjectTitle, \\\n\u001b[0;32m    680\u001b[0m                          \u001b[38;5;124m'\u001b[39m\u001b[38;5;124mStatus\u001b[39m\u001b[38;5;124m'\u001b[39m: x\u001b[38;5;241m.\u001b[39mStatus, \\\n\u001b[0;32m    681\u001b[0m                          \u001b[38;5;124m'\u001b[39m\u001b[38;5;124mName\u001b[39m\u001b[38;5;124m'\u001b[39m:   x\u001b[38;5;241m.\u001b[39mName, \\\n\u001b[0;32m    682\u001b[0m                          \u001b[38;5;124m'\u001b[39m\u001b[38;5;124mOrganisation\u001b[39m\u001b[38;5;124m'\u001b[39m: x\u001b[38;5;241m.\u001b[39mProjectLeadOrganisation })\n\u001b[0;32m    684\u001b[0m projects_other \u001b[38;5;241m=\u001b[39m {\u001b[38;5;124m'\u001b[39m\u001b[38;5;124mproj_oth\u001b[39m\u001b[38;5;124m'\u001b[39m: []}\n\u001b[0;32m    685\u001b[0m \u001b[38;5;28;01mfor\u001b[39;00m idx \u001b[38;5;129;01min\u001b[39;00m saef_projects[saef_projects\u001b[38;5;241m.\u001b[39mProjectLeadOrganisation \u001b[38;5;241m!=\u001b[39m org]\u001b[38;5;241m.\u001b[39mindex:\n",
      "\u001b[1;31mKeyError\u001b[0m: 'T1_P005'"
     ]
    }
   ],
   "source": [
    "# Organisation (annual & mid-year)\n",
    "for org in org_shortnames[0:1]:\n",
    "    templates['doc_org'].render(kpi.get_context_org(org, organisations, ppl_saef, bucket, biblio, rpt_year, proj_saef_nohold)[0])\n",
    "    templates['doc_org'].save(f\"output/{rpt_year}/org/annual/{org}.docx\")"
   ]
  },
  {
   "cell_type": "code",
   "execution_count": 5,
   "metadata": {},
   "outputs": [
    {
     "name": "stderr",
     "output_type": "stream",
     "text": [
      "c:\\workspace\\GitHub\\arcsaef\\lib\\kpi.py:676: FutureWarning: Series.__getitem__ treating keys as positions is deprecated. In a future version, integer keys will always be treated as labels (consistent with DataFrame behavior). To access a value by position, use `ser.iloc[pos]`\n",
      "  projects['proj'].append({'Code':   proj[0],    'Alias':        proj[1][1], \\\n",
      "c:\\workspace\\GitHub\\arcsaef\\lib\\kpi.py:677: FutureWarning: Series.__getitem__ treating keys as positions is deprecated. In a future version, integer keys will always be treated as labels (consistent with DataFrame behavior). To access a value by position, use `ser.iloc[pos]`\n",
      "  'Title':  proj[1][2], 'Organisation': proj[1][3], \\\n",
      "c:\\workspace\\GitHub\\arcsaef\\lib\\kpi.py:678: FutureWarning: Series.__getitem__ treating keys as positions is deprecated. In a future version, integer keys will always be treated as labels (consistent with DataFrame behavior). To access a value by position, use `ser.iloc[pos]`\n",
      "  'Status': proj[1][4], 'Name':         proj[1][0]})\n",
      "c:\\workspace\\GitHub\\arcsaef\\lib\\kpi.py:684: FutureWarning: Series.__getitem__ treating keys as positions is deprecated. In a future version, integer keys will always be treated as labels (consistent with DataFrame behavior). To access a value by position, use `ser.iloc[pos]`\n",
      "  'Alias': proj[1][1],\n",
      "c:\\workspace\\GitHub\\arcsaef\\lib\\kpi.py:685: FutureWarning: Series.__getitem__ treating keys as positions is deprecated. In a future version, integer keys will always be treated as labels (consistent with DataFrame behavior). To access a value by position, use `ser.iloc[pos]`\n",
      "  'Title': proj[1][2],\n",
      "c:\\workspace\\GitHub\\arcsaef\\lib\\kpi.py:686: FutureWarning: Series.__getitem__ treating keys as positions is deprecated. In a future version, integer keys will always be treated as labels (consistent with DataFrame behavior). To access a value by position, use `ser.iloc[pos]`\n",
      "  'Organisation': proj[1][3],\n",
      "c:\\workspace\\GitHub\\arcsaef\\lib\\kpi.py:687: FutureWarning: Series.__getitem__ treating keys as positions is deprecated. In a future version, integer keys will always be treated as labels (consistent with DataFrame behavior). To access a value by position, use `ser.iloc[pos]`\n",
      "  'Status':       proj[1][4],\n",
      "c:\\workspace\\GitHub\\arcsaef\\lib\\kpi.py:688: FutureWarning: Series.__getitem__ treating keys as positions is deprecated. In a future version, integer keys will always be treated as labels (consistent with DataFrame behavior). To access a value by position, use `ser.iloc[pos]`\n",
      "  'Name':         proj[1][0]})\n",
      "c:\\Users\\okpokam\\Miniconda3\\lib\\site-packages\\openpyxl\\worksheet\\_reader.py:329: UserWarning: Data Validation extension is not supported and will be removed\n",
      "  warn(msg)\n",
      "c:\\workspace\\GitHub\\arcsaef\\lib\\kpi.py:684: FutureWarning: Series.__getitem__ treating keys as positions is deprecated. In a future version, integer keys will always be treated as labels (consistent with DataFrame behavior). To access a value by position, use `ser.iloc[pos]`\n",
      "  'Alias': proj[1][1],\n",
      "c:\\workspace\\GitHub\\arcsaef\\lib\\kpi.py:685: FutureWarning: Series.__getitem__ treating keys as positions is deprecated. In a future version, integer keys will always be treated as labels (consistent with DataFrame behavior). To access a value by position, use `ser.iloc[pos]`\n",
      "  'Title': proj[1][2],\n",
      "c:\\workspace\\GitHub\\arcsaef\\lib\\kpi.py:686: FutureWarning: Series.__getitem__ treating keys as positions is deprecated. In a future version, integer keys will always be treated as labels (consistent with DataFrame behavior). To access a value by position, use `ser.iloc[pos]`\n",
      "  'Organisation': proj[1][3],\n",
      "c:\\workspace\\GitHub\\arcsaef\\lib\\kpi.py:687: FutureWarning: Series.__getitem__ treating keys as positions is deprecated. In a future version, integer keys will always be treated as labels (consistent with DataFrame behavior). To access a value by position, use `ser.iloc[pos]`\n",
      "  'Status':       proj[1][4],\n",
      "c:\\workspace\\GitHub\\arcsaef\\lib\\kpi.py:688: FutureWarning: Series.__getitem__ treating keys as positions is deprecated. In a future version, integer keys will always be treated as labels (consistent with DataFrame behavior). To access a value by position, use `ser.iloc[pos]`\n",
      "  'Name':         proj[1][0]})\n",
      "c:\\Users\\okpokam\\Miniconda3\\lib\\site-packages\\openpyxl\\worksheet\\_reader.py:329: UserWarning: Data Validation extension is not supported and will be removed\n",
      "  warn(msg)\n",
      "c:\\workspace\\GitHub\\arcsaef\\lib\\kpi.py:676: FutureWarning: Series.__getitem__ treating keys as positions is deprecated. In a future version, integer keys will always be treated as labels (consistent with DataFrame behavior). To access a value by position, use `ser.iloc[pos]`\n",
      "  projects['proj'].append({'Code':   proj[0],    'Alias':        proj[1][1], \\\n",
      "c:\\workspace\\GitHub\\arcsaef\\lib\\kpi.py:677: FutureWarning: Series.__getitem__ treating keys as positions is deprecated. In a future version, integer keys will always be treated as labels (consistent with DataFrame behavior). To access a value by position, use `ser.iloc[pos]`\n",
      "  'Title':  proj[1][2], 'Organisation': proj[1][3], \\\n",
      "c:\\workspace\\GitHub\\arcsaef\\lib\\kpi.py:678: FutureWarning: Series.__getitem__ treating keys as positions is deprecated. In a future version, integer keys will always be treated as labels (consistent with DataFrame behavior). To access a value by position, use `ser.iloc[pos]`\n",
      "  'Status': proj[1][4], 'Name':         proj[1][0]})\n",
      "c:\\workspace\\GitHub\\arcsaef\\lib\\kpi.py:684: FutureWarning: Series.__getitem__ treating keys as positions is deprecated. In a future version, integer keys will always be treated as labels (consistent with DataFrame behavior). To access a value by position, use `ser.iloc[pos]`\n",
      "  'Alias': proj[1][1],\n",
      "c:\\workspace\\GitHub\\arcsaef\\lib\\kpi.py:685: FutureWarning: Series.__getitem__ treating keys as positions is deprecated. In a future version, integer keys will always be treated as labels (consistent with DataFrame behavior). To access a value by position, use `ser.iloc[pos]`\n",
      "  'Title': proj[1][2],\n",
      "c:\\workspace\\GitHub\\arcsaef\\lib\\kpi.py:686: FutureWarning: Series.__getitem__ treating keys as positions is deprecated. In a future version, integer keys will always be treated as labels (consistent with DataFrame behavior). To access a value by position, use `ser.iloc[pos]`\n",
      "  'Organisation': proj[1][3],\n",
      "c:\\workspace\\GitHub\\arcsaef\\lib\\kpi.py:687: FutureWarning: Series.__getitem__ treating keys as positions is deprecated. In a future version, integer keys will always be treated as labels (consistent with DataFrame behavior). To access a value by position, use `ser.iloc[pos]`\n",
      "  'Status':       proj[1][4],\n",
      "c:\\workspace\\GitHub\\arcsaef\\lib\\kpi.py:688: FutureWarning: Series.__getitem__ treating keys as positions is deprecated. In a future version, integer keys will always be treated as labels (consistent with DataFrame behavior). To access a value by position, use `ser.iloc[pos]`\n",
      "  'Name':         proj[1][0]})\n",
      "c:\\Users\\okpokam\\Miniconda3\\lib\\site-packages\\openpyxl\\worksheet\\_reader.py:329: UserWarning: Data Validation extension is not supported and will be removed\n",
      "  warn(msg)\n",
      "c:\\workspace\\GitHub\\arcsaef\\lib\\kpi.py:684: FutureWarning: Series.__getitem__ treating keys as positions is deprecated. In a future version, integer keys will always be treated as labels (consistent with DataFrame behavior). To access a value by position, use `ser.iloc[pos]`\n",
      "  'Alias': proj[1][1],\n",
      "c:\\workspace\\GitHub\\arcsaef\\lib\\kpi.py:685: FutureWarning: Series.__getitem__ treating keys as positions is deprecated. In a future version, integer keys will always be treated as labels (consistent with DataFrame behavior). To access a value by position, use `ser.iloc[pos]`\n",
      "  'Title': proj[1][2],\n",
      "c:\\workspace\\GitHub\\arcsaef\\lib\\kpi.py:686: FutureWarning: Series.__getitem__ treating keys as positions is deprecated. In a future version, integer keys will always be treated as labels (consistent with DataFrame behavior). To access a value by position, use `ser.iloc[pos]`\n",
      "  'Organisation': proj[1][3],\n",
      "c:\\workspace\\GitHub\\arcsaef\\lib\\kpi.py:687: FutureWarning: Series.__getitem__ treating keys as positions is deprecated. In a future version, integer keys will always be treated as labels (consistent with DataFrame behavior). To access a value by position, use `ser.iloc[pos]`\n",
      "  'Status':       proj[1][4],\n",
      "c:\\workspace\\GitHub\\arcsaef\\lib\\kpi.py:688: FutureWarning: Series.__getitem__ treating keys as positions is deprecated. In a future version, integer keys will always be treated as labels (consistent with DataFrame behavior). To access a value by position, use `ser.iloc[pos]`\n",
      "  'Name':         proj[1][0]})\n",
      "c:\\Users\\okpokam\\Miniconda3\\lib\\site-packages\\openpyxl\\worksheet\\_reader.py:329: UserWarning: Data Validation extension is not supported and will be removed\n",
      "  warn(msg)\n",
      "c:\\workspace\\GitHub\\arcsaef\\lib\\kpi.py:684: FutureWarning: Series.__getitem__ treating keys as positions is deprecated. In a future version, integer keys will always be treated as labels (consistent with DataFrame behavior). To access a value by position, use `ser.iloc[pos]`\n",
      "  'Alias': proj[1][1],\n",
      "c:\\workspace\\GitHub\\arcsaef\\lib\\kpi.py:685: FutureWarning: Series.__getitem__ treating keys as positions is deprecated. In a future version, integer keys will always be treated as labels (consistent with DataFrame behavior). To access a value by position, use `ser.iloc[pos]`\n",
      "  'Title': proj[1][2],\n",
      "c:\\workspace\\GitHub\\arcsaef\\lib\\kpi.py:686: FutureWarning: Series.__getitem__ treating keys as positions is deprecated. In a future version, integer keys will always be treated as labels (consistent with DataFrame behavior). To access a value by position, use `ser.iloc[pos]`\n",
      "  'Organisation': proj[1][3],\n",
      "c:\\workspace\\GitHub\\arcsaef\\lib\\kpi.py:687: FutureWarning: Series.__getitem__ treating keys as positions is deprecated. In a future version, integer keys will always be treated as labels (consistent with DataFrame behavior). To access a value by position, use `ser.iloc[pos]`\n",
      "  'Status':       proj[1][4],\n",
      "c:\\workspace\\GitHub\\arcsaef\\lib\\kpi.py:688: FutureWarning: Series.__getitem__ treating keys as positions is deprecated. In a future version, integer keys will always be treated as labels (consistent with DataFrame behavior). To access a value by position, use `ser.iloc[pos]`\n",
      "  'Name':         proj[1][0]})\n",
      "c:\\Users\\okpokam\\Miniconda3\\lib\\site-packages\\openpyxl\\worksheet\\_reader.py:329: UserWarning: Data Validation extension is not supported and will be removed\n",
      "  warn(msg)\n",
      "c:\\workspace\\GitHub\\arcsaef\\lib\\kpi.py:684: FutureWarning: Series.__getitem__ treating keys as positions is deprecated. In a future version, integer keys will always be treated as labels (consistent with DataFrame behavior). To access a value by position, use `ser.iloc[pos]`\n",
      "  'Alias': proj[1][1],\n",
      "c:\\workspace\\GitHub\\arcsaef\\lib\\kpi.py:685: FutureWarning: Series.__getitem__ treating keys as positions is deprecated. In a future version, integer keys will always be treated as labels (consistent with DataFrame behavior). To access a value by position, use `ser.iloc[pos]`\n",
      "  'Title': proj[1][2],\n",
      "c:\\workspace\\GitHub\\arcsaef\\lib\\kpi.py:686: FutureWarning: Series.__getitem__ treating keys as positions is deprecated. In a future version, integer keys will always be treated as labels (consistent with DataFrame behavior). To access a value by position, use `ser.iloc[pos]`\n",
      "  'Organisation': proj[1][3],\n",
      "c:\\workspace\\GitHub\\arcsaef\\lib\\kpi.py:687: FutureWarning: Series.__getitem__ treating keys as positions is deprecated. In a future version, integer keys will always be treated as labels (consistent with DataFrame behavior). To access a value by position, use `ser.iloc[pos]`\n",
      "  'Status':       proj[1][4],\n",
      "c:\\workspace\\GitHub\\arcsaef\\lib\\kpi.py:688: FutureWarning: Series.__getitem__ treating keys as positions is deprecated. In a future version, integer keys will always be treated as labels (consistent with DataFrame behavior). To access a value by position, use `ser.iloc[pos]`\n",
      "  'Name':         proj[1][0]})\n",
      "c:\\Users\\okpokam\\Miniconda3\\lib\\site-packages\\openpyxl\\worksheet\\_reader.py:329: UserWarning: Data Validation extension is not supported and will be removed\n",
      "  warn(msg)\n",
      "c:\\workspace\\GitHub\\arcsaef\\lib\\kpi.py:684: FutureWarning: Series.__getitem__ treating keys as positions is deprecated. In a future version, integer keys will always be treated as labels (consistent with DataFrame behavior). To access a value by position, use `ser.iloc[pos]`\n",
      "  'Alias': proj[1][1],\n",
      "c:\\workspace\\GitHub\\arcsaef\\lib\\kpi.py:685: FutureWarning: Series.__getitem__ treating keys as positions is deprecated. In a future version, integer keys will always be treated as labels (consistent with DataFrame behavior). To access a value by position, use `ser.iloc[pos]`\n",
      "  'Title': proj[1][2],\n",
      "c:\\workspace\\GitHub\\arcsaef\\lib\\kpi.py:686: FutureWarning: Series.__getitem__ treating keys as positions is deprecated. In a future version, integer keys will always be treated as labels (consistent with DataFrame behavior). To access a value by position, use `ser.iloc[pos]`\n",
      "  'Organisation': proj[1][3],\n",
      "c:\\workspace\\GitHub\\arcsaef\\lib\\kpi.py:687: FutureWarning: Series.__getitem__ treating keys as positions is deprecated. In a future version, integer keys will always be treated as labels (consistent with DataFrame behavior). To access a value by position, use `ser.iloc[pos]`\n",
      "  'Status':       proj[1][4],\n",
      "c:\\workspace\\GitHub\\arcsaef\\lib\\kpi.py:688: FutureWarning: Series.__getitem__ treating keys as positions is deprecated. In a future version, integer keys will always be treated as labels (consistent with DataFrame behavior). To access a value by position, use `ser.iloc[pos]`\n",
      "  'Name':         proj[1][0]})\n",
      "c:\\Users\\okpokam\\Miniconda3\\lib\\site-packages\\openpyxl\\worksheet\\_reader.py:329: UserWarning: Data Validation extension is not supported and will be removed\n",
      "  warn(msg)\n",
      "c:\\workspace\\GitHub\\arcsaef\\lib\\kpi.py:676: FutureWarning: Series.__getitem__ treating keys as positions is deprecated. In a future version, integer keys will always be treated as labels (consistent with DataFrame behavior). To access a value by position, use `ser.iloc[pos]`\n",
      "  projects['proj'].append({'Code':   proj[0],    'Alias':        proj[1][1], \\\n",
      "c:\\workspace\\GitHub\\arcsaef\\lib\\kpi.py:677: FutureWarning: Series.__getitem__ treating keys as positions is deprecated. In a future version, integer keys will always be treated as labels (consistent with DataFrame behavior). To access a value by position, use `ser.iloc[pos]`\n",
      "  'Title':  proj[1][2], 'Organisation': proj[1][3], \\\n",
      "c:\\workspace\\GitHub\\arcsaef\\lib\\kpi.py:678: FutureWarning: Series.__getitem__ treating keys as positions is deprecated. In a future version, integer keys will always be treated as labels (consistent with DataFrame behavior). To access a value by position, use `ser.iloc[pos]`\n",
      "  'Status': proj[1][4], 'Name':         proj[1][0]})\n",
      "c:\\Users\\okpokam\\Miniconda3\\lib\\site-packages\\openpyxl\\worksheet\\_reader.py:329: UserWarning: Data Validation extension is not supported and will be removed\n",
      "  warn(msg)\n",
      "c:\\workspace\\GitHub\\arcsaef\\lib\\kpi.py:676: FutureWarning: Series.__getitem__ treating keys as positions is deprecated. In a future version, integer keys will always be treated as labels (consistent with DataFrame behavior). To access a value by position, use `ser.iloc[pos]`\n",
      "  projects['proj'].append({'Code':   proj[0],    'Alias':        proj[1][1], \\\n",
      "c:\\workspace\\GitHub\\arcsaef\\lib\\kpi.py:677: FutureWarning: Series.__getitem__ treating keys as positions is deprecated. In a future version, integer keys will always be treated as labels (consistent with DataFrame behavior). To access a value by position, use `ser.iloc[pos]`\n",
      "  'Title':  proj[1][2], 'Organisation': proj[1][3], \\\n",
      "c:\\workspace\\GitHub\\arcsaef\\lib\\kpi.py:678: FutureWarning: Series.__getitem__ treating keys as positions is deprecated. In a future version, integer keys will always be treated as labels (consistent with DataFrame behavior). To access a value by position, use `ser.iloc[pos]`\n",
      "  'Status': proj[1][4], 'Name':         proj[1][0]})\n",
      "c:\\Users\\okpokam\\Miniconda3\\lib\\site-packages\\openpyxl\\worksheet\\_reader.py:329: UserWarning: Data Validation extension is not supported and will be removed\n",
      "  warn(msg)\n",
      "c:\\workspace\\GitHub\\arcsaef\\lib\\kpi.py:676: FutureWarning: Series.__getitem__ treating keys as positions is deprecated. In a future version, integer keys will always be treated as labels (consistent with DataFrame behavior). To access a value by position, use `ser.iloc[pos]`\n",
      "  projects['proj'].append({'Code':   proj[0],    'Alias':        proj[1][1], \\\n",
      "c:\\workspace\\GitHub\\arcsaef\\lib\\kpi.py:677: FutureWarning: Series.__getitem__ treating keys as positions is deprecated. In a future version, integer keys will always be treated as labels (consistent with DataFrame behavior). To access a value by position, use `ser.iloc[pos]`\n",
      "  'Title':  proj[1][2], 'Organisation': proj[1][3], \\\n",
      "c:\\workspace\\GitHub\\arcsaef\\lib\\kpi.py:678: FutureWarning: Series.__getitem__ treating keys as positions is deprecated. In a future version, integer keys will always be treated as labels (consistent with DataFrame behavior). To access a value by position, use `ser.iloc[pos]`\n",
      "  'Status': proj[1][4], 'Name':         proj[1][0]})\n",
      "c:\\workspace\\GitHub\\arcsaef\\lib\\kpi.py:684: FutureWarning: Series.__getitem__ treating keys as positions is deprecated. In a future version, integer keys will always be treated as labels (consistent with DataFrame behavior). To access a value by position, use `ser.iloc[pos]`\n",
      "  'Alias': proj[1][1],\n",
      "c:\\workspace\\GitHub\\arcsaef\\lib\\kpi.py:685: FutureWarning: Series.__getitem__ treating keys as positions is deprecated. In a future version, integer keys will always be treated as labels (consistent with DataFrame behavior). To access a value by position, use `ser.iloc[pos]`\n",
      "  'Title': proj[1][2],\n",
      "c:\\workspace\\GitHub\\arcsaef\\lib\\kpi.py:686: FutureWarning: Series.__getitem__ treating keys as positions is deprecated. In a future version, integer keys will always be treated as labels (consistent with DataFrame behavior). To access a value by position, use `ser.iloc[pos]`\n",
      "  'Organisation': proj[1][3],\n",
      "c:\\workspace\\GitHub\\arcsaef\\lib\\kpi.py:687: FutureWarning: Series.__getitem__ treating keys as positions is deprecated. In a future version, integer keys will always be treated as labels (consistent with DataFrame behavior). To access a value by position, use `ser.iloc[pos]`\n",
      "  'Status':       proj[1][4],\n",
      "c:\\workspace\\GitHub\\arcsaef\\lib\\kpi.py:688: FutureWarning: Series.__getitem__ treating keys as positions is deprecated. In a future version, integer keys will always be treated as labels (consistent with DataFrame behavior). To access a value by position, use `ser.iloc[pos]`\n",
      "  'Name':         proj[1][0]})\n",
      "c:\\Users\\okpokam\\Miniconda3\\lib\\site-packages\\openpyxl\\worksheet\\_reader.py:329: UserWarning: Data Validation extension is not supported and will be removed\n",
      "  warn(msg)\n",
      "c:\\workspace\\GitHub\\arcsaef\\lib\\kpi.py:676: FutureWarning: Series.__getitem__ treating keys as positions is deprecated. In a future version, integer keys will always be treated as labels (consistent with DataFrame behavior). To access a value by position, use `ser.iloc[pos]`\n",
      "  projects['proj'].append({'Code':   proj[0],    'Alias':        proj[1][1], \\\n",
      "c:\\workspace\\GitHub\\arcsaef\\lib\\kpi.py:677: FutureWarning: Series.__getitem__ treating keys as positions is deprecated. In a future version, integer keys will always be treated as labels (consistent with DataFrame behavior). To access a value by position, use `ser.iloc[pos]`\n",
      "  'Title':  proj[1][2], 'Organisation': proj[1][3], \\\n",
      "c:\\workspace\\GitHub\\arcsaef\\lib\\kpi.py:678: FutureWarning: Series.__getitem__ treating keys as positions is deprecated. In a future version, integer keys will always be treated as labels (consistent with DataFrame behavior). To access a value by position, use `ser.iloc[pos]`\n",
      "  'Status': proj[1][4], 'Name':         proj[1][0]})\n",
      "c:\\workspace\\GitHub\\arcsaef\\lib\\kpi.py:684: FutureWarning: Series.__getitem__ treating keys as positions is deprecated. In a future version, integer keys will always be treated as labels (consistent with DataFrame behavior). To access a value by position, use `ser.iloc[pos]`\n",
      "  'Alias': proj[1][1],\n",
      "c:\\workspace\\GitHub\\arcsaef\\lib\\kpi.py:685: FutureWarning: Series.__getitem__ treating keys as positions is deprecated. In a future version, integer keys will always be treated as labels (consistent with DataFrame behavior). To access a value by position, use `ser.iloc[pos]`\n",
      "  'Title': proj[1][2],\n",
      "c:\\workspace\\GitHub\\arcsaef\\lib\\kpi.py:686: FutureWarning: Series.__getitem__ treating keys as positions is deprecated. In a future version, integer keys will always be treated as labels (consistent with DataFrame behavior). To access a value by position, use `ser.iloc[pos]`\n",
      "  'Organisation': proj[1][3],\n",
      "c:\\workspace\\GitHub\\arcsaef\\lib\\kpi.py:687: FutureWarning: Series.__getitem__ treating keys as positions is deprecated. In a future version, integer keys will always be treated as labels (consistent with DataFrame behavior). To access a value by position, use `ser.iloc[pos]`\n",
      "  'Status':       proj[1][4],\n",
      "c:\\workspace\\GitHub\\arcsaef\\lib\\kpi.py:688: FutureWarning: Series.__getitem__ treating keys as positions is deprecated. In a future version, integer keys will always be treated as labels (consistent with DataFrame behavior). To access a value by position, use `ser.iloc[pos]`\n",
      "  'Name':         proj[1][0]})\n",
      "c:\\Users\\okpokam\\Miniconda3\\lib\\site-packages\\openpyxl\\worksheet\\_reader.py:329: UserWarning: Data Validation extension is not supported and will be removed\n",
      "  warn(msg)\n",
      "c:\\workspace\\GitHub\\arcsaef\\lib\\kpi.py:676: FutureWarning: Series.__getitem__ treating keys as positions is deprecated. In a future version, integer keys will always be treated as labels (consistent with DataFrame behavior). To access a value by position, use `ser.iloc[pos]`\n",
      "  projects['proj'].append({'Code':   proj[0],    'Alias':        proj[1][1], \\\n",
      "c:\\workspace\\GitHub\\arcsaef\\lib\\kpi.py:677: FutureWarning: Series.__getitem__ treating keys as positions is deprecated. In a future version, integer keys will always be treated as labels (consistent with DataFrame behavior). To access a value by position, use `ser.iloc[pos]`\n",
      "  'Title':  proj[1][2], 'Organisation': proj[1][3], \\\n",
      "c:\\workspace\\GitHub\\arcsaef\\lib\\kpi.py:678: FutureWarning: Series.__getitem__ treating keys as positions is deprecated. In a future version, integer keys will always be treated as labels (consistent with DataFrame behavior). To access a value by position, use `ser.iloc[pos]`\n",
      "  'Status': proj[1][4], 'Name':         proj[1][0]})\n",
      "c:\\workspace\\GitHub\\arcsaef\\lib\\kpi.py:684: FutureWarning: Series.__getitem__ treating keys as positions is deprecated. In a future version, integer keys will always be treated as labels (consistent with DataFrame behavior). To access a value by position, use `ser.iloc[pos]`\n",
      "  'Alias': proj[1][1],\n",
      "c:\\workspace\\GitHub\\arcsaef\\lib\\kpi.py:685: FutureWarning: Series.__getitem__ treating keys as positions is deprecated. In a future version, integer keys will always be treated as labels (consistent with DataFrame behavior). To access a value by position, use `ser.iloc[pos]`\n",
      "  'Title': proj[1][2],\n",
      "c:\\workspace\\GitHub\\arcsaef\\lib\\kpi.py:686: FutureWarning: Series.__getitem__ treating keys as positions is deprecated. In a future version, integer keys will always be treated as labels (consistent with DataFrame behavior). To access a value by position, use `ser.iloc[pos]`\n",
      "  'Organisation': proj[1][3],\n",
      "c:\\workspace\\GitHub\\arcsaef\\lib\\kpi.py:687: FutureWarning: Series.__getitem__ treating keys as positions is deprecated. In a future version, integer keys will always be treated as labels (consistent with DataFrame behavior). To access a value by position, use `ser.iloc[pos]`\n",
      "  'Status':       proj[1][4],\n",
      "c:\\workspace\\GitHub\\arcsaef\\lib\\kpi.py:688: FutureWarning: Series.__getitem__ treating keys as positions is deprecated. In a future version, integer keys will always be treated as labels (consistent with DataFrame behavior). To access a value by position, use `ser.iloc[pos]`\n",
      "  'Name':         proj[1][0]})\n",
      "c:\\Users\\okpokam\\Miniconda3\\lib\\site-packages\\openpyxl\\worksheet\\_reader.py:329: UserWarning: Data Validation extension is not supported and will be removed\n",
      "  warn(msg)\n",
      "c:\\workspace\\GitHub\\arcsaef\\lib\\kpi.py:676: FutureWarning: Series.__getitem__ treating keys as positions is deprecated. In a future version, integer keys will always be treated as labels (consistent with DataFrame behavior). To access a value by position, use `ser.iloc[pos]`\n",
      "  projects['proj'].append({'Code':   proj[0],    'Alias':        proj[1][1], \\\n",
      "c:\\workspace\\GitHub\\arcsaef\\lib\\kpi.py:677: FutureWarning: Series.__getitem__ treating keys as positions is deprecated. In a future version, integer keys will always be treated as labels (consistent with DataFrame behavior). To access a value by position, use `ser.iloc[pos]`\n",
      "  'Title':  proj[1][2], 'Organisation': proj[1][3], \\\n",
      "c:\\workspace\\GitHub\\arcsaef\\lib\\kpi.py:678: FutureWarning: Series.__getitem__ treating keys as positions is deprecated. In a future version, integer keys will always be treated as labels (consistent with DataFrame behavior). To access a value by position, use `ser.iloc[pos]`\n",
      "  'Status': proj[1][4], 'Name':         proj[1][0]})\n",
      "c:\\workspace\\GitHub\\arcsaef\\lib\\kpi.py:684: FutureWarning: Series.__getitem__ treating keys as positions is deprecated. In a future version, integer keys will always be treated as labels (consistent with DataFrame behavior). To access a value by position, use `ser.iloc[pos]`\n",
      "  'Alias': proj[1][1],\n",
      "c:\\workspace\\GitHub\\arcsaef\\lib\\kpi.py:685: FutureWarning: Series.__getitem__ treating keys as positions is deprecated. In a future version, integer keys will always be treated as labels (consistent with DataFrame behavior). To access a value by position, use `ser.iloc[pos]`\n",
      "  'Title': proj[1][2],\n",
      "c:\\workspace\\GitHub\\arcsaef\\lib\\kpi.py:686: FutureWarning: Series.__getitem__ treating keys as positions is deprecated. In a future version, integer keys will always be treated as labels (consistent with DataFrame behavior). To access a value by position, use `ser.iloc[pos]`\n",
      "  'Organisation': proj[1][3],\n",
      "c:\\workspace\\GitHub\\arcsaef\\lib\\kpi.py:687: FutureWarning: Series.__getitem__ treating keys as positions is deprecated. In a future version, integer keys will always be treated as labels (consistent with DataFrame behavior). To access a value by position, use `ser.iloc[pos]`\n",
      "  'Status':       proj[1][4],\n",
      "c:\\workspace\\GitHub\\arcsaef\\lib\\kpi.py:688: FutureWarning: Series.__getitem__ treating keys as positions is deprecated. In a future version, integer keys will always be treated as labels (consistent with DataFrame behavior). To access a value by position, use `ser.iloc[pos]`\n",
      "  'Name':         proj[1][0]})\n",
      "c:\\Users\\okpokam\\Miniconda3\\lib\\site-packages\\openpyxl\\worksheet\\_reader.py:329: UserWarning: Data Validation extension is not supported and will be removed\n",
      "  warn(msg)\n"
     ]
    }
   ],
   "source": [
    "# Organisation Excel (mid-year)\n",
    "for org in org_shortnames:\n",
    "    kpi.write_context_org_excel(kpi.get_context_org(org, organisations, ppl_saef, bucket, biblio, rpt_year, proj_saef_nohold), proj_saef, organisations, org)\n"
   ]
  }
 ],
 "metadata": {
  "kernelspec": {
   "display_name": "base",
   "language": "python",
   "name": "python3"
  },
  "language_info": {
   "codemirror_mode": {
    "name": "ipython",
    "version": 3
   },
   "file_extension": ".py",
   "mimetype": "text/x-python",
   "name": "python",
   "nbconvert_exporter": "python",
   "pygments_lexer": "ipython3",
   "version": "3.9.18"
  },
  "orig_nbformat": 4
 },
 "nbformat": 4,
 "nbformat_minor": 2
}
