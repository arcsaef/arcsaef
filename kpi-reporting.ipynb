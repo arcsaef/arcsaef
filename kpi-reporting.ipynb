{
 "cells": [
  {
   "cell_type": "code",
   "execution_count": 1,
   "metadata": {},
   "outputs": [],
   "source": [
    "import importlib\n",
    "from lib import kpi\n",
    "from lib import kpi_wh"
   ]
  },
  {
   "cell_type": "code",
   "execution_count": 15,
   "metadata": {},
   "outputs": [
    {
     "data": {
      "text/plain": [
       "<module 'lib.kpi_wh' from 'c:\\\\workspace\\\\GitHub\\\\arcsaef\\\\lib\\\\kpi_wh.py'>"
      ]
     },
     "execution_count": 15,
     "metadata": {},
     "output_type": "execute_result"
    }
   ],
   "source": [
    "importlib.reload(kpi)\n",
    "importlib.reload(kpi_wh)"
   ]
  },
  {
   "cell_type": "code",
   "execution_count": 2,
   "metadata": {},
   "outputs": [
    {
     "ename": "OperationalError",
     "evalue": "Could not decode to UTF-8 column 'organisation' with text 'Universit� libre de Bruxelles'",
     "output_type": "error",
     "traceback": [
      "\u001b[1;31m---------------------------------------------------------------------------\u001b[0m",
      "\u001b[1;31mOperationalError\u001b[0m                          Traceback (most recent call last)",
      "Cell \u001b[1;32mIn [2], line 8\u001b[0m\n\u001b[0;32m      5\u001b[0m \u001b[38;5;66;03m# ppl_collection = kpi.person_construct(responses_json, rpt_config[0])\u001b[39;00m\n\u001b[0;32m      6\u001b[0m \u001b[38;5;66;03m# proj_saef      = kpi.project_construct(responses_json, ppl_collection[0])\u001b[39;00m\n\u001b[0;32m      7\u001b[0m proj_saef      \u001b[38;5;241m=\u001b[39m kpi_wh\u001b[38;5;241m.\u001b[39mprojects_construct(data[\u001b[38;5;241m3\u001b[39m])\n\u001b[1;32m----> 8\u001b[0m ppl_collection \u001b[38;5;241m=\u001b[39m \u001b[43mkpi_wh\u001b[49m\u001b[38;5;241;43m.\u001b[39;49m\u001b[43mpeople_construct\u001b[49m\u001b[43m(\u001b[49m\u001b[43mdata\u001b[49m\u001b[43m[\u001b[49m\u001b[38;5;241;43m3\u001b[39;49m\u001b[43m]\u001b[49m\u001b[43m,\u001b[49m\u001b[43m \u001b[49m\u001b[43mrpt_config\u001b[49m\u001b[43m[\u001b[49m\u001b[38;5;241;43m0\u001b[39;49m\u001b[43m]\u001b[49m\u001b[43m)\u001b[49m\n\u001b[0;32m      9\u001b[0m buckets        \u001b[38;5;241m=\u001b[39m kpi\u001b[38;5;241m.\u001b[39mmatched_library(saef_library, ppl_collection[\u001b[38;5;241m1\u001b[39m])\n\u001b[0;32m     10\u001b[0m templates      \u001b[38;5;241m=\u001b[39m kpi\u001b[38;5;241m.\u001b[39mload_templates()\n",
      "File \u001b[1;32mc:\\workspace\\GitHub\\arcsaef\\lib\\kpi_wh.py:118\u001b[0m, in \u001b[0;36mpeople_construct\u001b[1;34m(data, rpt_yr)\u001b[0m\n\u001b[0;32m    115\u001b[0m pid \u001b[38;5;241m=\u001b[39m row[\u001b[38;5;241m0\u001b[39m]\n\u001b[0;32m    117\u001b[0m \u001b[38;5;66;03m# build SAEF person data point\u001b[39;00m\n\u001b[1;32m--> 118\u001b[0m core \u001b[38;5;241m=\u001b[39m \u001b[43mcursor_obj\u001b[49m\u001b[38;5;241;43m.\u001b[39;49m\u001b[43mexecute\u001b[49m\u001b[43m(\u001b[49m\n\u001b[0;32m    119\u001b[0m \u001b[38;5;250;43m\u001b[39;49m\u001b[38;5;124;43;03m'''\u001b[39;49;00m\n\u001b[0;32m    120\u001b[0m \u001b[38;5;124;43;03mSELECT \u001b[39;49;00m\n\u001b[0;32m    121\u001b[0m \u001b[38;5;124;43;03m  title \u001b[39;49;00m\n\u001b[0;32m    122\u001b[0m \u001b[38;5;124;43;03m  , first_name \u001b[39;49;00m\n\u001b[0;32m    123\u001b[0m \u001b[38;5;124;43;03m  , last_name\u001b[39;49;00m\n\u001b[0;32m    124\u001b[0m \u001b[38;5;124;43;03m  , career_stage \u001b[39;49;00m\n\u001b[0;32m    125\u001b[0m \u001b[38;5;124;43;03m  , status\u001b[39;49;00m\n\u001b[0;32m    126\u001b[0m \u001b[38;5;124;43;03m  , fte \u001b[39;49;00m\n\u001b[0;32m    127\u001b[0m \u001b[38;5;124;43;03m  , position \u001b[39;49;00m\n\u001b[0;32m    128\u001b[0m \u001b[38;5;124;43;03m  , gender \u001b[39;49;00m\n\u001b[0;32m    129\u001b[0m \u001b[38;5;124;43;03m  , ppl.start_dt \u001b[39;49;00m\n\u001b[0;32m    130\u001b[0m \u001b[38;5;124;43;03m  , ppl.end_dt \u001b[39;49;00m\n\u001b[0;32m    131\u001b[0m \u001b[38;5;124;43;03m  , org\u001b[39;49;00m\n\u001b[0;32m    132\u001b[0m \u001b[38;5;124;43;03m  , organisation\u001b[39;49;00m\n\u001b[0;32m    133\u001b[0m \u001b[38;5;124;43;03m  , saef_funded\u001b[39;49;00m\n\u001b[0;32m    134\u001b[0m \u001b[38;5;124;43;03m  , consent \u001b[39;49;00m\n\u001b[0;32m    135\u001b[0m \u001b[38;5;124;43;03m  , orcid \u001b[39;49;00m\n\u001b[0;32m    136\u001b[0m \u001b[38;5;124;43;03m  , email \u001b[39;49;00m\n\u001b[0;32m    137\u001b[0m \u001b[38;5;124;43;03m  , post_nominals \u001b[39;49;00m\n\u001b[0;32m    138\u001b[0m \u001b[38;5;124;43;03m  , ppl.role \u001b[39;49;00m\n\u001b[0;32m    139\u001b[0m \u001b[38;5;124;43;03m  , student_project_title\u001b[39;49;00m\n\u001b[0;32m    140\u001b[0m \u001b[38;5;124;43;03m  , GROUP_CONCAT( ppl_projects.project_code )\u001b[39;49;00m\n\u001b[0;32m    141\u001b[0m \u001b[38;5;124;43;03m  , trim(title)||' '||trim(first_name)||' '||trim(last_name)||' '||trim(post_nominals)\u001b[39;49;00m\n\u001b[0;32m    142\u001b[0m \u001b[38;5;124;43;03m  , replace(first_name, ' ', '')||replace(last_name, ' ', '')\u001b[39;49;00m\n\u001b[0;32m    143\u001b[0m \u001b[38;5;124;43;03mFROM ppl\u001b[39;49;00m\n\u001b[0;32m    144\u001b[0m \u001b[38;5;124;43;03mLEFT JOIN ppl_projects\u001b[39;49;00m\n\u001b[0;32m    145\u001b[0m \u001b[38;5;124;43;03m  ON ppl_projects.id_person = ppl.id_person\u001b[39;49;00m\n\u001b[0;32m    146\u001b[0m \u001b[38;5;124;43;03mWHERE ppl.id_person = ?\u001b[39;49;00m\n\u001b[0;32m    147\u001b[0m \u001b[38;5;124;43;03m'''\u001b[39;49;00m\u001b[43m,\u001b[49m\u001b[43m \u001b[49m\n\u001b[0;32m    148\u001b[0m \u001b[43m\u001b[49m\u001b[43m(\u001b[49m\u001b[43mpid\u001b[49m\u001b[43m,\u001b[49m\u001b[43m \u001b[49m\u001b[43m)\u001b[49m\u001b[43m \u001b[49m\u001b[43m)\u001b[49m\u001b[38;5;241m.\u001b[39mfetchone()\n\u001b[0;32m    150\u001b[0m advisory \u001b[38;5;241m=\u001b[39m cursor_obj\u001b[38;5;241m.\u001b[39mexecute(\n\u001b[0;32m    151\u001b[0m \u001b[38;5;250m\u001b[39m\u001b[38;5;124;03m'''\u001b[39;00m\n\u001b[0;32m    152\u001b[0m \u001b[38;5;124;03mSELECT GROUP_CONCAT( TRIM (role) )\u001b[39;00m\n\u001b[1;32m   (...)\u001b[0m\n\u001b[0;32m    156\u001b[0m \u001b[38;5;124;03m'''\u001b[39;00m, \n\u001b[0;32m    157\u001b[0m (rpt_yr, pid,) )\u001b[38;5;241m.\u001b[39mfetchone()\n\u001b[0;32m    159\u001b[0m supervises \u001b[38;5;241m=\u001b[39m cursor_obj\u001b[38;5;241m.\u001b[39mexecute(\n\u001b[0;32m    160\u001b[0m \u001b[38;5;250m\u001b[39m\u001b[38;5;124;03m'''\u001b[39;00m\n\u001b[0;32m    161\u001b[0m \u001b[38;5;124;03mSELECT GROUP_CONCAT( TRIM (ppl.first_name || ' ' || ppl.last_name ) )\u001b[39;00m\n\u001b[1;32m   (...)\u001b[0m\n\u001b[0;32m    166\u001b[0m \u001b[38;5;124;03m'''\u001b[39;00m, \n\u001b[0;32m    167\u001b[0m (pid,) )\u001b[38;5;241m.\u001b[39mfetchone()\n",
      "\u001b[1;31mOperationalError\u001b[0m: Could not decode to UTF-8 column 'organisation' with text 'Universit� libre de Bruxelles'"
     ]
    }
   ],
   "source": [
    "data           = kpi.load_data()\n",
    "rpt_config     = kpi.get_rpt_args()\n",
    "saef_library   = kpi.get_saef_library()\n",
    "responses_json = kpi.split_response(data[0])\n",
    "# ppl_collection = kpi.person_construct(responses_json, rpt_config[0])\n",
    "# proj_saef      = kpi.project_construct(responses_json, ppl_collection[0])\n",
    "proj_saef      = kpi_wh.projects_construct(data[3])\n",
    "ppl_collection = kpi_wh.people_construct(data[3], rpt_config[0])\n",
    "buckets        = kpi.matched_library(saef_library, ppl_collection[1])\n",
    "templates      = kpi.load_templates()\n",
    "meta_bucket    = buckets[0]\n",
    "bucket         = buckets[1]\n",
    "ppl_saef       = dict(sorted(ppl_collection[0].items(), key = lambda x: x[1].get('LastName')))\n",
    "ppl_hash       = ppl_collection[1]\n",
    "bulk_responses = data[0]\n",
    "biblio         = data[1]\n",
    "scopus         = data[2]\n",
    "rpt_year       = rpt_config[0]\n",
    "organisations  = rpt_config[1]\n",
    "org_shortnames = list(organisations.keys())\n",
    "proj_saef_nohold = proj_saef[proj_saef.Status != 'On hold']"
   ]
  },
  {
   "cell_type": "code",
   "execution_count": 14,
   "metadata": {},
   "outputs": [],
   "source": [
    "# 1.remove empty rows\n",
    "bucket = bucket[bucket['id_person'].isna() == False]\n",
    "# 2. Make parsing more straight forward\n",
    "for prsn in ppl_saef:\n",
    "    if ppl_saef[prsn]['Gender'] == 'Non-binary/Gender diverse' or  ppl_saef[prsn]['Gender']  == 'Prefer not to say':\n",
    "        ppl_saef[prsn]['Gender'] = 'Other'\n",
    "# 3. Exclude: Nicole Webster, 027E2DEA-DB06-3946-B8C8-E053EF8E09F0\n",
    "del ppl_saef['027E2DEA-DB06-3946-B8C8-E053EF8E09F0']; del ppl_hash['NicoleWebster']\n",
    "# 4. Remove leading/trialing whitespace from  blibliographic entry.\n",
    "biblio['Biblio'] = biblio['Biblio'].str.strip()\n",
    "# 5. Jump into your pedantry\n",
    "for prsn in ppl_saef:\n",
    "    if ppl_saef[prsn]['Position'] != 'PhD Student' and  ppl_saef[prsn]['Position'] != 'Masters Student' and \\\n",
    "       ppl_saef[prsn]['Position'] != 'Honours Student':\n",
    "        ppl_saef[prsn]['StudentProjectTitle'] = 'Not applicable'"
   ]
  },
  {
   "cell_type": "markdown",
   "metadata": {},
   "source": [
    " ### A brief what's where and why\n",
    " - Reporting data is from 3 sources;\n",
    "   - Filemaker: api output (via Postman) is saved as text\n",
    "     - data/kpi_reporting_yyyymmdd.txt\n",
    "   - Zotero: api output for reporting year (via Postman) is saved as json\n",
    "     - data/saef_library_postman_yyyymmdd.json\n",
    "   - Bibiliography: Zotero bibligraphy output & manual update is saved a xlsx\n",
    "     - data/all/zot_biblio.xlsx\n",
    " - Updating config/reporting.yaml is critical\n",
    " - Individual and Organisation cells are run for mid-year and annual reporting\n",
    " - Organisation Excel is uused for mid-year"
   ]
  },
  {
   "cell_type": "code",
   "execution_count": 15,
   "metadata": {},
   "outputs": [
    {
     "name": "stdout",
     "output_type": "stream",
     "text": [
      "Report output type: expected string or bytes-like object, got 'NoneType'\n",
      "Report output type: expected string or bytes-like object, got 'NoneType'\n",
      "Report output type: expected string or bytes-like object, got 'NoneType'\n",
      "Report output type: expected string or bytes-like object, got 'NoneType'\n"
     ]
    }
   ],
   "source": [
    "# Individual (annual & mid-year)\n",
    "for org in org_shortnames:\n",
    "    for prsn in ppl_saef:\n",
    "        p = kpi.get_context_idv(org, ppl_saef, prsn, bucket, biblio, rpt_year)\n",
    "        if len(p) > 0:\n",
    "            templates['doc_idv'].render(kpi.get_context_idv(org, ppl_saef, prsn, bucket, biblio, rpt_year))\n",
    "            templates['doc_idv'].save(f\"output/{rpt_year}/midyear/idv/{org}_{ppl_saef.get(prsn)['LastName']}{ppl_saef.get(prsn)['FirstName']}.docx\") "
   ]
  },
  {
   "cell_type": "code",
   "execution_count": null,
   "metadata": {},
   "outputs": [
    {
     "name": "stdout",
     "output_type": "stream",
     "text": [
      "Report output type: expected string or bytes-like object, got 'NoneType'\n",
      "Report output type: expected string or bytes-like object, got 'NoneType'\n"
     ]
    }
   ],
   "source": [
    "# Organisation (annual & mid-year)\n",
    "for org in org_shortnames:\n",
    "    templates['doc_org'].render(kpi.get_context_org(org, organisations, ppl_saef, bucket, biblio, rpt_year, proj_saef_nohold)[0])\n",
    "    templates['doc_org'].save(f\"output/{rpt_year}/midyear/org/{org}.docx\")"
   ]
  },
  {
   "cell_type": "code",
   "execution_count": 11,
   "metadata": {},
   "outputs": [
    {
     "name": "stdout",
     "output_type": "stream",
     "text": [
      "Report output type: expected string or bytes-like object, got 'NoneType'\n",
      "Report output type: expected string or bytes-like object, got 'NoneType'\n"
     ]
    },
    {
     "name": "stderr",
     "output_type": "stream",
     "text": [
      "/Library/Frameworks/Python.framework/Versions/3.11/lib/python3.11/site-packages/openpyxl/worksheet/_reader.py:329: UserWarning: Data Validation extension is not supported and will be removed\n",
      "  warn(msg)\n",
      "/Library/Frameworks/Python.framework/Versions/3.11/lib/python3.11/site-packages/openpyxl/worksheet/_reader.py:329: UserWarning: Data Validation extension is not supported and will be removed\n",
      "  warn(msg)\n",
      "/Library/Frameworks/Python.framework/Versions/3.11/lib/python3.11/site-packages/openpyxl/worksheet/_reader.py:329: UserWarning: Data Validation extension is not supported and will be removed\n",
      "  warn(msg)\n",
      "/Library/Frameworks/Python.framework/Versions/3.11/lib/python3.11/site-packages/openpyxl/worksheet/_reader.py:329: UserWarning: Data Validation extension is not supported and will be removed\n",
      "  warn(msg)\n",
      "/Library/Frameworks/Python.framework/Versions/3.11/lib/python3.11/site-packages/openpyxl/worksheet/_reader.py:329: UserWarning: Data Validation extension is not supported and will be removed\n",
      "  warn(msg)\n",
      "/Library/Frameworks/Python.framework/Versions/3.11/lib/python3.11/site-packages/openpyxl/worksheet/_reader.py:329: UserWarning: Data Validation extension is not supported and will be removed\n",
      "  warn(msg)\n",
      "/Library/Frameworks/Python.framework/Versions/3.11/lib/python3.11/site-packages/openpyxl/worksheet/_reader.py:329: UserWarning: Data Validation extension is not supported and will be removed\n",
      "  warn(msg)\n",
      "/Library/Frameworks/Python.framework/Versions/3.11/lib/python3.11/site-packages/openpyxl/worksheet/_reader.py:329: UserWarning: Data Validation extension is not supported and will be removed\n",
      "  warn(msg)\n",
      "/Library/Frameworks/Python.framework/Versions/3.11/lib/python3.11/site-packages/openpyxl/worksheet/_reader.py:329: UserWarning: Data Validation extension is not supported and will be removed\n",
      "  warn(msg)\n",
      "/Library/Frameworks/Python.framework/Versions/3.11/lib/python3.11/site-packages/openpyxl/worksheet/_reader.py:329: UserWarning: Data Validation extension is not supported and will be removed\n",
      "  warn(msg)\n",
      "/Library/Frameworks/Python.framework/Versions/3.11/lib/python3.11/site-packages/openpyxl/worksheet/_reader.py:329: UserWarning: Data Validation extension is not supported and will be removed\n",
      "  warn(msg)\n",
      "/Library/Frameworks/Python.framework/Versions/3.11/lib/python3.11/site-packages/openpyxl/worksheet/_reader.py:329: UserWarning: Data Validation extension is not supported and will be removed\n",
      "  warn(msg)\n",
      "/Library/Frameworks/Python.framework/Versions/3.11/lib/python3.11/site-packages/openpyxl/worksheet/_reader.py:329: UserWarning: Data Validation extension is not supported and will be removed\n",
      "  warn(msg)\n"
     ]
    }
   ],
   "source": [
    "# Organisation Excel (mid-year)\n",
    "for org in org_shortnames:\n",
    "    kpi.write_context_org_excel(kpi.get_context_org(org, organisations, ppl_saef, bucket, biblio, rpt_year, proj_saef_nohold), proj_saef, organisations, org)\n"
   ]
  }
 ],
 "metadata": {
  "kernelspec": {
   "display_name": "base",
   "language": "python",
   "name": "python3"
  },
  "language_info": {
   "codemirror_mode": {
    "name": "ipython",
    "version": 3
   },
   "file_extension": ".py",
   "mimetype": "text/x-python",
   "name": "python",
   "nbconvert_exporter": "python",
   "pygments_lexer": "ipython3",
   "version": "3.9.18"
  },
  "orig_nbformat": 4
 },
 "nbformat": 4,
 "nbformat_minor": 2
}
