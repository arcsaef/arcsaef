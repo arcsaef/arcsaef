{
 "cells": [
  {
   "cell_type": "code",
   "execution_count": 1,
   "metadata": {},
   "outputs": [],
   "source": [
    "import importlib\n",
    "from lib import kpi\n",
    "from lib import kpi_wh"
   ]
  },
  {
   "cell_type": "code",
   "execution_count": 26,
   "metadata": {},
   "outputs": [
    {
     "data": {
      "text/plain": [
       "<module 'lib.kpi_wh' from 'c:\\\\workspace\\\\GitHub\\\\arcsaef\\\\lib\\\\kpi_wh.py'>"
      ]
     },
     "execution_count": 26,
     "metadata": {},
     "output_type": "execute_result"
    }
   ],
   "source": [
    "importlib.reload(kpi)\n",
    "importlib.reload(kpi_wh)"
   ]
  },
  {
   "cell_type": "code",
   "execution_count": null,
   "metadata": {},
   "outputs": [],
   "source": [
    "data           = kpi.load_data()\n",
    "rpt_config     = kpi.get_rpt_args()\n",
    "saef_library   = kpi.get_saef_library()\n",
    "responses_json = kpi.split_response(data[0])\n",
    "ppl_collection = kpi.person_construct(responses_json, rpt_config[0])\n",
    "proj_saef      = kpi.project_construct(responses_json, ppl_collection[0])\n",
    "# proj_saef      = kpi_wh.projects_construct(data[3])\n",
    "# ppl_collection = kpi_wh.people_construct(data[3], rpt_config[0])\n",
    "buckets        = kpi.matched_library(saef_library, ppl_collection[1])\n",
    "templates      = kpi.load_templates()\n",
    "meta_bucket    = buckets[0]\n",
    "bucket         = buckets[1]\n",
    "ppl_saef       = dict(sorted(ppl_collection[0].items(), key = lambda x: x[1].get('LastName')))\n",
    "ppl_hash       = ppl_collection[1]\n",
    "bulk_responses = data[0]\n",
    "biblio         = data[1]\n",
    "scopus         = data[2]\n",
    "rpt_year       = rpt_config[0]\n",
    "organisations  = rpt_config[1]\n",
    "org_shortnames = list(organisations.keys())\n",
    "proj_saef_nohold = proj_saef[proj_saef.Status != 'On hold']"
   ]
  },
  {
   "cell_type": "code",
   "execution_count": 39,
   "metadata": {},
   "outputs": [
    {
     "ename": "AttributeError",
     "evalue": "'tuple' object has no attribute 'get'",
     "output_type": "error",
     "traceback": [
      "\u001b[1;31m---------------------------------------------------------------------------\u001b[0m",
      "\u001b[1;31mAttributeError\u001b[0m                            Traceback (most recent call last)",
      "Cell \u001b[1;32mIn [39], line 1\u001b[0m\n\u001b[1;32m----> 1\u001b[0m \u001b[43mppl_collection\u001b[49m\u001b[38;5;241;43m.\u001b[39;49m\u001b[43mget\u001b[49m(\u001b[38;5;124m'\u001b[39m\u001b[38;5;124mFBC44D1A-F9B8-D744-9B50-F4CD71E237D1\u001b[39m\u001b[38;5;124m'\u001b[39m)\n",
      "\u001b[1;31mAttributeError\u001b[0m: 'tuple' object has no attribute 'get'"
     ]
    }
   ],
   "source": [
    "ppl_collection.get('FBC44D1A-F9B8-D744-9B50-F4CD71E237D1')"
   ]
  },
  {
   "cell_type": "code",
   "execution_count": 6,
   "metadata": {},
   "outputs": [],
   "source": [
    "# 1.remove empty rows\n",
    "bucket = bucket[bucket['id_person'].isna() == False]\n",
    "# 2. Make parsing more straight forward\n",
    "for prsn in ppl_saef:\n",
    "    if ppl_saef[prsn]['Gender'] == 'Non-binary/Gender diverse' or  ppl_saef[prsn]['Gender']  == 'Prefer not to say':\n",
    "        ppl_saef[prsn]['Gender'] = 'Other'\n",
    "# 3. Exclude: Nicole Webster, 027E2DEA-DB06-3946-B8C8-E053EF8E09F0\n",
    "del ppl_saef['027E2DEA-DB06-3946-B8C8-E053EF8E09F0']; del ppl_hash['NicoleWebster']\n",
    "# 4. Remove leading/trialing whitespace from  blibliographic entry.\n",
    "biblio['Biblio'] = biblio['Biblio'].str.strip()\n",
    "# 5. Jump into your pedantry\n",
    "for prsn in ppl_saef:\n",
    "    if ppl_saef[prsn]['Position'] != 'PhD Student' and  ppl_saef[prsn]['Position'] != 'Masters Student' and \\\n",
    "       ppl_saef[prsn]['Position'] != 'Honours Student':\n",
    "        ppl_saef[prsn]['StudentProjectTitle'] = 'Not applicable'"
   ]
  },
  {
   "cell_type": "markdown",
   "metadata": {},
   "source": [
    " ### A brief what's where and why\n",
    " - Reporting data is from 3 sources;\n",
    "   - Filemaker: api output (via Postman) is saved as text\n",
    "     - data/kpi_reporting_yyyymmdd.txt\n",
    "   - Zotero: api output for reporting year (via Postman) is saved as json\n",
    "     - data/saef_library_postman_yyyymmdd.json\n",
    "   - Bibiliography: Zotero bibligraphy output & manual update is saved a xlsx\n",
    "     - data/all/zot_biblio.xlsx\n",
    " - Updating config/reporting.yaml is critical\n",
    " - Individual and Organisation cells are run for mid-year and annual reporting\n",
    " - Organisation Excel is uused for mid-year"
   ]
  },
  {
   "cell_type": "code",
   "execution_count": 27,
   "metadata": {},
   "outputs": [],
   "source": [
    "# Individual (annual & mid-year)\n",
    "for org in org_shortnames[7]:\n",
    "    for prsn in ppl_saef:\n",
    "        p = kpi.get_context_idv(org, ppl_saef, prsn, bucket, biblio, rpt_year)\n",
    "        if len(p) > 0:\n",
    "            templates['doc_idv'].render(kpi.get_context_idv(org, ppl_saef, prsn, bucket, biblio, rpt_year))\n",
    "            templates['doc_idv'].save(f\"output/{rpt_year}/annual/idv/{org}_{ppl_saef.get(prsn)['LastName']}{ppl_saef.get(prsn)['FirstName']}.docx\") "
   ]
  },
  {
   "cell_type": "code",
   "execution_count": 28,
   "metadata": {},
   "outputs": [
    {
     "ename": "TypeError",
     "evalue": "'NoneType' object is not iterable",
     "output_type": "error",
     "traceback": [
      "\u001b[1;31m---------------------------------------------------------------------------\u001b[0m",
      "\u001b[1;31mTypeError\u001b[0m                                 Traceback (most recent call last)",
      "Cell \u001b[1;32mIn [28], line 1\u001b[0m\n\u001b[1;32m----> 1\u001b[0m \u001b[43mkpi\u001b[49m\u001b[38;5;241;43m.\u001b[39;49m\u001b[43mget_context_idv\u001b[49m\u001b[43m(\u001b[49m\u001b[38;5;124;43m'\u001b[39;49m\u001b[38;5;124;43mJCU\u001b[39;49m\u001b[38;5;124;43m'\u001b[39;49m\u001b[43m,\u001b[49m\u001b[43m \u001b[49m\u001b[43mppl_saef\u001b[49m\u001b[43m,\u001b[49m\u001b[43m \u001b[49m\u001b[38;5;124;43m'\u001b[39;49m\u001b[38;5;124;43mE77129A9-D1E7-7B4A-AF77-8031D27DF1AE\u001b[39;49m\u001b[38;5;124;43m'\u001b[39;49m\u001b[43m,\u001b[49m\u001b[43m \u001b[49m\u001b[43mbucket\u001b[49m\u001b[43m,\u001b[49m\u001b[43m \u001b[49m\u001b[43mbiblio\u001b[49m\u001b[43m,\u001b[49m\u001b[43m \u001b[49m\u001b[43mrpt_year\u001b[49m\u001b[43m)\u001b[49m\n",
      "File \u001b[1;32mc:\\workspace\\GitHub\\arcsaef\\lib\\kpi.py:435\u001b[0m, in \u001b[0;36mget_context_idv\u001b[1;34m(org, people, id_prsn, res_outputs, bibliography, yr)\u001b[0m\n\u001b[0;32m    433\u001b[0m context_idv[\u001b[38;5;124m'\u001b[39m\u001b[38;5;124mStudentProjectTitle\u001b[39m\u001b[38;5;124m'\u001b[39m]   \u001b[38;5;241m=\u001b[39m prsn\u001b[38;5;241m.\u001b[39mget(\u001b[38;5;124m'\u001b[39m\u001b[38;5;124mStudentProjectTitle\u001b[39m\u001b[38;5;124m'\u001b[39m)\n\u001b[0;32m    434\u001b[0m context_idv[\u001b[38;5;124m'\u001b[39m\u001b[38;5;124mSaef_funded\u001b[39m\u001b[38;5;124m'\u001b[39m]           \u001b[38;5;241m=\u001b[39m prsn\u001b[38;5;241m.\u001b[39mget(\u001b[38;5;124m'\u001b[39m\u001b[38;5;124mSAEFFunded\u001b[39m\u001b[38;5;124m'\u001b[39m)\n\u001b[1;32m--> 435\u001b[0m context_idv[\u001b[38;5;124m'\u001b[39m\u001b[38;5;124mProjectCodeFTEList\u001b[39m\u001b[38;5;124m'\u001b[39m]    \u001b[38;5;241m=\u001b[39m \u001b[38;5;124m'\u001b[39m\u001b[38;5;124m, \u001b[39m\u001b[38;5;124m'\u001b[39m\u001b[38;5;241m.\u001b[39mjoin(prsn\u001b[38;5;241m.\u001b[39mget(\u001b[38;5;124m'\u001b[39m\u001b[38;5;124mProjects\u001b[39m\u001b[38;5;124m'\u001b[39m)) \u001b[38;5;28;01mif\u001b[39;00m \u001b[38;5;28;43many\u001b[39;49m\u001b[43m(\u001b[49m\u001b[43mprsn\u001b[49m\u001b[38;5;241;43m.\u001b[39;49m\u001b[43mget\u001b[49m\u001b[43m(\u001b[49m\u001b[38;5;124;43m'\u001b[39;49m\u001b[38;5;124;43mProjects\u001b[39;49m\u001b[38;5;124;43m'\u001b[39;49m\u001b[43m)\u001b[49m\u001b[43m)\u001b[49m \u001b[38;5;28;01melse\u001b[39;00m \u001b[38;5;28;01mNone\u001b[39;00m\n\u001b[0;32m    436\u001b[0m context_idv[\u001b[38;5;124m'\u001b[39m\u001b[38;5;124mCareerStage\u001b[39m\u001b[38;5;124m'\u001b[39m]           \u001b[38;5;241m=\u001b[39m prsn\u001b[38;5;241m.\u001b[39mget(\u001b[38;5;124m'\u001b[39m\u001b[38;5;124mCareerStage\u001b[39m\u001b[38;5;124m'\u001b[39m)\n\u001b[0;32m    437\u001b[0m context_idv[\u001b[38;5;124m'\u001b[39m\u001b[38;5;124mCrossnodeSupervision\u001b[39m\u001b[38;5;124m'\u001b[39m]  \u001b[38;5;241m=\u001b[39m prsn\u001b[38;5;241m.\u001b[39mget(\u001b[38;5;124m'\u001b[39m\u001b[38;5;124mCrossnodeSupervision\u001b[39m\u001b[38;5;124m'\u001b[39m)\n",
      "\u001b[1;31mTypeError\u001b[0m: 'NoneType' object is not iterable"
     ]
    }
   ],
   "source": [
    "\n",
    "kpi.get_context_idv('JCU', ppl_saef, 'E77129A9-D1E7-7B4A-AF77-8031D27DF1AE', bucket, biblio, rpt_year)"
   ]
  },
  {
   "cell_type": "code",
   "execution_count": null,
   "metadata": {},
   "outputs": [
    {
     "name": "stdout",
     "output_type": "stream",
     "text": [
      "Report output type: expected string or bytes-like object, got 'NoneType'\n",
      "Report output type: expected string or bytes-like object, got 'NoneType'\n"
     ]
    }
   ],
   "source": [
    "# Organisation (annual & mid-year)\n",
    "for org in org_shortnames:\n",
    "    templates['doc_org'].render(kpi.get_context_org(org, organisations, ppl_saef, bucket, biblio, rpt_year, proj_saef_nohold)[0])\n",
    "    templates['doc_org'].save(f\"output/{rpt_year}/midyear/org/{org}.docx\")"
   ]
  },
  {
   "cell_type": "code",
   "execution_count": 11,
   "metadata": {},
   "outputs": [
    {
     "name": "stdout",
     "output_type": "stream",
     "text": [
      "Report output type: expected string or bytes-like object, got 'NoneType'\n",
      "Report output type: expected string or bytes-like object, got 'NoneType'\n"
     ]
    },
    {
     "name": "stderr",
     "output_type": "stream",
     "text": [
      "/Library/Frameworks/Python.framework/Versions/3.11/lib/python3.11/site-packages/openpyxl/worksheet/_reader.py:329: UserWarning: Data Validation extension is not supported and will be removed\n",
      "  warn(msg)\n",
      "/Library/Frameworks/Python.framework/Versions/3.11/lib/python3.11/site-packages/openpyxl/worksheet/_reader.py:329: UserWarning: Data Validation extension is not supported and will be removed\n",
      "  warn(msg)\n",
      "/Library/Frameworks/Python.framework/Versions/3.11/lib/python3.11/site-packages/openpyxl/worksheet/_reader.py:329: UserWarning: Data Validation extension is not supported and will be removed\n",
      "  warn(msg)\n",
      "/Library/Frameworks/Python.framework/Versions/3.11/lib/python3.11/site-packages/openpyxl/worksheet/_reader.py:329: UserWarning: Data Validation extension is not supported and will be removed\n",
      "  warn(msg)\n",
      "/Library/Frameworks/Python.framework/Versions/3.11/lib/python3.11/site-packages/openpyxl/worksheet/_reader.py:329: UserWarning: Data Validation extension is not supported and will be removed\n",
      "  warn(msg)\n",
      "/Library/Frameworks/Python.framework/Versions/3.11/lib/python3.11/site-packages/openpyxl/worksheet/_reader.py:329: UserWarning: Data Validation extension is not supported and will be removed\n",
      "  warn(msg)\n",
      "/Library/Frameworks/Python.framework/Versions/3.11/lib/python3.11/site-packages/openpyxl/worksheet/_reader.py:329: UserWarning: Data Validation extension is not supported and will be removed\n",
      "  warn(msg)\n",
      "/Library/Frameworks/Python.framework/Versions/3.11/lib/python3.11/site-packages/openpyxl/worksheet/_reader.py:329: UserWarning: Data Validation extension is not supported and will be removed\n",
      "  warn(msg)\n",
      "/Library/Frameworks/Python.framework/Versions/3.11/lib/python3.11/site-packages/openpyxl/worksheet/_reader.py:329: UserWarning: Data Validation extension is not supported and will be removed\n",
      "  warn(msg)\n",
      "/Library/Frameworks/Python.framework/Versions/3.11/lib/python3.11/site-packages/openpyxl/worksheet/_reader.py:329: UserWarning: Data Validation extension is not supported and will be removed\n",
      "  warn(msg)\n",
      "/Library/Frameworks/Python.framework/Versions/3.11/lib/python3.11/site-packages/openpyxl/worksheet/_reader.py:329: UserWarning: Data Validation extension is not supported and will be removed\n",
      "  warn(msg)\n",
      "/Library/Frameworks/Python.framework/Versions/3.11/lib/python3.11/site-packages/openpyxl/worksheet/_reader.py:329: UserWarning: Data Validation extension is not supported and will be removed\n",
      "  warn(msg)\n",
      "/Library/Frameworks/Python.framework/Versions/3.11/lib/python3.11/site-packages/openpyxl/worksheet/_reader.py:329: UserWarning: Data Validation extension is not supported and will be removed\n",
      "  warn(msg)\n"
     ]
    }
   ],
   "source": [
    "# Organisation Excel (mid-year)\n",
    "for org in org_shortnames:\n",
    "    kpi.write_context_org_excel(kpi.get_context_org(org, organisations, ppl_saef, bucket, biblio, rpt_year, proj_saef_nohold), proj_saef, organisations, org)\n"
   ]
  },
  {
   "cell_type": "code",
   "execution_count": 36,
   "metadata": {},
   "outputs": [
    {
     "name": "stdout",
     "output_type": "stream",
     "text": [
      "None\n"
     ]
    }
   ],
   "source": [
    "print(ppl_saef.get('81E17FF3-F45C-074F-9A24-83BC9189D10E')['Projects'])"
   ]
  },
  {
   "cell_type": "code",
   "execution_count": null,
   "metadata": {},
   "outputs": [
    {
     "name": "stdout",
     "output_type": "stream",
     "text": [
      "None\n"
     ]
    }
   ],
   "source": [
    "print(ppl_saef.get())"
   ]
  }
 ],
 "metadata": {
  "kernelspec": {
   "display_name": "base",
   "language": "python",
   "name": "python3"
  },
  "language_info": {
   "codemirror_mode": {
    "name": "ipython",
    "version": 3
   },
   "file_extension": ".py",
   "mimetype": "text/x-python",
   "name": "python",
   "nbconvert_exporter": "python",
   "pygments_lexer": "ipython3",
   "version": "3.9.18"
  },
  "orig_nbformat": 4
 },
 "nbformat": 4,
 "nbformat_minor": 2
}
