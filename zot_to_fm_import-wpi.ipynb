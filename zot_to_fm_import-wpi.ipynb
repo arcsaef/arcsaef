{
 "cells": [
  {
   "cell_type": "markdown",
   "metadata": {},
   "source": [
    "Get research output data from Zoteron and prepare the data for FileMaker import. \n",
    "\n",
    "This procedure is typically run 2 weeks after the \n",
    "finalisation of mid-year and annual KPI reporting."
   ]
  },
  {
   "cell_type": "code",
   "execution_count": 1,
   "metadata": {},
   "outputs": [],
   "source": [
    "import kpi\n",
    "import json\n",
    "import sqlite3\n",
    "import csv\n",
    "import pandas as pd"
   ]
  },
  {
   "cell_type": "code",
   "execution_count": 13,
   "metadata": {},
   "outputs": [
    {
     "data": {
      "text/plain": [
       "<module 'kpi' from '/Users/nxo/Workspace/saef_api/kpi.py'>"
      ]
     },
     "execution_count": 13,
     "metadata": {},
     "output_type": "execute_result"
    }
   ],
   "source": [
    "# Run this if changes have been made to kpi.py. It ensure that any changes are\n",
    "# made available in the current session.\n",
    "import importlib\n",
    "importlib.reload(kpi)"
   ]
  },
  {
   "cell_type": "code",
   "execution_count": 14,
   "metadata": {},
   "outputs": [],
   "source": [
    "# This is an ALL load to fix historical error. Hopefully it's a one off\n",
    "with open('data/saef_library_All_postman_20231004.json', mode='r', encoding='utf8') as f:\n",
    "        data = f.read()\n",
    "        saef_library = json.loads(data)\n",
    "projectKey = []\n",
    "with open('data/fm_projectKey.csv', newline='') as f:\n",
    "        reader = csv.reader(f)\n",
    "        for row in reader:\n",
    "                projectKey.append(row)\n",
    "\n",
    "data           = kpi.load_data()\n",
    "responses_json = kpi.split_response(data[0])\n",
    "ppl_collection = kpi.person_construct(responses_json)\n",
    "proj_saef      = kpi.project_construct(responses_json, ppl_collection[0])\n",
    "buckets        = kpi.matched_library(saef_library, ppl_collection[1])\n",
    "meta_bucket    = buckets[0]\n",
    "bucket         = buckets[1]\n",
    "ppl_saef       = ppl_collection[0]\n",
    "ppl_hash       = ppl_collection[1]\n"
   ]
  },
  {
   "cell_type": "code",
   "execution_count": 16,
   "metadata": {},
   "outputs": [],
   "source": [
    "con = sqlite3.connect(\"data/saef_library.db\")\n",
    "cur = con.cursor()"
   ]
  },
  {
   "cell_type": "code",
   "execution_count": 4,
   "metadata": {},
   "outputs": [],
   "source": [
    "# We should need to re-create these tables !\n",
    "# cur.execute(\"CREATE TABLE fm_zotero(id_zotero, item_type, title, rights, pubyr, name, id_person, pub_title, project)\")\n",
    "# cur.execute(\"CREATE TABLE fm_projectKey(id_project, project_code, project_alias)\")\n",
    "# cur.executemany(\"INSERT INTO fm_projectKey VALUES(?, ?, ?)\", projectKey)\n",
    "# con.commit()"
   ]
  },
  {
   "cell_type": "code",
   "execution_count": 17,
   "metadata": {},
   "outputs": [
    {
     "data": {
      "text/plain": [
       "464"
      ]
     },
     "execution_count": 17,
     "metadata": {},
     "output_type": "execute_result"
    }
   ],
   "source": [
    "# Match bucket headings with fm_zotero table headings. Then append to fm_zotero\n",
    "meta_bucket.rename(columns={\"key\": \"id_zotero\", \"itemType\": \"item_type\", \"publicationTitle\": \"pub_title\"}, errors=\"raise\", inplace=True)\n",
    "meta_bucket.to_sql('fm_zotero', con, if_exists='append', index=False)"
   ]
  },
  {
   "cell_type": "code",
   "execution_count": 18,
   "metadata": {},
   "outputs": [],
   "source": [
    "# Update the following tables in FM\n",
    "# Outputs\n",
    "# people_Outputs\n",
    "# project_Outputs"
   ]
  },
  {
   "cell_type": "code",
   "execution_count": 126,
   "metadata": {},
   "outputs": [],
   "source": [
    "# Export FM ready(ish) project_Ouputs table csv ingest\n",
    "outputs = pd.read_sql_query(\"SELECT DISTINCT id_zotero, item_type, title, pub_title, LOWER(rights), pubyr, project, id_project \\\n",
    "                            FROM fm_zotero LEFT JOIN fm_projectKey \\\n",
    "                            ON fm_zotero.project = fm_projectKey.project_code \\\n",
    "                            WHERE project != ''\", con)\n",
    "outputs.to_csv('data/proj_outputs_20231005.csv',index=False)\n",
    "# Visual check, run before export\n",
    "# for row in cur.execute(\"SELECT DISTINCT id_zotero, item_type, title, pub_title, LOWER(rights), pubyr, project, id_project \\\n",
    "#                         FROM fm_zotero LEFT JOIN fm_projectKey \\\n",
    "#                         ON fm_zotero.project = fm_projectKey.project_code \\\n",
    "#                        WHERE project != ''\"):\n",
    "#     print(row)"
   ]
  },
  {
   "cell_type": "code",
   "execution_count": 130,
   "metadata": {},
   "outputs": [],
   "source": [
    "# Export FM ready(ish) Ouputs table csv ingest\n",
    "ppl_outputs = pd.read_sql_query(\"SELECT id_person, id_zotero\\\n",
    "                                FROM fm_zotero\", con)\n",
    "ppl_outputs.to_csv('data/ppl_outputs_20231005.csv',index=False)\n",
    "# Visual check, run before export\n",
    "# for row in cur.execute(\"SELECT id_person, id_project, title, pub_title, pubyr \\\n",
    "#                         FROM fm_zotero LEFT JOIN fm_projectKey \\\n",
    "#                         ON fm_zotero.project = fm_projectKey.project_code \\\n",
    "#                        WHERE project != ''\"):\n",
    "#     print(row)"
   ]
  },
  {
   "cell_type": "code",
   "execution_count": 120,
   "metadata": {},
   "outputs": [],
   "source": [
    "# Future buckets should perform an update into fm_zotero of new rows only\n",
    "# ToDo: write update SQL logic\n",
    "# Outputs list\n",
    "# .header on\n",
    "# .mode csv\n",
    "# .once saef_api/data/outputs_20231005.csv\n",
    "# SELECT id_zotero, item_type, title, LOWER(rights) AS embargo, pubyr, pub_title FROM fm_zotero;\n",
    "# .once saef_api/data/ppl_outputs_20231005.csv\n",
    "# SELECT id_person, id_zotero FROM fm_zotero;\n",
    "# .once saef_api/data/projects_Outputs.csv\n",
    "# SELECT DISTINCT project, id_project, id_zotero from fm_zotero LEFT JOIN fm_projectKey ON fm_zotero.project = fm_projectKey.project_code WHERE project != '';\n",
    "\n",
    "# Tidy data in Excel, save as .xlsx, FM import"
   ]
  },
  {
   "cell_type": "code",
   "execution_count": 19,
   "metadata": {},
   "outputs": [],
   "source": [
    "con.close()"
   ]
  }
 ],
 "metadata": {
  "kernelspec": {
   "display_name": "base",
   "language": "python",
   "name": "python3"
  },
  "language_info": {
   "codemirror_mode": {
    "name": "ipython",
    "version": 3
   },
   "file_extension": ".py",
   "mimetype": "text/x-python",
   "name": "python",
   "nbconvert_exporter": "python",
   "pygments_lexer": "ipython3",
   "version": "3.11.2"
  },
  "orig_nbformat": 4
 },
 "nbformat": 4,
 "nbformat_minor": 2
}
