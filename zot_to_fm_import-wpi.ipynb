{
 "cells": [
  {
   "cell_type": "markdown",
   "metadata": {},
   "source": [
    "Get research output data from Zoteron and prepare the data for FileMaker import. \n",
    "\n",
    "This procedure is typically run 2 weeks after the \n",
    "finalisation of mid-year and annual KPI reporting."
   ]
  },
  {
   "cell_type": "code",
   "execution_count": 79,
   "metadata": {},
   "outputs": [],
   "source": [
    "import json\n",
    "import sqlite3\n",
    "import csv\n",
    "import pandas as pd\n",
    "import importlib\n",
    "from lib import kpi"
   ]
  },
  {
   "cell_type": "code",
   "execution_count": 13,
   "metadata": {},
   "outputs": [
    {
     "data": {
      "text/plain": [
       "<module 'kpi' from '/Users/nxo/Workspace/saef_api/kpi.py'>"
      ]
     },
     "execution_count": 13,
     "metadata": {},
     "output_type": "execute_result"
    }
   ],
   "source": [
    "# Run this if changes have been made to kpi.py. It ensure that any changes are\n",
    "# made available in the current session.\n",
    "import importlib\n",
    "importlib.reload(kpi)"
   ]
  },
  {
   "cell_type": "code",
   "execution_count": 100,
   "metadata": {},
   "outputs": [],
   "source": [
    "# This is an ALL load to fix historical error. Hopefully it's a one off\n",
    "with open('data/all/saef_library_All_postman_20240110.json', mode='r', encoding='utf8') as f:\n",
    "        data = f.read()\n",
    "        saef_library = json.loads(data)\n",
    "projectKeys = []\n",
    "# This is output from an FM report: ProjectKey_Report\n",
    "with open('data/all/fm_projectKey.csv', newline='') as f:\n",
    "        reader = csv.reader(f)\n",
    "        for row in reader:\n",
    "                projectKeys.append(row)\n",
    "projectKey_df = pd.DataFrame(projectKeys, columns=['id_project', 'alias', 'project'])\n",
    "projectKey = projectKey_df[['id_project', 'project', 'alias']]\n",
    "\n",
    "data           = kpi.load_data()\n",
    "rpt_config     = kpi.get_rpt_args()\n",
    "responses_json = kpi.split_response(data[0])\n",
    "ppl_collection = kpi.person_construct(responses_json, data[2], rpt_config[0])\n",
    "proj_saef      = kpi.project_construct(responses_json, ppl_collection[0])\n",
    "buckets        = kpi.matched_library(saef_library, ppl_collection[1])\n",
    "meta_bucket    = buckets[0]\n",
    "bucket         = buckets[1]\n",
    "ppl_saef       = ppl_collection[0]\n",
    "ppl_hash       = ppl_collection[1]\n"
   ]
  },
  {
   "cell_type": "code",
   "execution_count": 81,
   "metadata": {},
   "outputs": [],
   "source": [
    "meta_bucket.loc[meta_bucket['itemType'] == 'book',             'itemType'] = 'Book'\n",
    "meta_bucket.loc[meta_bucket['itemType'] == 'dataset',          'itemType'] = 'Dataset'\n",
    "meta_bucket.loc[meta_bucket['itemType'] == 'journalArticle',   'itemType'] = 'Journal Article'\n",
    "meta_bucket.loc[meta_bucket['itemType'] == 'presentation',     'itemType'] = 'Presentation'\n",
    "meta_bucket.loc[meta_bucket['itemType'] == 'plenary',          'itemType'] = 'Plenary'\n",
    "meta_bucket.loc[meta_bucket['itemType'] == 'report',           'itemType'] = 'Report'\n",
    "meta_bucket.loc[meta_bucket['itemType'] == 'radioBroadcast',   'itemType'] = 'Radio'\n",
    "meta_bucket.loc[meta_bucket['itemType'] == 'artwork',          'itemType'] = 'Artwork'\n",
    "meta_bucket.loc[meta_bucket['itemType'] == 'tvBroadcast',      'itemType'] = 'TV'\n",
    "meta_bucket.loc[meta_bucket['itemType'] == 'bookSection',      'itemType'] = 'Book Chapter'\n",
    "meta_bucket.loc[meta_bucket['itemType'] == 'conferencePaper',  'itemType'] = 'Conference Paper'\n",
    "meta_bucket.loc[meta_bucket['itemType'] == 'newspaperArticle', 'itemType'] = 'Newspaper'\n",
    "meta_bucket.loc[meta_bucket['itemType'] == 'videoRecording',   'itemType'] = 'Video'\n",
    "meta_bucket.loc[meta_bucket['itemType'] == 'blogPost',         'itemType'] = 'Blog'\n",
    "meta_bucket.loc[meta_bucket['itemType'] == 'magazineArticle',  'itemType'] = 'Magazine'\n",
    "meta_bucket.loc[meta_bucket['itemType'] == 'film',             'itemType'] = 'Film'"
   ]
  },
  {
   "cell_type": "code",
   "execution_count": 133,
   "metadata": {},
   "outputs": [],
   "source": [
    "# get outputs associated with a single project\n",
    "b1 = bucket[ bucket.project != ''  ]\n",
    "b2 = b1[b1.project.str.contains(\";\") == False]\n",
    "b2 = b2[['key', 'itemType', 'title', 'rights', 'pubyr', 'project']]\n",
    "b2 = b2.drop_duplicates()"
   ]
  },
  {
   "cell_type": "code",
   "execution_count": 134,
   "metadata": {},
   "outputs": [],
   "source": [
    "# get outputs associated with more than one project\n",
    "df = bucket[bucket.project.str.contains(';')][['key', 'itemType', 'title', 'rights', 'pubyr', 'publicationTitle', 'project']].drop_duplicates() #n=31\n",
    "b3 = []\n",
    "for i in range(len(df)):\n",
    "    proj_list  = df[df['key'] == df.iloc[i, 0]]['project'].str.split(';').tolist()\n",
    "    proj_list = proj_list[0]\n",
    "    for proj in proj_list:\n",
    "        b3.append([df.iloc[i, 0], df.iloc[i, 1], df.iloc[i, 2], df.iloc[i, 3], df.iloc[i, 4], proj.strip()])\n",
    "\n",
    "b3 = pd.DataFrame(b3, columns=['key', 'itemType', 'title', 'rights', 'pubyr', 'project'])"
   ]
  },
  {
   "cell_type": "code",
   "execution_count": 142,
   "metadata": {},
   "outputs": [],
   "source": [
    "# proj_outputs\n",
    "proj_basket = pd.concat([b2, b3])\n",
    "proj_outputs = proj_basket.merge(projectKey_df, how='left', on='project')\n",
    "proj_outputs.rename(columns={\"key\": \"id_zotero\"}, errors=\"raise\", inplace=True)\n",
    "proj_outputs = proj_outputs[['id_zotero', 'id_project', 'project', 'title']]"
   ]
  },
  {
   "cell_type": "code",
   "execution_count": 85,
   "metadata": {},
   "outputs": [],
   "source": [
    "# Match bucket headings with outputs table headings. Then append to outputs\n",
    "outputs = meta_bucket[['key', 'itemType', 'title', 'rights', 'pubyr', 'publicationTitle']]\n",
    "outputs.rename(columns={\"key\": \"id_zotero\", \"itemType\": \"item_type\", \"publicationTitle\": \"pub_title\"}, errors=\"raise\", inplace=True)"
   ]
  },
  {
   "cell_type": "code",
   "execution_count": 111,
   "metadata": {},
   "outputs": [],
   "source": [
    "# Match bucket headings with ppl_outputs table headings. Then append to ppl_outputs\n",
    "ppl_outputs = bucket.loc[ bucket.itemType.isin(['attachment', 'note']) == False ][['key', 'id_person', 'name', 'title']]\n",
    "ppl_outputs.rename(columns={\"key\": \"id_zotero\"}, errors=\"raise\", inplace=True)\n",
    "ppl_outputs = ppl_outputs[['id_zotero', 'id_person', 'name', 'title']]"
   ]
  },
  {
   "cell_type": "code",
   "execution_count": 119,
   "metadata": {},
   "outputs": [],
   "source": [
    "con = sqlite3.connect(\"data/all/saef_library.db\")\n",
    "cur = con.cursor()"
   ]
  },
  {
   "cell_type": "code",
   "execution_count": 144,
   "metadata": {},
   "outputs": [],
   "source": [
    "# There are origin tables. We should not need to re-create these tables unless the data is blown away in FM\n",
    "cur.execute(\"CREATE TABLE outputs(id_zotero, item_type, title, rights, pubyr, pub_title)\")\n",
    "cur.execute(\"CREATE TABLE ppl_outputs(id_zotero, id_person, name, title)\")\n",
    "cur.execute(\"CREATE TABLE proj_outputs(id_zotero, id_project, project, title)\")\n",
    "cur.execute(\"CREATE TABLE projectKey(id_project, project, alias)\")\n",
    "con.commit()"
   ]
  },
  {
   "cell_type": "code",
   "execution_count": 121,
   "metadata": {},
   "outputs": [
    {
     "data": {
      "text/plain": [
       "27"
      ]
     },
     "execution_count": 121,
     "metadata": {},
     "output_type": "execute_result"
    }
   ],
   "source": [
    "# this is a output from FM. This should be a one off unless the data is blown away in FM\n",
    "projectKey.to_sql('projectKey', con, if_exists='append', index=False)"
   ]
  },
  {
   "cell_type": "code",
   "execution_count": 145,
   "metadata": {},
   "outputs": [
    {
     "data": {
      "text/plain": [
       "95"
      ]
     },
     "execution_count": 145,
     "metadata": {},
     "output_type": "execute_result"
    }
   ],
   "source": [
    "# Populate\n",
    "# outputs\n",
    "# ppl_outputs\n",
    "# proj_outputs\n",
    "outputs.to_sql('outputs', con, if_exists='append', index=False)\n",
    "ppl_outputs.to_sql('ppl_outputs', con, if_exists='append', index=False)\n",
    "proj_outputs.to_sql('proj_outputs', con, if_exists='append', index=False)\n"
   ]
  },
  {
   "cell_type": "code",
   "execution_count": 123,
   "metadata": {},
   "outputs": [],
   "source": [
    "# Export FM ready(ish) project_Ouputs table csv ingest\n",
    "outputs = pd.read_sql_query(\"SELECT * FROM outputs\", con)\n",
    "outputs.to_csv('data/output/outputs_20240110.csv',index=False)"
   ]
  },
  {
   "cell_type": "code",
   "execution_count": 126,
   "metadata": {},
   "outputs": [],
   "source": [
    "# Export FM ready(ish) Ouputs table csv ingest\n",
    "ppl_outputs = pd.read_sql_query(\"SELECT id_zotero, id_person FROM ppl_outputs\", con)\n",
    "ppl_outputs.to_csv('data/output/ppl_outputs_20240110.csv',index=False)"
   ]
  },
  {
   "cell_type": "code",
   "execution_count": 146,
   "metadata": {},
   "outputs": [],
   "source": [
    "# Export FM ready(ish) Ouputs table csv ingest\n",
    "proj_outputs = pd.read_sql_query(\"SELECT id_zotero, id_project FROM proj_outputs\", con)\n",
    "proj_outputs.to_csv('data/output/proj_outputs_20240110.csv',index=False)"
   ]
  },
  {
   "cell_type": "code",
   "execution_count": 143,
   "metadata": {},
   "outputs": [
    {
     "data": {
      "text/html": [
       "<div>\n",
       "<style scoped>\n",
       "    .dataframe tbody tr th:only-of-type {\n",
       "        vertical-align: middle;\n",
       "    }\n",
       "\n",
       "    .dataframe tbody tr th {\n",
       "        vertical-align: top;\n",
       "    }\n",
       "\n",
       "    .dataframe thead th {\n",
       "        text-align: right;\n",
       "    }\n",
       "</style>\n",
       "<table border=\"1\" class=\"dataframe\">\n",
       "  <thead>\n",
       "    <tr style=\"text-align: right;\">\n",
       "      <th></th>\n",
       "      <th>id_zotero</th>\n",
       "      <th>id_project</th>\n",
       "      <th>project</th>\n",
       "      <th>title</th>\n",
       "    </tr>\n",
       "  </thead>\n",
       "  <tbody>\n",
       "    <tr>\n",
       "      <th>0</th>\n",
       "      <td>RZKQ34ZR</td>\n",
       "      <td>785265CB-72B3-8C4B-9668-823F1552C299</td>\n",
       "      <td>T2_P015</td>\n",
       "      <td>#GlobalCollembola - full sample-level database</td>\n",
       "    </tr>\n",
       "    <tr>\n",
       "      <th>1</th>\n",
       "      <td>74GEEA3L</td>\n",
       "      <td>785265CB-72B3-8C4B-9668-823F1552C299</td>\n",
       "      <td>T2_P015</td>\n",
       "      <td>Global fine-resolution data on springtail abundance and community structure</td>\n",
       "    </tr>\n",
       "    <tr>\n",
       "      <th>2</th>\n",
       "      <td>NL9JCFTG</td>\n",
       "      <td>785265CB-72B3-8C4B-9668-823F1552C299</td>\n",
       "      <td>T2_P015</td>\n",
       "      <td>Globally invariant metabolism but density-diversity mismatch in springtails</td>\n",
       "    </tr>\n",
       "    <tr>\n",
       "      <th>3</th>\n",
       "      <td>HRYIP6ZP</td>\n",
       "      <td>CB59459A-9C9C-454E-A679-198B8392F952</td>\n",
       "      <td>T2_P023</td>\n",
       "      <td>A Green Fingerprint of Antarctica: Drones, Hyperspectral Imaging, and Machine Learning for Moss and Lichen Classification</td>\n",
       "    </tr>\n",
       "    <tr>\n",
       "      <th>4</th>\n",
       "      <td>DRGVXIXN</td>\n",
       "      <td>FFA7D2E5-8D4A-FB43-99E4-9187862B9BB8</td>\n",
       "      <td>T2_P022</td>\n",
       "      <td>Environmental effects of stratospheric ozone depletion, UV radiation, and interactions with climate change: UNEP Environmental Effects Assessment Panel, Update 2022</td>\n",
       "    </tr>\n",
       "    <tr>\n",
       "      <th>...</th>\n",
       "      <td>...</td>\n",
       "      <td>...</td>\n",
       "      <td>...</td>\n",
       "      <td>...</td>\n",
       "    </tr>\n",
       "    <tr>\n",
       "      <th>90</th>\n",
       "      <td>CBGS97PZ</td>\n",
       "      <td>6AF09846-2EEB-9C4A-BD43-917BD313518E</td>\n",
       "      <td>T3_P031</td>\n",
       "      <td>Antarctic Climate Change and the Environment: A Decadal Synopsis and Recommendations for Action. Scientific Committee on Antarctic Research, Cambridge, United Kingdom.</td>\n",
       "    </tr>\n",
       "    <tr>\n",
       "      <th>91</th>\n",
       "      <td>TRTV5IVA</td>\n",
       "      <td>ACEC6F1C-FC21-2E4A-ADEF-DC4C89AD77CB</td>\n",
       "      <td>T2_P016</td>\n",
       "      <td>Cross-Chapter Paper 6: Polar Regions. IPCC WGII Sixth Assessment Report</td>\n",
       "    </tr>\n",
       "    <tr>\n",
       "      <th>92</th>\n",
       "      <td>TRTV5IVA</td>\n",
       "      <td>FFA7D2E5-8D4A-FB43-99E4-9187862B9BB8</td>\n",
       "      <td>T2_P022</td>\n",
       "      <td>Cross-Chapter Paper 6: Polar Regions. IPCC WGII Sixth Assessment Report</td>\n",
       "    </tr>\n",
       "    <tr>\n",
       "      <th>93</th>\n",
       "      <td>A2F6H38Q</td>\n",
       "      <td>ACEC6F1C-FC21-2E4A-ADEF-DC4C89AD77CB</td>\n",
       "      <td>T2_P016</td>\n",
       "      <td>Basking in the sun: how mosses photosynthesise and survive in Antarctica</td>\n",
       "    </tr>\n",
       "    <tr>\n",
       "      <th>94</th>\n",
       "      <td>A2F6H38Q</td>\n",
       "      <td>FFA7D2E5-8D4A-FB43-99E4-9187862B9BB8</td>\n",
       "      <td>T2_P022</td>\n",
       "      <td>Basking in the sun: how mosses photosynthesise and survive in Antarctica</td>\n",
       "    </tr>\n",
       "  </tbody>\n",
       "</table>\n",
       "<p>95 rows × 4 columns</p>\n",
       "</div>"
      ],
      "text/plain": [
       "   id_zotero                            id_project  project  \\\n",
       "0   RZKQ34ZR  785265CB-72B3-8C4B-9668-823F1552C299  T2_P015   \n",
       "1   74GEEA3L  785265CB-72B3-8C4B-9668-823F1552C299  T2_P015   \n",
       "2   NL9JCFTG  785265CB-72B3-8C4B-9668-823F1552C299  T2_P015   \n",
       "3   HRYIP6ZP  CB59459A-9C9C-454E-A679-198B8392F952  T2_P023   \n",
       "4   DRGVXIXN  FFA7D2E5-8D4A-FB43-99E4-9187862B9BB8  T2_P022   \n",
       "..       ...                                   ...      ...   \n",
       "90  CBGS97PZ  6AF09846-2EEB-9C4A-BD43-917BD313518E  T3_P031   \n",
       "91  TRTV5IVA  ACEC6F1C-FC21-2E4A-ADEF-DC4C89AD77CB  T2_P016   \n",
       "92  TRTV5IVA  FFA7D2E5-8D4A-FB43-99E4-9187862B9BB8  T2_P022   \n",
       "93  A2F6H38Q  ACEC6F1C-FC21-2E4A-ADEF-DC4C89AD77CB  T2_P016   \n",
       "94  A2F6H38Q  FFA7D2E5-8D4A-FB43-99E4-9187862B9BB8  T2_P022   \n",
       "\n",
       "                                                                                                                                                                      title  \n",
       "0                                                                                                                            #GlobalCollembola - full sample-level database  \n",
       "1                                                                                               Global fine-resolution data on springtail abundance and community structure  \n",
       "2                                                                                               Globally invariant metabolism but density-diversity mismatch in springtails  \n",
       "3                                                 A Green Fingerprint of Antarctica: Drones, Hyperspectral Imaging, and Machine Learning for Moss and Lichen Classification  \n",
       "4      Environmental effects of stratospheric ozone depletion, UV radiation, and interactions with climate change: UNEP Environmental Effects Assessment Panel, Update 2022  \n",
       "..                                                                                                                                                                      ...  \n",
       "90  Antarctic Climate Change and the Environment: A Decadal Synopsis and Recommendations for Action. Scientific Committee on Antarctic Research, Cambridge, United Kingdom.  \n",
       "91                                                                                                  Cross-Chapter Paper 6: Polar Regions. IPCC WGII Sixth Assessment Report  \n",
       "92                                                                                                  Cross-Chapter Paper 6: Polar Regions. IPCC WGII Sixth Assessment Report  \n",
       "93                                                                                                 Basking in the sun: how mosses photosynthesise and survive in Antarctica  \n",
       "94                                                                                                 Basking in the sun: how mosses photosynthesise and survive in Antarctica  \n",
       "\n",
       "[95 rows x 4 columns]"
      ]
     },
     "execution_count": 143,
     "metadata": {},
     "output_type": "execute_result"
    }
   ],
   "source": [
    "# Future buckets should perform an update into outputs, proj_outputs & ppl_outputs of new rows only\n",
    "# ToDo: write update SQL logic\n",
    "# Outputs list\n",
    "# .header on\n",
    "# .mode csv\n",
    "# .once saef_api/data/outputs_20231005.csv\n",
    "# SELECT id_zotero, item_type, title, LOWER(rights) AS embargo, pubyr, pub_title FROM fm_zotero;\n",
    "# .once saef_api/data/ppl_outputs_20231005.csv\n",
    "# SELECT id_person, id_zotero FROM fm_zotero;\n",
    "# .once saef_api/data/projects_Outputs.csv\n",
    "# SELECT DISTINCT project, id_project, id_zotero from fm_zotero LEFT JOIN fm_projectKey ON fm_zotero.project = fm_projectKey.project_code WHERE project != '';\n",
    "\n",
    "# Tidy data in Excel, save as .xlsx, FM import\n",
    "proj_outputs"
   ]
  },
  {
   "cell_type": "code",
   "execution_count": 147,
   "metadata": {},
   "outputs": [],
   "source": [
    "con.close()"
   ]
  }
 ],
 "metadata": {
  "kernelspec": {
   "display_name": "base",
   "language": "python",
   "name": "python3"
  },
  "language_info": {
   "codemirror_mode": {
    "name": "ipython",
    "version": 3
   },
   "file_extension": ".py",
   "mimetype": "text/x-python",
   "name": "python",
   "nbconvert_exporter": "python",
   "pygments_lexer": "ipython3",
   "version": "3.11.2"
  },
  "orig_nbformat": 4
 },
 "nbformat": 4,
 "nbformat_minor": 2
}
