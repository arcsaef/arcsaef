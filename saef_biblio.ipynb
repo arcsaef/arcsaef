{
 "cells": [
  {
   "cell_type": "code",
   "execution_count": 91,
   "metadata": {},
   "outputs": [],
   "source": [
    "\n",
    "import json\n",
    "import requests\n",
    "import re\n",
    "import pandas as pd"
   ]
  },
  {
   "cell_type": "code",
   "execution_count": null,
   "metadata": {},
   "outputs": [],
   "source": [
    "# Data file was exportm from Zotero in CSL JSON format\n",
    "with open('data/BIB_saef_20241206.json', 'r') as f:\n",
    "    bib = json.load(f)"
   ]
  },
  {
   "cell_type": "code",
   "execution_count": 7,
   "metadata": {},
   "outputs": [],
   "source": [
    "data = {}\n",
    "for entry in bib:\n",
    "    doi  = entry['DOI']                                         # Use DOI as key\n",
    "    saef_author_list    = re.findall('saef:.*', entry['note'])  # Use saef keyword as an identifier\n",
    "\n",
    "    for names in saef_author_list:\n",
    "            names_tidy  = re.sub('saef:', '', names, flags=re.IGNORECASE)\n",
    "            names_split = names_tidy.strip().split(';')         # Create a list of saef names\n",
    "    \n",
    "    # retrieve openalex authorship for DOI\n",
    "    url = f\"https://api.openalex.org/works/https://doi.org/{doi}?select=authorships\"\n",
    "    authorships = requests.get(url).json()                      # OpenAlex call using DOI arg\n",
    "    data[doi] = [names_split, authorships]\n"
   ]
  },
  {
   "cell_type": "code",
   "execution_count": null,
   "metadata": {},
   "outputs": [],
   "source": [
    "# Openalex call retrieving collaboration details\n",
    "collaboration = []\n",
    "for combo in data:\n",
    "    for authors in data[combo][1]['authorships']:\n",
    "        author = authors['author']['display_name']\n",
    "        if authors['author']['orcid'] is not None:\n",
    "            auth_orcid = authors['author']['orcid'].replace(\"https://orcid.org/\", \"\")\n",
    "        else:\n",
    "            auth_orcid = \"0000-0000-0000-0000\"\n",
    "\n",
    "        if len(authors['institutions']) > 0:\n",
    "            auth_inst = authors['institutions'][0]['display_name']\n",
    "            inst_ctry = authors['institutions'][0]['country_code']\n",
    "        else:\n",
    "            auth_inst, inst_ctry = \"Missing\", \"Missing\"\n",
    "\n",
    "        # print(f\"{combo}, {data[combo][0]}, {author}, {auth_orcid}, {auth_inst}\") # debug print statement\n",
    "        collaboration.append({\"doi\": combo, \"saef_author\":data[combo][0], \"collab_author\": author, \\\n",
    "                              \"collab_orcid\":auth_orcid, \"collab_inst\": auth_inst, \"collab_ctry\": inst_ctry})"
   ]
  },
  {
   "cell_type": "code",
   "execution_count": 122,
   "metadata": {},
   "outputs": [],
   "source": [
    "# Collaboration depth\n",
    "saef_author_collab = {}\n",
    "for x in collaboration:\n",
    "    for a in x.get('saef_author'):\n",
    "        author = a.strip().replace(\"(\", \"\").replace(\")\", \"\")\n",
    "        # example\n",
    "        # name = 'LarissaLubianaBotelho'\n",
    "        # split = re.sub('([A-Z][a-z]+)', r' \\1', re.sub('([A-Z]+)', r' \\1', name)).split() # https://stackoverflow.com/questions/29916065/how-to-do-camelcase-split-in-python\n",
    "        # print(f\"{split[0]} {split[-1]}\") \n",
    "        split = re.sub('([A-Z][a-z]+)', r' \\1', re.sub('([A-Z]+)', r' \\1', author)).split()\n",
    "        # E.g.  re.search(r'Aleks\\w* ?\\w*.? Terauds\\-?\\w*', 'Aleksander Terauds'), re.search(r'Ben\\w* ?\\w*.? Henley\\-?\\w*', 'Benjamin A. Henley')\n",
    "        regex = f\"{split[0]}\\w* ?\\w*.? {split[-1]}\\-?\\w*\" \n",
    "        if re.search(regex, x.get('collab_author')):\n",
    "            pass # name match, don't count as a collaboration. i.e. you cannot collaborate with yourself\n",
    "        else:\n",
    "            if author in saef_author_collab:\n",
    "                saef_author_collab[author].append(f\"{x.get('collab_inst')}~{x.get('collab_ctry')}\")\n",
    "            else:\n",
    "                saef_author_collab[author] = [f\"{x.get('collab_inst')}~{x.get('collab_ctry')}\"]\n",
    "\n",
    "# Remove duplicate collaborations per researcher\n",
    "for entry in saef_author_collab:\n",
    "    saef_author_collab[entry] = set(saef_author_collab.get(entry))"
   ]
  },
  {
   "cell_type": "code",
   "execution_count": null,
   "metadata": {},
   "outputs": [],
   "source": [
    "# breadth of collaboration: Institution & Country\n",
    "collab_macro = []\n",
    "for v in saef_author_collab.values():\n",
    "    for i in v:\n",
    "        if re.search(r'Missing', i):\n",
    "            pass\n",
    "        else:\n",
    "            collab_macro.append(i.split(\"~\"))"
   ]
  },
  {
   "cell_type": "code",
   "execution_count": 126,
   "metadata": {},
   "outputs": [],
   "source": [
    "\n",
    "collab_macro_df = pd.DataFrame(collab_macro)\n",
    "collab_macro_df.columns = [\"institution\", \"country\"]\n"
   ]
  },
  {
   "cell_type": "code",
   "execution_count": 142,
   "metadata": {},
   "outputs": [
    {
     "data": {
      "text/plain": [
       "institution\n",
       "Monash University                                               28\n",
       "University of Wollongong                                        16\n",
       "Queensland University of Technology                             15\n",
       "University of Queensland                                        12\n",
       "Utrecht University                                               8\n",
       "Commonwealth Scientific and Industrial Research Organisation     7\n",
       "University of Pretoria                                           6\n",
       "University of Otago                                              6\n",
       "Universidad Nacional Autónoma de México                          5\n",
       "Australian Antarctic Division                                    5\n",
       "Ecosystem Sciences                                               5\n",
       "Australian Research Council                                      5\n",
       "UNSW Sydney                                                      5\n",
       "University of Vienna                                             5\n",
       "Universidad Autónoma de Madrid                                   4\n",
       "Chinese Academy of Sciences                                      4\n",
       "Aarhus University                                                4\n",
       "University of Tasmania                                           4\n",
       "Millennium Institute for Integrative Biology                     4\n",
       "Centre National de la Recherche Scientifique                     4\n",
       "Name: count, dtype: int64"
      ]
     },
     "execution_count": 142,
     "metadata": {},
     "output_type": "execute_result"
    }
   ],
   "source": [
    "collab_macro_df['institution'].value_counts().head(20)"
   ]
  },
  {
   "cell_type": "code",
   "execution_count": 141,
   "metadata": {},
   "outputs": [
    {
     "data": {
      "text/plain": [
       "country\n",
       "AU    150\n",
       "US     61\n",
       "FR     35\n",
       "GB     32\n",
       "DE     26\n",
       "NZ     26\n",
       "ES     24\n",
       "ZA     22\n",
       "CA     21\n",
       "CN     21\n",
       "BR     19\n",
       "NL     17\n",
       "JP     16\n",
       "CH     14\n",
       "IT     14\n",
       "RU     12\n",
       "AT     11\n",
       "CL     11\n",
       "SE      9\n",
       "IN      8\n",
       "Name: count, dtype: int64"
      ]
     },
     "execution_count": 141,
     "metadata": {},
     "output_type": "execute_result"
    }
   ],
   "source": [
    "collab_macro_df['country'].value_counts().head(20)"
   ]
  }
 ],
 "metadata": {
  "kernelspec": {
   "display_name": "base",
   "language": "python",
   "name": "python3"
  },
  "language_info": {
   "codemirror_mode": {
    "name": "ipython",
    "version": 3
   },
   "file_extension": ".py",
   "mimetype": "text/x-python",
   "name": "python",
   "nbconvert_exporter": "python",
   "pygments_lexer": "ipython3",
   "version": "3.9.18"
  }
 },
 "nbformat": 4,
 "nbformat_minor": 2
}
