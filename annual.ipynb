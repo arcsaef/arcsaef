{
 "cells": [
  {
   "cell_type": "code",
   "execution_count": 2,
   "metadata": {},
   "outputs": [],
   "source": [
    "import importlib\n",
    "from lib import kpi"
   ]
  },
  {
   "cell_type": "code",
   "execution_count": 9,
   "metadata": {},
   "outputs": [
    {
     "data": {
      "text/plain": [
       "<module 'lib.kpi' from 'c:\\\\Users\\\\okpokam\\\\OneDrive - Queensland University of Technology\\\\SAEF KPI Reporting\\\\lib\\\\kpi.py'>"
      ]
     },
     "execution_count": 9,
     "metadata": {},
     "output_type": "execute_result"
    }
   ],
   "source": [
    "importlib.reload(kpi)"
   ]
  },
  {
   "cell_type": "code",
   "execution_count": 11,
   "metadata": {},
   "outputs": [
    {
     "name": "stderr",
     "output_type": "stream",
     "text": [
      "c:\\Users\\okpokam\\Miniconda3\\lib\\site-packages\\openpyxl\\worksheet\\_reader.py:329: UserWarning: Data Validation extension is not supported and will be removed\n",
      "  warn(msg)\n"
     ]
    }
   ],
   "source": [
    "data           = kpi.load_data()\n",
    "rpt_config     = kpi.get_rpt_args()\n",
    "saef_library   = kpi.get_saef_library()\n",
    "responses_json = kpi.split_response(data[0])\n",
    "ppl_collection = kpi.person_construct(responses_json, data[2], rpt_config[0])\n",
    "proj_saef      = kpi.project_construct(responses_json, ppl_collection[0])\n",
    "buckets        = kpi.matched_library(saef_library, ppl_collection[1])\n",
    "templates      = kpi.load_templates()\n",
    "meta_bucket    = buckets[0]\n",
    "bucket         = buckets[1]\n",
    "ppl_saef       = dict(sorted(ppl_collection[0].items(), key = lambda x: x[1].get('LastName')))\n",
    "ppl_hash       = ppl_collection[1]\n",
    "bulk_responses = data[0]\n",
    "biblio         = data[1]\n",
    "scopus         = data[2]\n",
    "rpt_year       = rpt_config[0]\n",
    "organisations  = rpt_config[1]\n",
    "org_shortnames = list(organisations.keys())\n",
    "proj_saef_nohold = proj_saef[proj_saef.Status != 'On hold']"
   ]
  },
  {
   "cell_type": "code",
   "execution_count": 12,
   "metadata": {},
   "outputs": [],
   "source": [
    "# 1.remove empty rows\n",
    "bucket = bucket[bucket['id_person'].isna() == False]\n",
    "# 2. Make parsing more straight forward\n",
    "for prsn in ppl_saef:\n",
    "    if ppl_saef[prsn]['Gender'] == 'Non-binary/Gender diverse' or  ppl_saef[prsn]['Gender']  == 'Prefer not to say':\n",
    "        ppl_saef[prsn]['Gender'] = 'Other'\n",
    "# 3. Exclude: Nicole Webster, 027E2DEA-DB06-3946-B8C8-E053EF8E09F0\n",
    "del ppl_saef['027E2DEA-DB06-3946-B8C8-E053EF8E09F0']; del ppl_hash['NicoleWebster']\n",
    "# 4. Remove leading/trialing whitespace from  blibliographic entry.\n",
    "biblio['Biblio'] = biblio['Biblio'].str.strip()\n",
    "# 5. Jump into your pedantry\n",
    "for prsn in ppl_saef:\n",
    "    if ppl_saef[prsn]['Position'] != 'PhD Student' and  ppl_saef[prsn]['Position'] != 'Masters Student' and \\\n",
    "       ppl_saef[prsn]['Position'] != 'Honours Student':\n",
    "        ppl_saef[prsn]['StudentProjectTitle'] = 'Not applicable'"
   ]
  },
  {
   "cell_type": "code",
   "execution_count": null,
   "metadata": {},
   "outputs": [],
   "source": [
    "# individual\n",
    "for org in org_shortnames:\n",
    "    for prsn in ppl_saef:\n",
    "        p = kpi.get_context_idv(org, ppl_saef, prsn, bucket, biblio, rpt_year)\n",
    "        if len(p) > 0:\n",
    "            templates['doc_idv'].render(kpi.get_context_idv(org, ppl_saef, prsn, bucket, biblio, rpt_year))\n",
    "            templates['doc_idv'].save(f\"output/annual/{rpt_year}/idv/{org}_{ppl_saef.get(prsn)['LastName']}{ppl_saef.get(prsn)['FirstName']}.docx\") "
   ]
  },
  {
   "cell_type": "code",
   "execution_count": null,
   "metadata": {},
   "outputs": [],
   "source": [
    "# Organisation\n",
    "for org in org_shortnames:\n",
    "    templates['doc_org'].render(kpi.get_context_org(org, organisations, ppl_saef, bucket, biblio, rpt_year, proj_saef_nohold)[0])\n",
    "    templates['doc_org'].save(f\"output/annual/{rpt_year}/org/{org}.docx\")"
   ]
  },
  {
   "cell_type": "code",
   "execution_count": 84,
   "metadata": {},
   "outputs": [],
   "source": [
    "# Program (SAEF) trail run file\n",
    "# kpi.get_context_saef(org_shortnames[0:7], ppl_saef, bucket, biblio, meta_bucket, rpt_year, proj_saef)\n",
    "# kpi.sri_researcher_count(kpi.get_context_org('WA Museum', ppl_saef, bucket, biblio, rpt_year, proj_saef)[1], 'Post Doc')\n",
    "# Program\n",
    "templates['saef'].render(kpi.get_context_saef(organisations, ppl_saef, bucket, biblio, meta_bucket, rpt_year, proj_saef_nohold))\n",
    "templates['saef'].save(f\"output/annual/Organisation output test/SAEF.docx\")"
   ]
  },
  {
   "cell_type": "markdown",
   "metadata": {},
   "source": [
    "## Draft 1 Debug"
   ]
  },
  {
   "cell_type": "code",
   "execution_count": 26,
   "metadata": {},
   "outputs": [
    {
     "name": "stdout",
     "output_type": "stream",
     "text": [
      "{'Salutation': 'Dr Nerida Wilson', 'Position': 'Partner Investigator', 'Organisation': 'Western Australian Museum', 'StartDateDMY': '14/06/2021', 'EndDateDMY': '30/06/2023', 'Fte': 10, 'Profile': 'Dr Nerida Wilson is a research scientist at the Western Australian Museum, Perth, and manages its Molecular Systematic Unit. Her research interests focus on understanding and describing the extent of biological diversity present on earth and resolving the evolutionary relationships among those taxa. She is passionate about taxonomy and systematics as the foundational discipline that underpins biological science.', 'StudentProjectTitle': 'Not applicable', 'Saef_funded': 'No', 'ProjectCodeFTEList': 'T2_P015 (5), T2_P020 (10)', 'CareerStage': 'Senior Researcher', 'CrossnodeSupervision': 'No', 'Workshop': None, 'Supervision': None, 'lastname': 'Wilson', 'Prize': None, 'Scar': None, 'Advisory': 'Research Advisory Committee member, National Marine Facility (2021). https://mnf.csiro.au/en/About/Governance-and-committees/Research-Advisory-Committee [2021 - ]', 'ScarNamed': None, 'AdvisoryNamed': 'Wilson:  Research Advisory Committee member, National Marine Facility (2021). https://mnf.csiro.au/en/About/Governance-and-committees/Research-Advisory-Committee [2021 - ]', 'PrizeNamed': None, 'SuperPostdoc': 'Dr Sally Lau', 'SuperHons': None, 'SuperPhd': None, 'SuperMasters': None, 'SuperAssoc': None, 'Public': None, 'Women': None, 'Industry': None, 'Ngo': None, 'Ats': None, 'Govt': None, 'Museum': None, 'Artwork': None, 'Plenary': None, 'Journal': 'Clarke, Laurence, Justine Shaw, Leonie Suter, Javier Atalah, Dana Bergstrom, Elisabeth Biersma, Peter Convey, Michelle Greve, Oakes Holland, Melissa Houghton, Kevin Hughes, Emma Johnston, Catherine King, Arlie McCarthy, Angela McGaughran, Luis Pertierra, Sharon Robinson, Craig Sherman, Jonathan Stark, Mark Stevens, Jan Strugnell, Ulla Von Ammon, Nerida Wilson, Anastasija Zaiko, and Anna MacDonald. 2023. “An Expert-Driven Framework for Applying eDNA Tools to Improve Biosecurity in the Antarctic.” Management of Biological Invasions 14(3):379–402. doi: 10.3391/mbi.2023.14.3.01.\\n\\nLau, Sally C. Y., Jan M. Strugnell, Chester J. Sands, Catarina N. S. Silva, and Nerida G. Wilson. 2023. “Genomic Insights of Evolutionary Divergence and Life History Innovations in Antarctic Brittle Stars.” Molecular Ecology 32(13):3382–3402. doi: 10.1111/mec.16951.', 'Dataset': None, 'Book': None, 'Chapter': None, 'Conference': None, 'Film': None, 'Newspaper': None, 'Radio': 'Wilson, N. 2023. “Interview with Dr Nerida Wilson.” Nine to Noon with Kathryn Ryan.', 'Tv': None, 'Ntro': None, 'Report': None, 'Present': None}\n"
     ]
    }
   ],
   "source": [
    "# for x in responses_json['People_Detail']['data']:\n",
    "#     if x['fieldData']['Position'] == 'Associate Investigator' and x['fieldData']['Organisations 2::ShortName'] == 'Monash' \\\n",
    "#     and  x['fieldData']['State'] == 'Active':\n",
    "#         print(x['fieldData']['LastName'] )\n",
    "# kpi.get_context_saef(organisations, ppl_saef, bucket, biblio, meta_bucket, rpt_year, proj_saef)\n",
    "# kpi.get_context_org('QUT', organisations, ppl_saef, bucket, biblio, rpt_year, proj_saef_nohold)[0]\n",
    "x = kpi.get_context_idv('WA Museum', ppl_saef, ppl_hash.get('NeridaWilson'), bucket, biblio, rpt_year)\n",
    "# if x.get('Supervision'):\n",
    "#     for reportee in x.get('Supervision'):\n",
    "#         print(f\"{ppl_saef.get(reportee)['Position']}: {ppl_saef.get(reportee)['Salutation']}\")\n",
    "# scopus['orcid']\n",
    "print(x)\n",
    "\n",
    "# ppl_collection[0]\n",
    "# proj_saef\n",
    "# set(meta_bucket.key) - set(biblio.ID_Zotero)\n",
    "\n"
   ]
  },
  {
   "cell_type": "code",
   "execution_count": 12,
   "metadata": {},
   "outputs": [
    {
     "data": {
      "text/plain": [
       "{'Title': 'Professor',\n",
       " 'FirstName': 'Kerrie',\n",
       " 'LastName': 'Wilson',\n",
       " 'CareerStage': 'Senior Researcher',\n",
       " 'State': 'Active',\n",
       " 'FTE': 10,\n",
       " 'Position': 'Chief Investigator',\n",
       " 'Gender': 'Woman',\n",
       " 'StartDate': '2021-06-14',\n",
       " 'EndDate': '2028-12-31',\n",
       " 'Org': 'QUT',\n",
       " 'Organisation': 'Queensland University of Technology',\n",
       " 'Profile': 'Professor Kerrie Wilson is the Pro Vice-Chancellor (Sustainability Strategy) at Queensland University of Technology (QUT). Kerrie is a leading interdisciplinary decision scientist with more than 190 research publications focusing on applied resource allocation problems, such as where to invest limited resources to protect or restore biodiversity and what factors influence success. She has developed and applied decision science to inform investments in environmental protection, management, and restoration initiatives.',\n",
       " 'SAEFFunded': 'No',\n",
       " 'Consent': 'Yes - email, address and phone',\n",
       " 'Orcid': '0000-0002-0092-935X',\n",
       " 'Grants': [],\n",
       " 'Training': [],\n",
       " 'Prizes': [{'recordId': '7',\n",
       "   'Prizes::Year': 2022,\n",
       "   'Prizes::Type': 'Recognition',\n",
       "   'Prizes::Title': '2022 Research Leader Science Award sponsored by The University of Southern Queensland',\n",
       "   'modId': '0'}],\n",
       " 'StudentProjectTitle': 'Not applicable',\n",
       " 'Projects': ['T3_P028 (20)', 'T2_P025 (5)', 'T3_P029 (10)'],\n",
       " 'Workshops': ['9BFC965D-FB2A-3F4D-AD59-17DFDC4493BE',\n",
       "  'C32988C5-D6ED-CD44-BF58-946E1FBA6E5D',\n",
       "  'E0AD05FE-66F4-4D49-978B-B70AC4DA1453',\n",
       "  'BB2D71C6-33D1-3A44-B034-B7C1FD42811D',\n",
       "  '04A731B6-D945-1047-9EEE-E96337BC881C',\n",
       "  '9BFC965D-FB2A-3F4D-AD59-17DFDC4493BE'],\n",
       " 'Supervises': ['18B831FC-B410-D040-ABE6-941BB56C51C9',\n",
       "  '92839E1B-458E-5849-BB7D-CD30C754691A',\n",
       "  '293BFA95-C504-8242-92C5-CF16477FECFB',\n",
       "  'FBC44D1A-F9B8-D744-9B50-F4CD71E237D1',\n",
       "  'C44050A3-DB26-B241-938A-42FE87F4419E',\n",
       "  '1422D147-8CF6-2F43-9583-232EDD815937',\n",
       "  '2F716530-43FC-4C97-B5EC-54E1794F37C7',\n",
       "  '92C39A1E-2875-2D4A-AF2D-7DBD0F890556',\n",
       "  '6E04CF85-C64D-1049-BD52-31719D2308FF'],\n",
       " 'Advisory': [{'recordId': '253',\n",
       "   'people_Advisory::YearFrom': 2017,\n",
       "   'people_Advisory::AdvisoryRole': 'Invited Member – Reef 2050 Plan Independent Expert Panel',\n",
       "   'people_Advisory::YearTo': '',\n",
       "   'people_Advisory::SCAR': 'N',\n",
       "   'modId': '2',\n",
       "   'advisory_named': 'Wilson:  Invited Member – Reef 2050 Plan Independent Expert Panel'},\n",
       "  {'recordId': '44',\n",
       "   'people_Advisory::YearFrom': 2019,\n",
       "   'people_Advisory::AdvisoryRole': 'Independent Expert Panel (2017 –) Australian Heritage Council (AHC), Natural Heritage expert (2019 – ) ',\n",
       "   'people_Advisory::YearTo': '',\n",
       "   'people_Advisory::SCAR': 'N',\n",
       "   'modId': '1',\n",
       "   'advisory_named': 'Wilson:  Independent Expert Panel (2017 –) Australian Heritage Council (AHC), Natural Heritage expert (2019 – ) '},\n",
       "  {'recordId': '254',\n",
       "   'people_Advisory::YearFrom': 2019,\n",
       "   'people_Advisory::AdvisoryRole': 'Australian Heritage Council (AHC), Natural Heritage expert',\n",
       "   'people_Advisory::YearTo': '',\n",
       "   'people_Advisory::SCAR': 'N',\n",
       "   'modId': '1',\n",
       "   'advisory_named': 'Wilson:  Australian Heritage Council (AHC), Natural Heritage expert'},\n",
       "  {'recordId': '43',\n",
       "   'people_Advisory::YearFrom': 2022,\n",
       "   'people_Advisory::AdvisoryRole': 'Invited Member - Federal Government Advisory Committee on the Environmental Management of Industrial Chemicals (IChEMS)',\n",
       "   'people_Advisory::YearTo': '',\n",
       "   'people_Advisory::SCAR': 'N',\n",
       "   'modId': '3',\n",
       "   'advisory_named': 'Wilson:  Invited Member - Federal Government Advisory Committee on the Environmental Management of Industrial Chemicals (IChEMS)'},\n",
       "  {'recordId': '251',\n",
       "   'people_Advisory::YearFrom': 2022,\n",
       "   'people_Advisory::AdvisoryRole': 'Leadership Council of the Sustainable Development Solutions Network (SDSN)  Regional Network for Australia, New Zealand & Pacific SDSN AusNZPac Leadership Council',\n",
       "   'people_Advisory::YearTo': '',\n",
       "   'people_Advisory::SCAR': 'N',\n",
       "   'modId': '1',\n",
       "   'advisory_named': 'Wilson:  Leadership Council of the Sustainable Development Solutions Network (SDSN)  Regional Network for Australia, New Zealand & Pacific SDSN AusNZPac Leadership Council'},\n",
       "  {'recordId': '252',\n",
       "   'people_Advisory::YearFrom': 2022,\n",
       "   'people_Advisory::AdvisoryRole': 'Board member of Ecofutures',\n",
       "   'people_Advisory::YearTo': '',\n",
       "   'people_Advisory::SCAR': 'N',\n",
       "   'modId': '1',\n",
       "   'advisory_named': 'Wilson:  Board member of Ecofutures'}],\n",
       " 'CrossnodeSupervision': 'No',\n",
       " 'Salutation': 'Professor Kerrie Wilson'}"
      ]
     },
     "execution_count": 12,
     "metadata": {},
     "output_type": "execute_result"
    }
   ],
   "source": [
    "# kpi.get_org_biblio(biblio, bucket, 'newspaperArticle')\n",
    "# kpi.matched_library(bucket, ppl_hash.get('StevenChown'))\n",
    "# ppl_saef[ppl_hash.get('ChrisGreening')]['LastName']\n",
    "# proj_saef[proj_saef.Status != 'On hold']\n",
    "# bucket[(bucket.itemType == 'presentation')]\n",
    "# bucket['ignore'] = bucket['tags'].apply(len)\n",
    "# pr = bucket[(bucket.itemType == 'presentation') & (bucket.loc[:, ('tags')].apply(len)==0)]\n",
    "# pr\n",
    "ppl_saef.get(ppl_hash.get('KerrieWilson'))\n",
    "\n",
    "# ignore_zot_tags = pr[pr.ignore == 0].key.to_list()\n",
    "# ignore_zot_tags\n",
    "# bucket[bucket.key.isin(ignore_zot_tags)]\n",
    "\n"
   ]
  },
  {
   "cell_type": "code",
   "execution_count": 15,
   "metadata": {},
   "outputs": [
    {
     "data": {
      "text/html": [
       "<div>\n",
       "<style scoped>\n",
       "    .dataframe tbody tr th:only-of-type {\n",
       "        vertical-align: middle;\n",
       "    }\n",
       "\n",
       "    .dataframe tbody tr th {\n",
       "        vertical-align: top;\n",
       "    }\n",
       "\n",
       "    .dataframe thead th {\n",
       "        text-align: right;\n",
       "    }\n",
       "</style>\n",
       "<table border=\"1\" class=\"dataframe\">\n",
       "  <thead>\n",
       "    <tr style=\"text-align: right;\">\n",
       "      <th></th>\n",
       "      <th>ID_Zotero</th>\n",
       "      <th>Biblio</th>\n",
       "    </tr>\n",
       "  </thead>\n",
       "  <tbody>\n",
       "    <tr>\n",
       "      <th>0</th>\n",
       "      <td>AJ5ES32P</td>\n",
       "      <td>Akinlotan, M. D., Warne, D. J., Helmstedt, K. J., Vollert, S. A., Chadès, I., Heneghan, R. F., Xiao, H., &amp; Adams, M. P. (2024). Beyond expected values: Making environmental decisions using value of information analysis when measurement outcome matters. Ecological Indicators, 160, 111828. DOI: https://doi.org/10.1016/j.ecolind.2024.111828</td>\n",
       "    </tr>\n",
       "    <tr>\n",
       "      <th>1</th>\n",
       "      <td>6STGMD7P</td>\n",
       "      <td>Alinejadtabrizi, T., Lang, F., Huang, Y., Ackermann, L., Keywood, M., Ayers, G., Krummel, P., Humphries, R., Williams, A. G., Siems, S. T., &amp; Manton, M. (2024). Wet deposition in shallow convection over the Southern Ocean. Npj Climate and Atmospheric Science, 7, 76. DOI: https://doi.org/10.1038/s41612-024-00625-1</td>\n",
       "    </tr>\n",
       "    <tr>\n",
       "      <th>2</th>\n",
       "      <td>C3IU44DS</td>\n",
       "      <td>Duffy, G. A., Montiel, F., Purich, A., &amp; Fraser, C. I. (2024). Emerging long-term trends and interdecadal cycles in Antarctic polynyas. Proceedings of the National Academy of Sciences, 121, e2321595121. DOI: https://doi.org/10.1073/pnas.2321595121</td>\n",
       "    </tr>\n",
       "    <tr>\n",
       "      <th>3</th>\n",
       "      <td>9W4NUD6U</td>\n",
       "      <td>Heidemann, H., Cowan, T., Power, S. B., &amp; Henley, B. J. (2024). Statistical relationships between the interdecadal Pacific oscillation and el niño–southern oscillation. Climate Dynamics, 62, 2499–2515. DOI: https://doi.org/10.1007/s00382-023-07035-8</td>\n",
       "    </tr>\n",
       "    <tr>\n",
       "      <th>4</th>\n",
       "      <td>3TQF57VX</td>\n",
       "      <td>Jansen, M. A. K., Andrady, A. L., Bornman, J. F., Aucamp, P. J., Bais, A. F., Banaszak, A. T., Barnes, P. W., Bernhard, G. H., Bruckman, L. S., Busquets, R., Häder, D.-P., Hanson, M. L., Heikkilä, A. M., Hylander, S., Lucas, R. M., Mackenzie, R., Madronich, S., Neale, P. J., Neale, R. E., … Zhu, L. (2024). Plastics in the environment in the context of UV radiation, climate change and the Montreal Protocol: UNEP Environmental Effects Assessment Panel, Update 2023. Photochemical &amp; Photobiological Sciences. DOI: https://doi.org/10.1007/s43630-024-00552-3</td>\n",
       "    </tr>\n",
       "    <tr>\n",
       "      <th>5</th>\n",
       "      <td>7N9KNCD8</td>\n",
       "      <td>Latombe, G., Boittiaux, P., Hui, C., &amp; McGeoch, M. A. (2024). A kernel integral method to remove biases in estimating trait turnover. Methods in Ecology and Evolution, 2041-210X.14246. DOI: https://doi.org/10.1111/2041-210X.14246</td>\n",
       "    </tr>\n",
       "    <tr>\n",
       "      <th>6</th>\n",
       "      <td>S8VP3FJX</td>\n",
       "      <td>Lee, J. R., Shaw, J. D., Ropert-Coudert, Y., Terauds, A., &amp; Chown, S. L. (2024). Conservation features of the terrestrial Antarctic Peninsula. Ambio. DOI: https://doi.org/10.1007/s13280-024-02009-4</td>\n",
       "    </tr>\n",
       "    <tr>\n",
       "      <th>7</th>\n",
       "      <td>74GEEA3L</td>\n",
       "      <td>Potapov, A. M., Chen, T.-W., Striuchkova, A. V., Alatalo, J. M., Alexandre, D., Arbea, J., Ashton, T., Ashwood, F., Babenko, A. B., Bandyopadhyaya, I., Baretta, C. R. D. M., Baretta, D., Barnes, A. D., Bellini, B. C., Bendjaballah, M., Berg, M. P., Bernava, V., Bokhorst, S., Bokova, A. I., … Scheu, S. (2024). Global fine-resolution data on springtail abundance and community structure. Scientific Data, 11, 22. DOI: https://doi.org/10.1038/s41597-023-02784-x</td>\n",
       "    </tr>\n",
       "    <tr>\n",
       "      <th>8</th>\n",
       "      <td>WDD67AHL</td>\n",
       "      <td>Raniga, D., Amarasingam, N., Sandino, J., Doshi, A., Barthelemy, J., Randall, K., Robinson, S. A., Gonzalez, F., &amp; Bollard, B. (2024). Monitoring of Antarctica’s Fragile Vegetation Using Drone-Based Remote Sensing, Multispectral Imagery and AI. Sensors, 24, 1063. DOI: https://doi.org/10.3390/s24041063</td>\n",
       "    </tr>\n",
       "    <tr>\n",
       "      <th>9</th>\n",
       "      <td>B2KG4UWT</td>\n",
       "      <td>Saunderson, D., Mackintosh, A. N., McCormack, F. S., Jones, R. S., &amp; Van Dalum, C. T. (2024). How Does the Southern Annular Mode Control Surface Melt in East Antarctica? Geophysical Research Letters, 51, e2023GL105475. DOI: https://doi.org/10.1029/2023GL105475</td>\n",
       "    </tr>\n",
       "    <tr>\n",
       "      <th>10</th>\n",
       "      <td>DITPMNUU</td>\n",
       "      <td>Schwindt, E., August, T. A., Vanderhoeven, S., McGeoch, M. A., Bacher, S., Galil, B. S., Genovesi, P., Hulme, P. E., Ikeda, T., Lenzner, B., Nuñez, M. A., Ordonez, A., Pauchard, A., Rahlao, S. J., Renard Truong, T., Roy, H. E., Sankaran, K. V., Seebens, H., Sheppard, A. W., … Meyerson, L. A. (2024). Overwhelming evidence galvanizes a global consensus on the need for action against Invasive Alien Species. Biological Invasions, 26, 621–626. DOI: https://doi.org/10.1007/s10530-023-03209-x</td>\n",
       "    </tr>\n",
       "    <tr>\n",
       "      <th>11</th>\n",
       "      <td>LBTTE837</td>\n",
       "      <td>Stoeckl, N., Adams, V., Baird, R., Boothroyd, A., Costanza, R., Hatton MacDonald, D., Finau, G., Fulton, E. A., King, M. A., Kubiszewski, I., Lannuzel, D., Leane, E., Melbourne-Thomas, J., Neilsen, H., Ooi, C.-S., Raghavan, M., Senigaglia, V., Tian, J., &amp; Yamazaki, S. (2024). Publisher Correction: The value of Antarctic and Southern Ocean ecosystem services. Nature Reviews Earth &amp; Environment, 5, 226–226. DOI: https://doi.org/10.1038/s43017-024-00535-z</td>\n",
       "    </tr>\n",
       "    <tr>\n",
       "      <th>12</th>\n",
       "      <td>HL2ZACXU</td>\n",
       "      <td>Turner, D., Cimoli, E., Lucieer, A., Haynes, R. S., Randall, K., Waterman, M. J., Lucieer, V., &amp; Robinson, S. A. (2024). Mapping water content in drying Antarctic moss communities using UAS ‐borne SWIR imaging spectroscopy. Remote Sensing in Ecology and Conservation, rse2.371. DOI: https://doi.org/10.1002/rse2.371</td>\n",
       "    </tr>\n",
       "    <tr>\n",
       "      <th>13</th>\n",
       "      <td>K2QPD9KY</td>\n",
       "      <td>Varliero, G., Lebre, P. H., Adams, B., Chown, S. L., Convey, P., Dennis, P. G., Fan, D., Ferrari, B., Frey, B., Hogg, I. D., Hopkins, D. W., Kong, W., Makhalanyane, T., Matcher, G., Newsham, K. K., Stevens, M. I., Weigh, K. V., &amp; Cowan, D. A. (2024). Biogeographic survey of soil bacterial communities across Antarctica. Microbiome, 12, 9. DOI: https://doi.org/10.1186/s40168-023-01719-3</td>\n",
       "    </tr>\n",
       "  </tbody>\n",
       "</table>\n",
       "</div>"
      ],
      "text/plain": [
       "   ID_Zotero  \\\n",
       "0   AJ5ES32P   \n",
       "1   6STGMD7P   \n",
       "2   C3IU44DS   \n",
       "3   9W4NUD6U   \n",
       "4   3TQF57VX   \n",
       "5   7N9KNCD8   \n",
       "6   S8VP3FJX   \n",
       "7   74GEEA3L   \n",
       "8   WDD67AHL   \n",
       "9   B2KG4UWT   \n",
       "10  DITPMNUU   \n",
       "11  LBTTE837   \n",
       "12  HL2ZACXU   \n",
       "13  K2QPD9KY   \n",
       "\n",
       "                                                                                                                                                                                                                                                                                                                                                                                                                                                                                                                                                                           Biblio  \n",
       "0                                                                                                                                                                                                                             Akinlotan, M. D., Warne, D. J., Helmstedt, K. J., Vollert, S. A., Chadès, I., Heneghan, R. F., Xiao, H., & Adams, M. P. (2024). Beyond expected values: Making environmental decisions using value of information analysis when measurement outcome matters. Ecological Indicators, 160, 111828. DOI: https://doi.org/10.1016/j.ecolind.2024.111828  \n",
       "1                                                                                                                                                                                                                                                      Alinejadtabrizi, T., Lang, F., Huang, Y., Ackermann, L., Keywood, M., Ayers, G., Krummel, P., Humphries, R., Williams, A. G., Siems, S. T., & Manton, M. (2024). Wet deposition in shallow convection over the Southern Ocean. Npj Climate and Atmospheric Science, 7, 76. DOI: https://doi.org/10.1038/s41612-024-00625-1  \n",
       "2                                                                                                                                                                                                                                                                                                                         Duffy, G. A., Montiel, F., Purich, A., & Fraser, C. I. (2024). Emerging long-term trends and interdecadal cycles in Antarctic polynyas. Proceedings of the National Academy of Sciences, 121, e2321595121. DOI: https://doi.org/10.1073/pnas.2321595121  \n",
       "3                                                                                                                                                                                                                                                                                                                       Heidemann, H., Cowan, T., Power, S. B., & Henley, B. J. (2024). Statistical relationships between the interdecadal Pacific oscillation and el niño–southern oscillation. Climate Dynamics, 62, 2499–2515. DOI: https://doi.org/10.1007/s00382-023-07035-8  \n",
       "4   Jansen, M. A. K., Andrady, A. L., Bornman, J. F., Aucamp, P. J., Bais, A. F., Banaszak, A. T., Barnes, P. W., Bernhard, G. H., Bruckman, L. S., Busquets, R., Häder, D.-P., Hanson, M. L., Heikkilä, A. M., Hylander, S., Lucas, R. M., Mackenzie, R., Madronich, S., Neale, P. J., Neale, R. E., … Zhu, L. (2024). Plastics in the environment in the context of UV radiation, climate change and the Montreal Protocol: UNEP Environmental Effects Assessment Panel, Update 2023. Photochemical & Photobiological Sciences. DOI: https://doi.org/10.1007/s43630-024-00552-3  \n",
       "5                                                                                                                                                                                                                                                                                                                                           Latombe, G., Boittiaux, P., Hui, C., & McGeoch, M. A. (2024). A kernel integral method to remove biases in estimating trait turnover. Methods in Ecology and Evolution, 2041-210X.14246. DOI: https://doi.org/10.1111/2041-210X.14246  \n",
       "6                                                                                                                                                                                                                                                                                                                                                                           Lee, J. R., Shaw, J. D., Ropert-Coudert, Y., Terauds, A., & Chown, S. L. (2024). Conservation features of the terrestrial Antarctic Peninsula. Ambio. DOI: https://doi.org/10.1007/s13280-024-02009-4  \n",
       "7                                                                                                    Potapov, A. M., Chen, T.-W., Striuchkova, A. V., Alatalo, J. M., Alexandre, D., Arbea, J., Ashton, T., Ashwood, F., Babenko, A. B., Bandyopadhyaya, I., Baretta, C. R. D. M., Baretta, D., Barnes, A. D., Bellini, B. C., Bendjaballah, M., Berg, M. P., Bernava, V., Bokhorst, S., Bokova, A. I., … Scheu, S. (2024). Global fine-resolution data on springtail abundance and community structure. Scientific Data, 11, 22. DOI: https://doi.org/10.1038/s41597-023-02784-x  \n",
       "8                                                                                                                                                                                                                                                                  Raniga, D., Amarasingam, N., Sandino, J., Doshi, A., Barthelemy, J., Randall, K., Robinson, S. A., Gonzalez, F., & Bollard, B. (2024). Monitoring of Antarctica’s Fragile Vegetation Using Drone-Based Remote Sensing, Multispectral Imagery and AI. Sensors, 24, 1063. DOI: https://doi.org/10.3390/s24041063  \n",
       "9                                                                                                                                                                                                                                                                                                            Saunderson, D., Mackintosh, A. N., McCormack, F. S., Jones, R. S., & Van Dalum, C. T. (2024). How Does the Southern Annular Mode Control Surface Melt in East Antarctica? Geophysical Research Letters, 51, e2023GL105475. DOI: https://doi.org/10.1029/2023GL105475  \n",
       "10                                                                     Schwindt, E., August, T. A., Vanderhoeven, S., McGeoch, M. A., Bacher, S., Galil, B. S., Genovesi, P., Hulme, P. E., Ikeda, T., Lenzner, B., Nuñez, M. A., Ordonez, A., Pauchard, A., Rahlao, S. J., Renard Truong, T., Roy, H. E., Sankaran, K. V., Seebens, H., Sheppard, A. W., … Meyerson, L. A. (2024). Overwhelming evidence galvanizes a global consensus on the need for action against Invasive Alien Species. Biological Invasions, 26, 621–626. DOI: https://doi.org/10.1007/s10530-023-03209-x  \n",
       "11                                                                                                       Stoeckl, N., Adams, V., Baird, R., Boothroyd, A., Costanza, R., Hatton MacDonald, D., Finau, G., Fulton, E. A., King, M. A., Kubiszewski, I., Lannuzel, D., Leane, E., Melbourne-Thomas, J., Neilsen, H., Ooi, C.-S., Raghavan, M., Senigaglia, V., Tian, J., & Yamazaki, S. (2024). Publisher Correction: The value of Antarctic and Southern Ocean ecosystem services. Nature Reviews Earth & Environment, 5, 226–226. DOI: https://doi.org/10.1038/s43017-024-00535-z  \n",
       "12                                                                                                                                                                                                                                                    Turner, D., Cimoli, E., Lucieer, A., Haynes, R. S., Randall, K., Waterman, M. J., Lucieer, V., & Robinson, S. A. (2024). Mapping water content in drying Antarctic moss communities using UAS ‐borne SWIR imaging spectroscopy. Remote Sensing in Ecology and Conservation, rse2.371. DOI: https://doi.org/10.1002/rse2.371  \n",
       "13                                                                                                                                                                            Varliero, G., Lebre, P. H., Adams, B., Chown, S. L., Convey, P., Dennis, P. G., Fan, D., Ferrari, B., Frey, B., Hogg, I. D., Hopkins, D. W., Kong, W., Makhalanyane, T., Matcher, G., Newsham, K. K., Stevens, M. I., Weigh, K. V., & Cowan, D. A. (2024). Biogeographic survey of soil bacterial communities across Antarctica. Microbiome, 12, 9. DOI: https://doi.org/10.1186/s40168-023-01719-3  "
      ]
     },
     "execution_count": 15,
     "metadata": {},
     "output_type": "execute_result"
    }
   ],
   "source": [
    "biblio"
   ]
  }
 ],
 "metadata": {
  "kernelspec": {
   "display_name": "base",
   "language": "python",
   "name": "python3"
  },
  "language_info": {
   "codemirror_mode": {
    "name": "ipython",
    "version": 3
   },
   "file_extension": ".py",
   "mimetype": "text/x-python",
   "name": "python",
   "nbconvert_exporter": "python",
   "pygments_lexer": "ipython3",
   "version": "3.9.18"
  },
  "orig_nbformat": 4
 },
 "nbformat": 4,
 "nbformat_minor": 2
}
