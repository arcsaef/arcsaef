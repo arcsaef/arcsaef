{
 "cells": [
  {
   "cell_type": "code",
   "execution_count": 2,
   "metadata": {},
   "outputs": [],
   "source": [
    "import importlib\n",
    "import sqlite3\n",
    "import pandas as pd\n",
    "from lib import kpi"
   ]
  },
  {
   "cell_type": "code",
   "execution_count": 3,
   "metadata": {},
   "outputs": [
    {
     "data": {
      "text/plain": [
       "<module 'lib.kpi' from 'c:\\\\workspace\\\\GitHub\\\\arcsaef\\\\lib\\\\kpi.py'>"
      ]
     },
     "execution_count": 3,
     "metadata": {},
     "output_type": "execute_result"
    }
   ],
   "source": [
    "importlib.reload(kpi)"
   ]
  },
  {
   "cell_type": "code",
   "execution_count": 4,
   "metadata": {},
   "outputs": [],
   "source": [
    "data           = kpi.load_data()\n",
    "rpt_config     = kpi.get_rpt_args()\n",
    "saef_library   = kpi.get_saef_library()\n",
    "responses_json = kpi.split_response(data[0])\n",
    "ppl_collection = kpi.person_construct(responses_json, data[2], rpt_config[0])\n",
    "proj_saef      = kpi.project_construct(responses_json, ppl_collection[0])\n",
    "buckets        = kpi.matched_library(saef_library, ppl_collection[1])\n",
    "templates      = kpi.load_templates()\n",
    "meta_bucket    = buckets[0]\n",
    "bucket         = buckets[1]\n",
    "ppl_saef       = dict(sorted(ppl_collection[0].items(), key = lambda x: x[1].get('LastName')))\n",
    "ppl_hash       = ppl_collection[1]\n",
    "bulk_responses = data[0]\n",
    "biblio         = data[1]\n",
    "scopus         = data[2]\n",
    "rpt_year       = rpt_config[0]\n",
    "organisations  = rpt_config[1]\n",
    "org_shortnames = list(organisations.keys())\n",
    "proj_saef_nohold = proj_saef[proj_saef.Status != 'On hold']"
   ]
  },
  {
   "cell_type": "code",
   "execution_count": 197,
   "metadata": {},
   "outputs": [],
   "source": [
    "# 1.remove empty rows\n",
    "bucket = bucket[bucket['id_person'].isna() == False]\n",
    "# 2. Make parsing more straight forward\n",
    "for prsn in ppl_saef:\n",
    "    if ppl_saef[prsn]['Gender'] == 'Non-binary/Gender diverse' or  ppl_saef[prsn]['Gender']  == 'Prefer not to say' or ppl_saef[prsn]['Gender'] == 'Non-binary':\n",
    "        ppl_saef[prsn]['Gender'] = 'Unspecified diversity'\n",
    "# 3. Remove leading/trialing whitespace from  blibliographic entry.\n",
    "biblio['Biblio'] = biblio['Biblio'].str.strip()\n",
    "# 4. Jump into your pedantry\n",
    "for prsn in ppl_saef:\n",
    "    if ppl_saef[prsn]['Position'] != 'PhD Student' and  ppl_saef[prsn]['Position'] != 'Masters Student' and \\\n",
    "       ppl_saef[prsn]['Position'] != 'Honours Student':\n",
    "        ppl_saef[prsn]['StudentProjectTitle'] = 'Not applicable'"
   ]
  },
  {
   "cell_type": "code",
   "execution_count": 198,
   "metadata": {},
   "outputs": [],
   "source": [
    "active_ppl_saef = {}\n",
    "for p in ppl_saef:\n",
    "    if ppl_saef[p]['State'] == 'Active' and ppl_saef[p]['Gender'] != '':\n",
    "        if ppl_saef[p]['Position'] in [ 'Research Professional', 'PhD Student', 'Chief Investigator', 'Partner Investigator', 'Post Doc']:\n",
    "            position = 'Researcher'\n",
    "        else: \n",
    "            position = ppl_saef[p]['Position']\n",
    "\n",
    "        active_ppl_saef[p] = {\n",
    "            'FirstName':    ppl_saef[p]['FirstName'] , \n",
    "            'LastName':     ppl_saef[p]['LastName'],\n",
    "            'Gender':       ppl_saef[p]['Gender'],\n",
    "            'Position':     position}       \n"
   ]
  },
  {
   "cell_type": "code",
   "execution_count": 199,
   "metadata": {},
   "outputs": [],
   "source": [
    "positions = []\n",
    "for p in active_ppl_saef:\n",
    "    if active_ppl_saef[p]['Position'] in ['Program Staff', 'Researcher']:\n",
    "        row = [active_ppl_saef[p]['FirstName'], active_ppl_saef[p]['LastName'], active_ppl_saef[p]['Gender'], active_ppl_saef[p]['Position'] ]\n",
    "        positions.append(row)"
   ]
  },
  {
   "cell_type": "code",
   "execution_count": 200,
   "metadata": {},
   "outputs": [],
   "source": [
    "for p in active_ppl_saef:\n",
    "    for s in responses_json['People_Detail']['data']:\n",
    "        if s['fieldData']['ID_Person'] == p:\n",
    "            if len(s['portalData']['people_Groups']) > 0:\n",
    "                for i in s['portalData']['people_Groups']:\n",
    "                    if i.get('people_Groups::Group') in ['Governance Advisory Board', 'International Science Advisory Panel', 'Program Executive Group']:\n",
    "                        row = [ active_ppl_saef[p]['FirstName'], active_ppl_saef[p]['LastName'], active_ppl_saef[p]['Gender'], i.get('people_Groups::Group') ]\n",
    "                        positions.append(row)\n"
   ]
  },
  {
   "cell_type": "code",
   "execution_count": 201,
   "metadata": {},
   "outputs": [],
   "source": [
    "df = pd.DataFrame(positions, columns=['FirstName', 'LastName','Gender', 'Position'])\n",
    "\n"
   ]
  },
  {
   "cell_type": "code",
   "execution_count": 202,
   "metadata": {},
   "outputs": [
    {
     "data": {
      "text/plain": [
       "Position                              Gender               \n",
       "Governance Advisory Board             Man                       4\n",
       "                                      Woman                     4\n",
       "International Science Advisory Panel  Man                       6\n",
       "                                      Woman                     8\n",
       "Program Executive Group               Man                       5\n",
       "                                      Woman                     9\n",
       "Program Staff                         Man                       2\n",
       "                                      Unspecified diversity     1\n",
       "                                      Woman                     7\n",
       "Researcher                            Man                      54\n",
       "                                      Unspecified diversity     3\n",
       "                                      Woman                    63\n",
       "Name: Gender, dtype: int64"
      ]
     },
     "execution_count": 202,
     "metadata": {},
     "output_type": "execute_result"
    }
   ],
   "source": [
    "df.groupby(['Position', 'Gender'])['Gender'].count()"
   ]
  },
  {
   "cell_type": "markdown",
   "metadata": {},
   "source": []
  },
  {
   "cell_type": "code",
   "execution_count": 4,
   "metadata": {},
   "outputs": [
    {
     "data": {
      "text/plain": [
       "<sqlite3.Cursor at 0x17e318a95e0>"
      ]
     },
     "execution_count": 4,
     "metadata": {},
     "output_type": "execute_result"
    }
   ],
   "source": [
    "con = sqlite3.connect(\":memory:\")\n",
    "cur = con.cursor()\n",
    "cur.execute(\"create table logistics (ID_Logistics, FieldSeason, PlanningStatus, Location, ReqPersonTotal, FinalPersonTotal, LeaveDate, ReturnDate, FinalPersonDays, FieldStatus)\")\n",
    "cur.execute(\"create table people_logistics (IDf_Logistics, IDf_Person, FullName, LeaveDate, ReturnDate, PersonDays, CareerStage, Gender, Org)\")\n",
    "cur.execute(\"create table logistics_projects (IDf_Logistics, IDf_Project, IDf_Person, ProjectCode, ProjectPercentage)\")"
   ]
  },
  {
   "cell_type": "code",
   "execution_count": 5,
   "metadata": {},
   "outputs": [],
   "source": [
    "# populate logistics table\n",
    "for x in responses_json['Logistics_Detail']['data']:\n",
    "    cur.execute(\"insert into logistics values (?,?,?,?,?,?,?,?,?,?)\", \n",
    "          (x['fieldData']['ID_Logistics'],    x['fieldData']['FieldSeason'], \\\n",
    "           x['fieldData']['PlanningStatus'],  x['fieldData']['Location'], \\\n",
    "           x['fieldData']['ReqPersonTotal'],  x['fieldData']['FinalPersonTotal'], \\\n",
    "           x['fieldData']['LeaveDate'],       x['fieldData']['ReturnDate'], \\\n",
    "           x['fieldData']['FinalPersonDays'], x['fieldData']['FieldStatus']) )"
   ]
  },
  {
   "cell_type": "code",
   "execution_count": 8,
   "metadata": {},
   "outputs": [],
   "source": [
    "# populate people_Logistics table\n",
    "for x in responses_json['people_Logistics']['data']:\n",
    "    cur.execute(\"insert into people_logistics values (?,?,?,?,?,?,?,?,?)\", \n",
    "          (x['fieldData']['IDf_logistics'],       x['fieldData']['IDf_Person'], \\\n",
    "           x['fieldData']['People::FullName'],    x['fieldData']['DateFrom'], \\\n",
    "           x['fieldData']['DateTo'],              x['fieldData']['PersonDays'], \\\n",
    "           x['fieldData']['People::CareerStage'], x['fieldData']['People::Gender'], \\\n",
    "           x['fieldData']['Organisations 2::ShortName']) )"
   ]
  },
  {
   "cell_type": "code",
   "execution_count": 151,
   "metadata": {},
   "outputs": [],
   "source": [
    "# Incorrect linkage in a layout meant that some of the researcher didn't have an Org affiliation.\n",
    "# This has been fixed in FM. This code section will not be required after the next FM data export\n",
    "# update_statement = \"UPDATE people_Logistics SET Org=? WHERE IDf_Person=?\"\n",
    "# for person in ppl_saef:\n",
    "#     cur.execute(update_statement, (ppl_saef.get(person)['Org'], person))\n",
    "#     con.commit()\n"
   ]
  },
  {
   "cell_type": "code",
   "execution_count": 9,
   "metadata": {},
   "outputs": [],
   "source": [
    "# populate logistics_projects table\n",
    "for x in responses_json['logistics_Projects']['data']:\n",
    "    cur.execute(\"insert into logistics_projects values (?,?,?,?,?)\", \n",
    "          (x['fieldData']['IDf_Project'],       x['fieldData']['IDf_Logistics'], \\\n",
    "           x['fieldData']['IDf_Person'],        x['fieldData']['Projects 3::ProjectCode'], \\\n",
    "           x['fieldData']['ProjectPercentage']) )"
   ]
  },
  {
   "cell_type": "code",
   "execution_count": 12,
   "metadata": {},
   "outputs": [
    {
     "data": {
      "text/html": [
       "<div>\n",
       "<style scoped>\n",
       "    .dataframe tbody tr th:only-of-type {\n",
       "        vertical-align: middle;\n",
       "    }\n",
       "\n",
       "    .dataframe tbody tr th {\n",
       "        vertical-align: top;\n",
       "    }\n",
       "\n",
       "    .dataframe thead th {\n",
       "        text-align: right;\n",
       "    }\n",
       "</style>\n",
       "<table border=\"1\" class=\"dataframe\">\n",
       "  <thead>\n",
       "    <tr style=\"text-align: right;\">\n",
       "      <th></th>\n",
       "      <th>Gender</th>\n",
       "      <th>Total</th>\n",
       "    </tr>\n",
       "  </thead>\n",
       "  <tbody>\n",
       "    <tr>\n",
       "      <th>0</th>\n",
       "      <td>Non-binary</td>\n",
       "      <td>1</td>\n",
       "    </tr>\n",
       "    <tr>\n",
       "      <th>1</th>\n",
       "      <td></td>\n",
       "      <td>4</td>\n",
       "    </tr>\n",
       "    <tr>\n",
       "      <th>2</th>\n",
       "      <td>Man</td>\n",
       "      <td>13</td>\n",
       "    </tr>\n",
       "    <tr>\n",
       "      <th>3</th>\n",
       "      <td>Woman</td>\n",
       "      <td>16</td>\n",
       "    </tr>\n",
       "    <tr>\n",
       "      <th>4</th>\n",
       "      <td>-</td>\n",
       "      <td>34</td>\n",
       "    </tr>\n",
       "  </tbody>\n",
       "</table>\n",
       "</div>"
      ],
      "text/plain": [
       "       Gender  Total\n",
       "0  Non-binary      1\n",
       "1                  4\n",
       "2         Man     13\n",
       "3       Woman     16\n",
       "4           -     34"
      ]
     },
     "execution_count": 12,
     "metadata": {},
     "output_type": "execute_result"
    }
   ],
   "source": [
    "# Gender breakdown of completed expeditions\n",
    "pd.read_sql_query(\"select a.Gender, count(a.Gender) as Total from people_logistics a \\\n",
    "                  join logistics b on a.IDf_Logistics = b.ID_Logistics \\\n",
    "                  where b.FieldStatus ='Completed' and a.CareerStage not like 'Field%'\\\n",
    "                  group by a.Gender \\\n",
    "                  union \\\n",
    "                  select '-', count(a.Gender) as Total from people_logistics a \\\n",
    "                  join logistics b on a.IDf_Logistics = b.ID_Logistics \\\n",
    "                  where b.FieldStatus ='Completed' and a.CareerStage not like 'Field%' \\\n",
    "                  order by 2\" , con )\n"
   ]
  },
  {
   "cell_type": "code",
   "execution_count": 11,
   "metadata": {},
   "outputs": [
    {
     "data": {
      "text/html": [
       "<div>\n",
       "<style scoped>\n",
       "    .dataframe tbody tr th:only-of-type {\n",
       "        vertical-align: middle;\n",
       "    }\n",
       "\n",
       "    .dataframe tbody tr th {\n",
       "        vertical-align: top;\n",
       "    }\n",
       "\n",
       "    .dataframe thead th {\n",
       "        text-align: right;\n",
       "    }\n",
       "</style>\n",
       "<table border=\"1\" class=\"dataframe\">\n",
       "  <thead>\n",
       "    <tr style=\"text-align: right;\">\n",
       "      <th></th>\n",
       "      <th>CareerStage</th>\n",
       "      <th>Total</th>\n",
       "    </tr>\n",
       "  </thead>\n",
       "  <tbody>\n",
       "    <tr>\n",
       "      <th>0</th>\n",
       "      <td>Early Career (&lt;5yrs post PhD)</td>\n",
       "      <td>1</td>\n",
       "    </tr>\n",
       "    <tr>\n",
       "      <th>1</th>\n",
       "      <td>Senior Researcher</td>\n",
       "      <td>1</td>\n",
       "    </tr>\n",
       "    <tr>\n",
       "      <th>2</th>\n",
       "      <td>Student</td>\n",
       "      <td>1</td>\n",
       "    </tr>\n",
       "    <tr>\n",
       "      <th>3</th>\n",
       "      <td>Mid Career (5-15yrs post PhD)</td>\n",
       "      <td>2</td>\n",
       "    </tr>\n",
       "    <tr>\n",
       "      <th>4</th>\n",
       "      <td>Professional</td>\n",
       "      <td>2</td>\n",
       "    </tr>\n",
       "    <tr>\n",
       "      <th>5</th>\n",
       "      <td>-</td>\n",
       "      <td>7</td>\n",
       "    </tr>\n",
       "  </tbody>\n",
       "</table>\n",
       "</div>"
      ],
      "text/plain": [
       "                     CareerStage  Total\n",
       "0  Early Career (<5yrs post PhD)      1\n",
       "1              Senior Researcher      1\n",
       "2                        Student      1\n",
       "3  Mid Career (5-15yrs post PhD)      2\n",
       "4                   Professional      2\n",
       "5                              -      7"
      ]
     },
     "execution_count": 11,
     "metadata": {},
     "output_type": "execute_result"
    }
   ],
   "source": [
    "# Career stage breakdown of completed projects\n",
    "pd.read_sql_query(\"select a.CareerStage, count(a.CareerStage) as Total from people_logistics a \\\n",
    "            join logistics b on a.IDf_Logistics = b.ID_Logistics where b.FieldStatus ='Completed' \\\n",
    "            and  b.FieldSeason = '2021/22' and a.CareerStage not like 'Field%'\\\n",
    "            group by a.CareerStage \\\n",
    "            union \\\n",
    "            select '-', count(a.CareerStage) as Total from people_logistics a \\\n",
    "            join logistics b on a.IDf_Logistics = b.ID_Logistics where b.FieldStatus ='Completed' \\\n",
    "            and  FieldSeason = '2021/22' and a.CareerStage not like 'Field%' \\\n",
    "            order by 2\", con )\n"
   ]
  },
  {
   "cell_type": "code",
   "execution_count": 21,
   "metadata": {},
   "outputs": [
    {
     "data": {
      "text/html": [
       "<div>\n",
       "<style scoped>\n",
       "    .dataframe tbody tr th:only-of-type {\n",
       "        vertical-align: middle;\n",
       "    }\n",
       "\n",
       "    .dataframe tbody tr th {\n",
       "        vertical-align: top;\n",
       "    }\n",
       "\n",
       "    .dataframe thead th {\n",
       "        text-align: right;\n",
       "    }\n",
       "</style>\n",
       "<table border=\"1\" class=\"dataframe\">\n",
       "  <thead>\n",
       "    <tr style=\"text-align: right;\">\n",
       "      <th></th>\n",
       "      <th>Organisation</th>\n",
       "      <th>Total</th>\n",
       "      <th>Percent</th>\n",
       "    </tr>\n",
       "  </thead>\n",
       "  <tbody>\n",
       "    <tr>\n",
       "      <th>0</th>\n",
       "      <td>GA</td>\n",
       "      <td>1</td>\n",
       "      <td>3.0</td>\n",
       "    </tr>\n",
       "    <tr>\n",
       "      <th>1</th>\n",
       "      <td>La Trobe</td>\n",
       "      <td>2</td>\n",
       "      <td>6.0</td>\n",
       "    </tr>\n",
       "    <tr>\n",
       "      <th>2</th>\n",
       "      <td>AUT</td>\n",
       "      <td>3</td>\n",
       "      <td>9.0</td>\n",
       "    </tr>\n",
       "    <tr>\n",
       "      <th>3</th>\n",
       "      <td>UOW</td>\n",
       "      <td>6</td>\n",
       "      <td>18.0</td>\n",
       "    </tr>\n",
       "    <tr>\n",
       "      <th>4</th>\n",
       "      <td>QUT</td>\n",
       "      <td>9</td>\n",
       "      <td>26.0</td>\n",
       "    </tr>\n",
       "    <tr>\n",
       "      <th>5</th>\n",
       "      <td>Monash</td>\n",
       "      <td>13</td>\n",
       "      <td>38.0</td>\n",
       "    </tr>\n",
       "    <tr>\n",
       "      <th>6</th>\n",
       "      <td>-</td>\n",
       "      <td>34</td>\n",
       "      <td>100.0</td>\n",
       "    </tr>\n",
       "  </tbody>\n",
       "</table>\n",
       "</div>"
      ],
      "text/plain": [
       "  Organisation  Total Percent\n",
       "0           GA      1     3.0\n",
       "1     La Trobe      2     6.0\n",
       "2          AUT      3     9.0\n",
       "3          UOW      6    18.0\n",
       "4          QUT      9    26.0\n",
       "5       Monash     13    38.0\n",
       "6            -     34   100.0"
      ]
     },
     "execution_count": 21,
     "metadata": {},
     "output_type": "execute_result"
    }
   ],
   "source": [
    "# Career stage breakdown of completed projects\n",
    "                #   --100.0 * count(a.Org) / (select count(*) from people_logistics) \\\n",
    "pd.read_sql_query(\"select a.Org as Organisation, count(a.Org) as Total, \\\n",
    "                  round(100.0 * count(a.Org) / (select count(a.Org) from people_logistics a \\\n",
    "                  join logistics b on a.IDf_Logistics = b.ID_Logistics \\\n",
    "                  where b.FieldStatus ='Completed' and a.CareerStage not like 'Field%' ), 0) as Percent \\\n",
    "                  from people_logistics a \\\n",
    "                  join logistics b on a.IDf_Logistics = b.ID_Logistics \\\n",
    "                  where b.FieldStatus ='Completed' and a.CareerStage not like 'Field%' \\\n",
    "                  group by a.Org \\\n",
    "                  union \\\n",
    "                  select '-', count(a.Org), '100.0' from people_logistics a \\\n",
    "                  join logistics b on a.IDf_Logistics = b.ID_Logistics \\\n",
    "                  where b.FieldStatus ='Completed' and a.CareerStage not like 'Field%' \\\n",
    "                  order by 2\", con )\n"
   ]
  },
  {
   "cell_type": "code",
   "execution_count": 185,
   "metadata": {},
   "outputs": [],
   "source": [
    "con.close()"
   ]
  }
 ],
 "metadata": {
  "kernelspec": {
   "display_name": "base",
   "language": "python",
   "name": "python3"
  },
  "language_info": {
   "codemirror_mode": {
    "name": "ipython",
    "version": 3
   },
   "file_extension": ".py",
   "mimetype": "text/x-python",
   "name": "python",
   "nbconvert_exporter": "python",
   "pygments_lexer": "ipython3",
   "version": "3.9.18"
  },
  "orig_nbformat": 4
 },
 "nbformat": 4,
 "nbformat_minor": 2
}
