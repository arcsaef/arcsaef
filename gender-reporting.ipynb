{
 "cells": [
  {
   "cell_type": "code",
   "execution_count": 2,
   "metadata": {},
   "outputs": [],
   "source": [
    "import importlib\n",
    "import sqlite3\n",
    "import pandas as pd\n",
    "from lib import kpi"
   ]
  },
  {
   "cell_type": "code",
   "execution_count": 3,
   "metadata": {},
   "outputs": [
    {
     "data": {
      "text/plain": [
       "<module 'lib.kpi' from 'c:\\\\workspace\\\\GitHub\\\\arcsaef\\\\lib\\\\kpi.py'>"
      ]
     },
     "execution_count": 3,
     "metadata": {},
     "output_type": "execute_result"
    }
   ],
   "source": [
    "importlib.reload(kpi)"
   ]
  },
  {
   "cell_type": "code",
   "execution_count": 4,
   "metadata": {},
   "outputs": [],
   "source": [
    "data           = kpi.load_data()\n",
    "rpt_config     = kpi.get_rpt_args()\n",
    "saef_library   = kpi.get_saef_library()\n",
    "responses_json = kpi.split_response(data[0])\n",
    "ppl_collection = kpi.person_construct(responses_json, data[2], rpt_config[0])\n",
    "proj_saef      = kpi.project_construct(responses_json, ppl_collection[0])\n",
    "buckets        = kpi.matched_library(saef_library, ppl_collection[1])\n",
    "templates      = kpi.load_templates()\n",
    "meta_bucket    = buckets[0]\n",
    "bucket         = buckets[1]\n",
    "ppl_saef       = dict(sorted(ppl_collection[0].items(), key = lambda x: x[1].get('LastName')))\n",
    "ppl_hash       = ppl_collection[1]\n",
    "bulk_responses = data[0]\n",
    "biblio         = data[1]\n",
    "scopus         = data[2]\n",
    "rpt_year       = rpt_config[0]\n",
    "organisations  = rpt_config[1]\n",
    "org_shortnames = list(organisations.keys())\n",
    "proj_saef_nohold = proj_saef[proj_saef.Status != 'On hold']"
   ]
  },
  {
   "cell_type": "code",
   "execution_count": 197,
   "metadata": {},
   "outputs": [],
   "source": [
    "# 1.remove empty rows\n",
    "bucket = bucket[bucket['id_person'].isna() == False]\n",
    "# 2. Make parsing more straight forward\n",
    "for prsn in ppl_saef:\n",
    "    if ppl_saef[prsn]['Gender'] == 'Non-binary/Gender diverse' or  ppl_saef[prsn]['Gender']  == 'Prefer not to say' or ppl_saef[prsn]['Gender'] == 'Non-binary':\n",
    "        ppl_saef[prsn]['Gender'] = 'Unspecified diversity'\n",
    "# 3. Remove leading/trialing whitespace from  blibliographic entry.\n",
    "biblio['Biblio'] = biblio['Biblio'].str.strip()\n",
    "# 4. Jump into your pedantry\n",
    "for prsn in ppl_saef:\n",
    "    if ppl_saef[prsn]['Position'] != 'PhD Student' and  ppl_saef[prsn]['Position'] != 'Masters Student' and \\\n",
    "       ppl_saef[prsn]['Position'] != 'Honours Student':\n",
    "        ppl_saef[prsn]['StudentProjectTitle'] = 'Not applicable'"
   ]
  },
  {
   "cell_type": "code",
   "execution_count": 198,
   "metadata": {},
   "outputs": [],
   "source": [
    "active_ppl_saef = {}\n",
    "for p in ppl_saef:\n",
    "    if ppl_saef[p]['State'] == 'Active' and ppl_saef[p]['Gender'] != '':\n",
    "        if ppl_saef[p]['Position'] in [ 'Research Professional', 'PhD Student', 'Chief Investigator', 'Partner Investigator', 'Post Doc']:\n",
    "            position = 'Researcher'\n",
    "        else: \n",
    "            position = ppl_saef[p]['Position']\n",
    "\n",
    "        active_ppl_saef[p] = {\n",
    "            'FirstName':    ppl_saef[p]['FirstName'] , \n",
    "            'LastName':     ppl_saef[p]['LastName'],\n",
    "            'Gender':       ppl_saef[p]['Gender'],\n",
    "            'Position':     position}       \n"
   ]
  },
  {
   "cell_type": "code",
   "execution_count": 199,
   "metadata": {},
   "outputs": [],
   "source": [
    "positions = []\n",
    "for p in active_ppl_saef:\n",
    "    if active_ppl_saef[p]['Position'] in ['Program Staff', 'Researcher']:\n",
    "        row = [active_ppl_saef[p]['FirstName'], active_ppl_saef[p]['LastName'], active_ppl_saef[p]['Gender'], active_ppl_saef[p]['Position'] ]\n",
    "        positions.append(row)"
   ]
  },
  {
   "cell_type": "code",
   "execution_count": 200,
   "metadata": {},
   "outputs": [],
   "source": [
    "for p in active_ppl_saef:\n",
    "    for s in responses_json['People_Detail']['data']:\n",
    "        if s['fieldData']['ID_Person'] == p:\n",
    "            if len(s['portalData']['people_Groups']) > 0:\n",
    "                for i in s['portalData']['people_Groups']:\n",
    "                    if i.get('people_Groups::Group') in ['Governance Advisory Board', 'International Science Advisory Panel', 'Program Executive Group']:\n",
    "                        row = [ active_ppl_saef[p]['FirstName'], active_ppl_saef[p]['LastName'], active_ppl_saef[p]['Gender'], i.get('people_Groups::Group') ]\n",
    "                        positions.append(row)\n"
   ]
  },
  {
   "cell_type": "code",
   "execution_count": 201,
   "metadata": {},
   "outputs": [],
   "source": [
    "df = pd.DataFrame(positions, columns=['FirstName', 'LastName','Gender', 'Position'])\n",
    "\n"
   ]
  },
  {
   "cell_type": "code",
   "execution_count": 202,
   "metadata": {},
   "outputs": [
    {
     "data": {
      "text/plain": [
       "Position                              Gender               \n",
       "Governance Advisory Board             Man                       4\n",
       "                                      Woman                     4\n",
       "International Science Advisory Panel  Man                       6\n",
       "                                      Woman                     8\n",
       "Program Executive Group               Man                       5\n",
       "                                      Woman                     9\n",
       "Program Staff                         Man                       2\n",
       "                                      Unspecified diversity     1\n",
       "                                      Woman                     7\n",
       "Researcher                            Man                      54\n",
       "                                      Unspecified diversity     3\n",
       "                                      Woman                    63\n",
       "Name: Gender, dtype: int64"
      ]
     },
     "execution_count": 202,
     "metadata": {},
     "output_type": "execute_result"
    }
   ],
   "source": [
    "df.groupby(['Position', 'Gender'])['Gender'].count()"
   ]
  },
  {
   "cell_type": "markdown",
   "metadata": {},
   "source": []
  }
 ],
 "metadata": {
  "kernelspec": {
   "display_name": "base",
   "language": "python",
   "name": "python3"
  },
  "language_info": {
   "codemirror_mode": {
    "name": "ipython",
    "version": 3
   },
   "file_extension": ".py",
   "mimetype": "text/x-python",
   "name": "python",
   "nbconvert_exporter": "python",
   "pygments_lexer": "ipython3",
   "version": "3.9.18"
  },
  "orig_nbformat": 4
 },
 "nbformat": 4,
 "nbformat_minor": 2
}
